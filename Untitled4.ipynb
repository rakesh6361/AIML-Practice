{
 "cells": [
  {
   "cell_type": "code",
   "execution_count": 49,
   "id": "47ffc0e3-ee00-47d6-9bcd-8de8dd97c49b",
   "metadata": {},
   "outputs": [],
   "source": [
    "import pandas as pd\n",
    "import numpy as np"
   ]
  },
  {
   "cell_type": "code",
   "execution_count": 50,
   "id": "232237a3-3f24-4936-8847-1184cb2edc72",
   "metadata": {},
   "outputs": [
    {
     "data": {
      "text/plain": [
       "DatetimeIndex(['2024-01-01', '2024-01-02', '2024-01-03', '2024-01-04'], dtype='datetime64[ns]', freq='D')"
      ]
     },
     "execution_count": 50,
     "metadata": {},
     "output_type": "execute_result"
    }
   ],
   "source": [
    "date=pd.date_range(start=\"2024\",periods=4,freq=\"D\")\n",
    "date"
   ]
  },
  {
   "cell_type": "code",
   "execution_count": 51,
   "id": "068b733e-714f-4a44-886e-2013318f76e0",
   "metadata": {},
   "outputs": [
    {
     "name": "stdout",
     "output_type": "stream",
     "text": [
      "        Date      Event   cost\n",
      "0 2024-01-01    marrage  50000\n",
      "1 2024-01-02  resiption  35000\n",
      "2 2024-01-03    nameing  10000\n",
      "3 2024-01-04   birthady   5000\n"
     ]
    }
   ],
   "source": [
    "data={\n",
    "    \"Date\":date,\n",
    "    \"Event\":['marrage','resiption','nameing','birthady'],\n",
    "    \"cost\":[50000,35000,10000,5000]\n",
    "}\n",
    "df=pd.DataFrame(data)\n",
    "print(df)\n",
    "    "
   ]
  },
  {
   "cell_type": "markdown",
   "id": "152ca044-2962-4b73-9758-e0f1e7684d50",
   "metadata": {},
   "source": [
    "## a) add two new coloums discount,discountprize"
   ]
  },
  {
   "cell_type": "code",
   "execution_count": 52,
   "id": "d0144ec5-3e52-4e21-94a6-9072b4af11a8",
   "metadata": {},
   "outputs": [
    {
     "name": "stdout",
     "output_type": "stream",
     "text": [
      "        Date      Event   cost  Discount_prize\n",
      "0 2024-01-01    marrage  50000          5000.0\n",
      "1 2024-01-02  resiption  35000          3500.0\n",
      "2 2024-01-03    nameing  10000          1000.0\n",
      "3 2024-01-04   birthady   5000           500.0\n"
     ]
    }
   ],
   "source": [
    "df['Discount_prize']=df['cost']* 0.1\n",
    "print(df)"
   ]
  },
  {
   "cell_type": "code",
   "execution_count": 53,
   "id": "5b9772b5-6675-4a8e-aec0-1e96a943f3cc",
   "metadata": {},
   "outputs": [
    {
     "name": "stdout",
     "output_type": "stream",
     "text": [
      "        Date      Event   cost  Discount_prize  discount\n",
      "0 2024-01-01    marrage  50000          5000.0   45000.0\n",
      "1 2024-01-02  resiption  35000          3500.0   31500.0\n",
      "2 2024-01-03    nameing  10000          1000.0    9000.0\n",
      "3 2024-01-04   birthady   5000           500.0    4500.0\n"
     ]
    }
   ],
   "source": [
    "df['discount']=df['cost'] -df['Discount_prize']\n",
    "print(df)"
   ]
  },
  {
   "cell_type": "markdown",
   "id": "7e90ee4a-a09c-4fad-bc5d-aea63392471b",
   "metadata": {},
   "source": [
    "## b) add two more events data objects to the data "
   ]
  },
  {
   "cell_type": "code",
   "execution_count": 54,
   "id": "1fc45b1a-dd67-47cd-80da-fe40c8589be2",
   "metadata": {},
   "outputs": [],
   "source": [
    "df.loc[len(df)] = {\n",
    "    'Date': '2024-01-05',\n",
    "    'Event': 'conference',\n",
    "    'cost': 40000,\n",
    "    'Discount_prize': 40000 * 0.1,     \n",
    "    'discount': 40000 - 40000 * 0.1 \n",
    "}\n",
    "\n",
    "df.loc[len(df)] = {\n",
    "    'Date': '2024-01-06',\n",
    "    'Event': 'workshop',\n",
    "    'cost': 15000,\n",
    "    'Discount_prize': 15000 * 0.1,\n",
    "    'discount': 15000 - 15000 * 0.1   \n",
    "}"
   ]
  },
  {
   "cell_type": "code",
   "execution_count": 55,
   "id": "939c59a9-0648-4751-ba3a-96ed2124f6b4",
   "metadata": {},
   "outputs": [
    {
     "name": "stdout",
     "output_type": "stream",
     "text": [
      "                  Date       Event   cost  Discount_prize  discount\n",
      "0  2024-01-01 00:00:00     marrage  50000          5000.0   45000.0\n",
      "1  2024-01-02 00:00:00   resiption  35000          3500.0   31500.0\n",
      "2  2024-01-03 00:00:00     nameing  10000          1000.0    9000.0\n",
      "3  2024-01-04 00:00:00    birthady   5000           500.0    4500.0\n",
      "4           2024-01-05  conference  40000          4000.0   36000.0\n",
      "5           2024-01-06    workshop  15000          1500.0   13500.0\n"
     ]
    }
   ],
   "source": [
    "print(df)"
   ]
  },
  {
   "cell_type": "code",
   "execution_count": null,
   "id": "7a987c15-c06a-427d-98a6-0e8ca53d0dc4",
   "metadata": {},
   "outputs": [],
   "source": []
  },
  {
   "cell_type": "code",
   "execution_count": null,
   "id": "2a29df62-1b2c-43e0-a545-8c166d76e9f5",
   "metadata": {},
   "outputs": [],
   "source": []
  },
  {
   "cell_type": "code",
   "execution_count": 56,
   "id": "b328c48b-0ca3-4aae-ab26-fe2e65aa61cd",
   "metadata": {},
   "outputs": [
    {
     "name": "stdout",
     "output_type": "stream",
     "text": [
      "  student_id   name department\n",
      "0       S001    Anu        CSE\n",
      "1       S002   Ravi        ECE\n",
      "2       S003  Meena        CSE\n",
      "3       S004  Kiran       MECH\n"
     ]
    }
   ],
   "source": [
    "df=pd.read_csv('C:/Users/Guru Kiran/Downloads/students_basic.csv')\n",
    "print(df)"
   ]
  },
  {
   "cell_type": "code",
   "execution_count": 57,
   "id": "1e211220-7518-408c-b1f9-fe2275ab2c0d",
   "metadata": {},
   "outputs": [
    {
     "name": "stdout",
     "output_type": "stream",
     "text": [
      "  student_id  math_marks  science_marks\n",
      "0       S001          85             78\n",
      "1       S002          90             88\n",
      "2       S003          75             82\n",
      "3       S005          80             79\n"
     ]
    }
   ],
   "source": [
    "df=pd.read_csv('C:/Users/Guru Kiran/Downloads/students_marks.csv')\n",
    "print(df)"
   ]
  },
  {
   "cell_type": "code",
   "execution_count": 73,
   "id": "d9eeffe1-a3db-4ebd-9019-1876b9759e53",
   "metadata": {},
   "outputs": [],
   "source": [
    "import pandas as pd \n",
    "import numpy as np"
   ]
  },
  {
   "cell_type": "code",
   "execution_count": 74,
   "id": "ad6fc8ee-00c1-4793-b397-339f22af79e7",
   "metadata": {},
   "outputs": [],
   "source": [
    "df= pd.read_csv('C:/Users/Guru Kiran/Downloads/students_basic.csv')\n",
    "df1= pd.read_csv('C:/Users/Guru Kiran/Downloads/students_marks.csv')"
   ]
  },
  {
   "cell_type": "code",
   "execution_count": 75,
   "id": "f1d22920-90a8-4c8f-846b-271b886f15a7",
   "metadata": {},
   "outputs": [
    {
     "data": {
      "text/html": [
       "<div>\n",
       "<style scoped>\n",
       "    .dataframe tbody tr th:only-of-type {\n",
       "        vertical-align: middle;\n",
       "    }\n",
       "\n",
       "    .dataframe tbody tr th {\n",
       "        vertical-align: top;\n",
       "    }\n",
       "\n",
       "    .dataframe thead th {\n",
       "        text-align: right;\n",
       "    }\n",
       "</style>\n",
       "<table border=\"1\" class=\"dataframe\">\n",
       "  <thead>\n",
       "    <tr style=\"text-align: right;\">\n",
       "      <th></th>\n",
       "      <th>student_id</th>\n",
       "      <th>name</th>\n",
       "      <th>department</th>\n",
       "    </tr>\n",
       "  </thead>\n",
       "  <tbody>\n",
       "    <tr>\n",
       "      <th>0</th>\n",
       "      <td>S001</td>\n",
       "      <td>Anu</td>\n",
       "      <td>CSE</td>\n",
       "    </tr>\n",
       "    <tr>\n",
       "      <th>1</th>\n",
       "      <td>S002</td>\n",
       "      <td>Ravi</td>\n",
       "      <td>ECE</td>\n",
       "    </tr>\n",
       "    <tr>\n",
       "      <th>2</th>\n",
       "      <td>S003</td>\n",
       "      <td>Meena</td>\n",
       "      <td>CSE</td>\n",
       "    </tr>\n",
       "    <tr>\n",
       "      <th>3</th>\n",
       "      <td>S004</td>\n",
       "      <td>Kiran</td>\n",
       "      <td>MECH</td>\n",
       "    </tr>\n",
       "  </tbody>\n",
       "</table>\n",
       "</div>"
      ],
      "text/plain": [
       "  student_id   name department\n",
       "0       S001    Anu        CSE\n",
       "1       S002   Ravi        ECE\n",
       "2       S003  Meena        CSE\n",
       "3       S004  Kiran       MECH"
      ]
     },
     "execution_count": 75,
     "metadata": {},
     "output_type": "execute_result"
    }
   ],
   "source": [
    "df"
   ]
  },
  {
   "cell_type": "code",
   "execution_count": 76,
   "id": "817e27a6-24e7-4f32-a059-54c9577b03a2",
   "metadata": {},
   "outputs": [
    {
     "data": {
      "text/html": [
       "<div>\n",
       "<style scoped>\n",
       "    .dataframe tbody tr th:only-of-type {\n",
       "        vertical-align: middle;\n",
       "    }\n",
       "\n",
       "    .dataframe tbody tr th {\n",
       "        vertical-align: top;\n",
       "    }\n",
       "\n",
       "    .dataframe thead th {\n",
       "        text-align: right;\n",
       "    }\n",
       "</style>\n",
       "<table border=\"1\" class=\"dataframe\">\n",
       "  <thead>\n",
       "    <tr style=\"text-align: right;\">\n",
       "      <th></th>\n",
       "      <th>student_id</th>\n",
       "      <th>math_marks</th>\n",
       "      <th>science_marks</th>\n",
       "    </tr>\n",
       "  </thead>\n",
       "  <tbody>\n",
       "    <tr>\n",
       "      <th>0</th>\n",
       "      <td>S001</td>\n",
       "      <td>85</td>\n",
       "      <td>78</td>\n",
       "    </tr>\n",
       "    <tr>\n",
       "      <th>1</th>\n",
       "      <td>S002</td>\n",
       "      <td>90</td>\n",
       "      <td>88</td>\n",
       "    </tr>\n",
       "    <tr>\n",
       "      <th>2</th>\n",
       "      <td>S003</td>\n",
       "      <td>75</td>\n",
       "      <td>82</td>\n",
       "    </tr>\n",
       "    <tr>\n",
       "      <th>3</th>\n",
       "      <td>S004</td>\n",
       "      <td>80</td>\n",
       "      <td>79</td>\n",
       "    </tr>\n",
       "  </tbody>\n",
       "</table>\n",
       "</div>"
      ],
      "text/plain": [
       "  student_id  math_marks  science_marks\n",
       "0       S001          85             78\n",
       "1       S002          90             88\n",
       "2       S003          75             82\n",
       "3       S004          80             79"
      ]
     },
     "execution_count": 76,
     "metadata": {},
     "output_type": "execute_result"
    }
   ],
   "source": [
    "df1"
   ]
  },
  {
   "cell_type": "markdown",
   "id": "87e8140e-8b8c-4630-b036-fdbc35f08e6e",
   "metadata": {},
   "source": [
    "## a) mearge 2 data frame "
   ]
  },
  {
   "cell_type": "code",
   "execution_count": 4,
   "id": "04e89410-2f5d-430c-aade-07b7792888c4",
   "metadata": {},
   "outputs": [
    {
     "ename": "NameError",
     "evalue": "name 'pd' is not defined",
     "output_type": "error",
     "traceback": [
      "\u001b[31m---------------------------------------------------------------------------\u001b[39m",
      "\u001b[31mNameError\u001b[39m                                 Traceback (most recent call last)",
      "\u001b[36mCell\u001b[39m\u001b[36m \u001b[39m\u001b[32mIn[4]\u001b[39m\u001b[32m, line 1\u001b[39m\n\u001b[32m----> \u001b[39m\u001b[32m1\u001b[39m df_merged = \u001b[43mpd\u001b[49m.merge(df, df1, on=\u001b[33m'\u001b[39m\u001b[33mstudent_id\u001b[39m\u001b[33m'\u001b[39m, how=\u001b[33m'\u001b[39m\u001b[33minner\u001b[39m\u001b[33m'\u001b[39m)\n\u001b[32m      2\u001b[39m \u001b[38;5;28mprint\u001b[39m(df_merged)\n",
      "\u001b[31mNameError\u001b[39m: name 'pd' is not defined"
     ]
    }
   ],
   "source": [
    "df_merged = pd.merge(df, df1, on='student_id', how='inner')\n",
    "print(df_merged)"
   ]
  },
  {
   "cell_type": "markdown",
   "id": "55c49bc5-0d96-4ad9-a6de-3cd0052f88fa",
   "metadata": {},
   "source": [
    "## b) add a new attribute called total marks by suming maths and science "
   ]
  },
  {
   "cell_type": "code",
   "execution_count": 79,
   "id": "4bedffb4-6a77-4fe3-a125-99522a876960",
   "metadata": {},
   "outputs": [
    {
     "name": "stdout",
     "output_type": "stream",
     "text": [
      "  student_id   name department  math_marks  science_marks  total_marks\n",
      "0       S001    Anu        CSE          85             78          163\n",
      "1       S002   Ravi        ECE          90             88          178\n",
      "2       S003  Meena        CSE          75             82          157\n",
      "3       S004  Kiran       MECH          80             79          159\n"
     ]
    }
   ],
   "source": [
    "df_merged['total_marks'] = df_merged['math_marks'] + df_merged['science_marks']\n",
    "\n",
    "print(df_merged)"
   ]
  },
  {
   "cell_type": "markdown",
   "id": "42777459-3cbb-423c-a08f-b1ce878a8e5d",
   "metadata": {},
   "source": [
    "## c) add a new data object to the final dataframe  "
   ]
  },
  {
   "cell_type": "code",
   "execution_count": 80,
   "id": "fa10826a-518c-4048-b8b1-ee1a8fad27dc",
   "metadata": {},
   "outputs": [
    {
     "name": "stdout",
     "output_type": "stream",
     "text": [
      "  student_id   name department  math_marks  science_marks  total_marks\n",
      "0       S001    Anu        CSE          85             78          163\n",
      "1       S002   Ravi        ECE          90             88          178\n",
      "2       S003  Meena        CSE          75             82          157\n",
      "3       S004  Kiran       MECH          80             79          159\n",
      "4       S006   Riya        CSE          88             90          178\n"
     ]
    }
   ],
   "source": [
    "new_row = {\n",
    "    'student_id': 'S006',\n",
    "    'name': 'Riya',\n",
    "    'department': 'CSE',\n",
    "    'math_marks': 88,\n",
    "    'science_marks': 90,\n",
    "    'total_marks': 178\n",
    "}\n",
    "df_merged = pd.concat([df_merged, pd.DataFrame([new_row])], ignore_index=True)\n",
    "print(df_merged)"
   ]
  },
  {
   "cell_type": "markdown",
   "id": "afd18311-402e-445f-9cc4-e361c2afc66f",
   "metadata": {},
   "source": [
    "## d) save the final integrated dataframe to new file "
   ]
  },
  {
   "cell_type": "code",
   "execution_count": 81,
   "id": "e0222fad-b888-401e-9426-e52868460e8c",
   "metadata": {},
   "outputs": [],
   "source": [
    "df_merged.to_csv('C:/Users/Guru Kiran/Downloads/students_final.csv', index=False)"
   ]
  },
  {
   "cell_type": "code",
   "execution_count": 84,
   "id": "e2b95f51-0e55-4fbb-8915-82b5a0089628",
   "metadata": {},
   "outputs": [
    {
     "name": "stdout",
     "output_type": "stream",
     "text": [
      "  student_id   name department  math_marks  science_marks  total_marks\n",
      "0       S001    Anu        CSE          85             78          163\n",
      "1       S002   Ravi        ECE          90             88          178\n",
      "2       S003  Meena        CSE          75             82          157\n",
      "3       S004  Kiran       MECH          80             79          159\n",
      "4       S006   Riya        CSE          88             90          178\n"
     ]
    }
   ],
   "source": [
    "print(df_merged)"
   ]
  },
  {
   "cell_type": "code",
   "execution_count": null,
   "id": "4021c5dc-9949-494a-9e29-18a20371262e",
   "metadata": {},
   "outputs": [],
   "source": []
  }
 ],
 "metadata": {
  "kernelspec": {
   "display_name": "Python 3 (ipykernel)",
   "language": "python",
   "name": "python3"
  },
  "language_info": {
   "codemirror_mode": {
    "name": "ipython",
    "version": 3
   },
   "file_extension": ".py",
   "mimetype": "text/x-python",
   "name": "python",
   "nbconvert_exporter": "python",
   "pygments_lexer": "ipython3",
   "version": "3.13.6"
  }
 },
 "nbformat": 4,
 "nbformat_minor": 5
}
