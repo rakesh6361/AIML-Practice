{
 "cells": [
  {
   "cell_type": "markdown",
   "id": "7615744b-ce3a-478e-b2c4-9b233eea2bd6",
   "metadata": {},
   "source": [
    "## create dataframe student information"
   ]
  },
  {
   "cell_type": "code",
   "execution_count": 3,
   "id": "305bcee2-5a0b-47c6-a93e-6bb14340cff1",
   "metadata": {},
   "outputs": [
    {
     "name": "stdout",
     "output_type": "stream",
     "text": [
      "   roll no    name  age  marks_maths  marks_english gender\n",
      "0      101    riya   17           88             92      F\n",
      "1      102   arjun   18           75             85      M\n",
      "2      103   sneha   17           90             78      F\n",
      "3      104  rakesh   19           65             70      M\n",
      "4      105   aditi   18           95             88      F\n"
     ]
    }
   ],
   "source": [
    "import pandas as pd\n",
    "student_information = {\n",
    "    'roll no':[101,102,103,104,105],\n",
    "    'name':['riya','arjun','sneha','rakesh','aditi'],\n",
    "    'age':[17,18,17,19,18],\n",
    "    'marks_maths':[88,75,90,65,95],\n",
    "    'marks_english':[92,85,78,70,88],\n",
    "    'gender':['F','M','F','M','F']\n",
    "}\n",
    "df=pd.DataFrame(student_information)\n",
    "print(df)"
   ]
  },
  {
   "cell_type": "markdown",
   "id": "ab668ebf-13e1-4ec8-8185-2593e5337ec9",
   "metadata": {},
   "source": [
    "## 2) Display only the names and english marks of the all student "
   ]
  },
  {
   "cell_type": "code",
   "execution_count": 4,
   "id": "2c8c89f0-6655-467e-9486-c28cdbf352c7",
   "metadata": {},
   "outputs": [
    {
     "name": "stdout",
     "output_type": "stream",
     "text": [
      "0      riya\n",
      "1     arjun\n",
      "2     sneha\n",
      "3    rakesh\n",
      "4     aditi\n",
      "Name: name, dtype: object\n"
     ]
    },
    {
     "data": {
      "text/plain": [
       "(None,\n",
       " 0    92\n",
       " 1    85\n",
       " 2    78\n",
       " 3    70\n",
       " 4    88\n",
       " Name: marks_english, dtype: int64)"
      ]
     },
     "execution_count": 4,
     "metadata": {},
     "output_type": "execute_result"
    }
   ],
   "source": [
    "print(df['name']),df['marks_english']"
   ]
  },
  {
   "cell_type": "markdown",
   "id": "1db82027-aacd-4665-8f34-ee9ad96e2c2f",
   "metadata": {},
   "source": [
    "## 3) Add a new column \"total_marks\" as the sum of marks math and eng "
   ]
  },
  {
   "cell_type": "code",
   "execution_count": 5,
   "id": "f06843a4-598d-4a05-a467-0901835a3f43",
   "metadata": {},
   "outputs": [
    {
     "name": "stdout",
     "output_type": "stream",
     "text": [
      "   roll no    name  age  marks_maths  marks_english gender  total_marks\n",
      "0      101    riya   17           88             92      F          180\n",
      "1      102   arjun   18           75             85      M          160\n",
      "2      103   sneha   17           90             78      F          168\n",
      "3      104  rakesh   19           65             70      M          135\n",
      "4      105   aditi   18           95             88      F          183\n"
     ]
    }
   ],
   "source": [
    "df['total_marks']=df[['marks_maths','marks_english']].sum(axis=1)\n",
    "print(df)"
   ]
  },
  {
   "cell_type": "markdown",
   "id": "21eedac2-e744-4c6c-aadf-57049fec5318",
   "metadata": {},
   "source": [
    "## 4) find the average marks in maths using a pandas function"
   ]
  },
  {
   "cell_type": "code",
   "execution_count": 6,
   "id": "22cdf194-793f-4393-9636-f35c4de3fc2a",
   "metadata": {},
   "outputs": [
    {
     "name": "stdout",
     "output_type": "stream",
     "text": [
      "0    88.0\n",
      "1    75.0\n",
      "2    90.0\n",
      "3    65.0\n",
      "4    95.0\n",
      "Name: average, dtype: float64\n"
     ]
    }
   ],
   "source": [
    "df['average']=df[['marks_maths']].mean(axis=1)\n",
    "print(df['average'])"
   ]
  },
  {
   "cell_type": "markdown",
   "id": "5f5d1389-a922-48ea-ad3b-28f5ab5420f8",
   "metadata": {},
   "source": [
    "## 5) Display the records of feamale student"
   ]
  },
  {
   "cell_type": "code",
   "execution_count": 7,
   "id": "ce2114ea-57cd-4bfd-88d0-04d079aefdf5",
   "metadata": {},
   "outputs": [
    {
     "name": "stdout",
     "output_type": "stream",
     "text": [
      "   roll no   name  age  marks_maths  marks_english gender  total_marks  \\\n",
      "0      101   riya   17           88             92      F          180   \n",
      "2      103  sneha   17           90             78      F          168   \n",
      "4      105  aditi   18           95             88      F          183   \n",
      "\n",
      "   average  \n",
      "0     88.0  \n",
      "2     90.0  \n",
      "4     95.0  \n"
     ]
    }
   ],
   "source": [
    "only_feamale=df[df['gender'] == 'F']\n",
    "print(only_feamale)"
   ]
  },
  {
   "cell_type": "markdown",
   "id": "f22829b8-ebba-4e66-8c4d-191943a70a63",
   "metadata": {},
   "source": [
    "## 6) Sort the dataframe by marks english in descending order"
   ]
  },
  {
   "cell_type": "code",
   "execution_count": 9,
   "id": "c4ad8173-4b66-42a7-a306-b93ba183a061",
   "metadata": {},
   "outputs": [
    {
     "name": "stdout",
     "output_type": "stream",
     "text": [
      "   roll no    name  age  marks_maths  marks_english gender  total_marks  \\\n",
      "0      101    riya   17           88             92      F          180   \n",
      "4      105   aditi   18           95             88      F          183   \n",
      "1      102   arjun   18           75             85      M          160   \n",
      "2      103   sneha   17           90             78      F          168   \n",
      "3      104  rakesh   19           65             70      M          135   \n",
      "\n",
      "   average  \n",
      "0     88.0  \n",
      "4     95.0  \n",
      "1     75.0  \n",
      "2     90.0  \n",
      "3     65.0  \n"
     ]
    }
   ],
   "source": [
    "sort_df=df.sort_values(by='marks_english',ascending=False)\n",
    "print(sort_df)"
   ]
  },
  {
   "cell_type": "markdown",
   "id": "f6252221-3248-40c6-af8e-4b1a5ad457fc",
   "metadata": {},
   "source": [
    "## 7) Replace the gender values :'F' 'Feamale' ,\"M\" \"male\"  using .map()"
   ]
  },
  {
   "cell_type": "code",
   "execution_count": 29,
   "id": "49b13d37-25a2-4959-9acf-2964247d40f7",
   "metadata": {},
   "outputs": [
    {
     "name": "stdout",
     "output_type": "stream",
     "text": [
      "   roll no    name  age  marks_maths  marks_english gender  total_marks  \\\n",
      "0      101    riya   17           88             92      m          180   \n",
      "1      102   arjun   18           75             85      F          160   \n",
      "2      103   sneha   17           90             78      m          168   \n",
      "3      104  rakesh   19           65             70      F          135   \n",
      "4      105   aditi   18           95             88      m          183   \n",
      "\n",
      "   average  \n",
      "0     88.0  \n",
      "1     75.0  \n",
      "2     90.0  \n",
      "3     65.0  \n",
      "4     95.0  \n"
     ]
    }
   ],
   "source": [
    "df['gender']=df['gender'].map({'M': 'F','F':'m'})\n",
    "print(df)"
   ]
  },
  {
   "cell_type": "markdown",
   "id": "3ed4e0d2-72e1-4f41-b407-324a5a21add5",
   "metadata": {},
   "source": [
    "## 8) add a new column result with value \"pass\" if total marks >=150,else \"fail\" (using apply() with lambda)"
   ]
  },
  {
   "cell_type": "code",
   "execution_count": 30,
   "id": "035f46e0-dabb-4953-867d-cf4193b0eb6e",
   "metadata": {},
   "outputs": [
    {
     "name": "stdout",
     "output_type": "stream",
     "text": [
      "   roll no    name  age  marks_maths  marks_english gender  total_marks  \\\n",
      "0      101    riya   17           88             92      m          180   \n",
      "1      102   arjun   18           75             85      F          160   \n",
      "2      103   sneha   17           90             78      m          168   \n",
      "3      104  rakesh   19           65             70      F          135   \n",
      "4      105   aditi   18           95             88      m          183   \n",
      "\n",
      "   average result  \n",
      "0     88.0   pass  \n",
      "1     75.0   pass  \n",
      "2     90.0   pass  \n",
      "3     65.0   Fail  \n",
      "4     95.0   pass  \n"
     ]
    }
   ],
   "source": [
    "df['result']=df['total_marks'].apply(lambda x:'pass' if x>=150 else 'Fail')\n",
    "print(df)"
   ]
  },
  {
   "cell_type": "markdown",
   "id": "03dbe21b-9447-4440-b375-1c27778750e4",
   "metadata": {},
   "source": [
    "## 9) use map() to convert all names to uppercase from the name column"
   ]
  },
  {
   "cell_type": "code",
   "execution_count": 31,
   "id": "46bca97e-0a1c-42e8-a39f-26a8dc2dd775",
   "metadata": {},
   "outputs": [
    {
     "name": "stdout",
     "output_type": "stream",
     "text": [
      "0      RIYA\n",
      "1     ARJUN\n",
      "2     SNEHA\n",
      "3    RAKESH\n",
      "4     ADITI\n",
      "Name: name, dtype: object\n"
     ]
    }
   ],
   "source": [
    "f=df['name'].map(lambda x: x.upper())\n",
    "print(f)"
   ]
  },
  {
   "cell_type": "markdown",
   "id": "9e641939-94a5-450b-954f-f22e4a04ce74",
   "metadata": {},
   "source": [
    "## 10) use filter() to get the list of the students whose marks maths is greater than 80"
   ]
  },
  {
   "cell_type": "code",
   "execution_count": 32,
   "id": "a5c75458-7578-491f-bf9a-48ad8a8f856b",
   "metadata": {},
   "outputs": [
    {
     "name": "stdout",
     "output_type": "stream",
     "text": [
      "   roll no   name  age  marks_maths  marks_english gender  total_marks  \\\n",
      "0      101   riya   17           88             92      m          180   \n",
      "2      103  sneha   17           90             78      m          168   \n",
      "4      105  aditi   18           95             88      m          183   \n",
      "\n",
      "   average result  \n",
      "0     88.0   pass  \n",
      "2     90.0   pass  \n",
      "4     95.0   pass  \n"
     ]
    }
   ],
   "source": [
    "MM=df[df['marks_maths']>80]\n",
    "print(MM)"
   ]
  },
  {
   "cell_type": "markdown",
   "id": "be761a75-c585-4fb0-9b55-73876f3a1e9f",
   "metadata": {},
   "source": [
    "# 11) use lambda to create new column grade \n",
    "## a) if total marks >170\n",
    "## b) if total marks > 150\n",
    "## c) otherwise "
   ]
  },
  {
   "cell_type": "code",
   "execution_count": 33,
   "id": "a6f1749c-46eb-43f7-b22e-992db4112d09",
   "metadata": {},
   "outputs": [
    {
     "name": "stdout",
     "output_type": "stream",
     "text": [
      "   roll no    name  age  marks_maths  marks_english gender  total_marks  \\\n",
      "0      101    riya   17           88             92      m          180   \n",
      "1      102   arjun   18           75             85      F          160   \n",
      "2      103   sneha   17           90             78      m          168   \n",
      "3      104  rakesh   19           65             70      F          135   \n",
      "4      105   aditi   18           95             88      m          183   \n",
      "\n",
      "   average result grade  \n",
      "0     88.0   pass     A  \n",
      "1     75.0   pass     B  \n",
      "2     90.0   pass     B  \n",
      "3     65.0   Fail     c  \n",
      "4     95.0   pass     A  \n"
     ]
    }
   ],
   "source": [
    "df['grade']=df['total_marks'].apply(lambda x: \"A\" if x >= 170 else (\"B\" if x >= 150  else \"c\"))\n",
    "print(df)"
   ]
  },
  {
   "cell_type": "markdown",
   "id": "37e0721e-be12-4686-bc27-ff306243914f",
   "metadata": {},
   "source": [
    "## 12) use reduce() caluculate the total of the all math marks"
   ]
  },
  {
   "cell_type": "code",
   "execution_count": 34,
   "id": "fbcae766-e527-4145-b0e9-6c3d39c88af6",
   "metadata": {},
   "outputs": [
    {
     "name": "stdout",
     "output_type": "stream",
     "text": [
      "413\n"
     ]
    }
   ],
   "source": [
    "from functools import reduce\n",
    "tmm=reduce(lambda x,y: x+y,df['marks_maths'])\n",
    "print(tmm)"
   ]
  },
  {
   "cell_type": "markdown",
   "id": "0847d33b-4d3c-4c12-aa79-c5371b55c555",
   "metadata": {},
   "source": [
    "## 13) count how many students are below the age of 18"
   ]
  },
  {
   "cell_type": "code",
   "execution_count": 35,
   "id": "f3517aeb-0955-49e6-ba63-8b3910217900",
   "metadata": {},
   "outputs": [
    {
     "name": "stdout",
     "output_type": "stream",
     "text": [
      "   roll no    name  age  marks_maths  marks_english gender  total_marks  \\\n",
      "1      102   arjun   18           75             85      F          160   \n",
      "3      104  rakesh   19           65             70      F          135   \n",
      "4      105   aditi   18           95             88      m          183   \n",
      "\n",
      "   average result grade  \n",
      "1     75.0   pass     B  \n",
      "3     65.0   Fail     c  \n",
      "4     95.0   pass     A  \n"
     ]
    }
   ],
   "source": [
    "count = df[df['age'] >=18]\n",
    "print(count)"
   ]
  },
  {
   "cell_type": "markdown",
   "id": "4def81b5-4876-4f9f-bcc3-52753f5aee1b",
   "metadata": {},
   "source": [
    "## 14) create a new column average which gives average of the both subjects"
   ]
  },
  {
   "cell_type": "code",
   "execution_count": 36,
   "id": "f63d13e5-60a8-440e-9ce4-7ed066b4fc89",
   "metadata": {},
   "outputs": [
    {
     "name": "stdout",
     "output_type": "stream",
     "text": [
      "   roll no    name  age  marks_maths  marks_english gender  total_marks  \\\n",
      "0      101    riya   17           88             92      m          180   \n",
      "1      102   arjun   18           75             85      F          160   \n",
      "2      103   sneha   17           90             78      m          168   \n",
      "3      104  rakesh   19           65             70      F          135   \n",
      "4      105   aditi   18           95             88      m          183   \n",
      "\n",
      "   average result grade   avg  avg1  \n",
      "0     88.0   pass     A  90.0  90.0  \n",
      "1     75.0   pass     B  80.0  80.0  \n",
      "2     90.0   pass     B  84.0  84.0  \n",
      "3     65.0   Fail     c  67.5  67.5  \n",
      "4     95.0   pass     A  91.5  91.5  \n"
     ]
    }
   ],
   "source": [
    "df['avg']=df[['marks_maths','marks_english']].sum(axis=1)/2\n",
    "df['avg1']=df['total_marks']/2\n",
    "print(df)"
   ]
  },
  {
   "cell_type": "markdown",
   "id": "93d4748d-b20d-4fa5-a8b7-e54b43b8ee2f",
   "metadata": {},
   "source": [
    "## 15) display names of the student who scored more in english than math"
   ]
  },
  {
   "cell_type": "code",
   "execution_count": 37,
   "id": "25e03c1b-01f2-49d6-a96a-1b98998a663a",
   "metadata": {},
   "outputs": [
    {
     "name": "stdout",
     "output_type": "stream",
     "text": [
      "   roll no    name  age  marks_maths  marks_english gender  total_marks  \\\n",
      "0      101    riya   17           88             92      m          180   \n",
      "1      102   arjun   18           75             85      F          160   \n",
      "3      104  rakesh   19           65             70      F          135   \n",
      "\n",
      "   average result grade   avg  avg1  \n",
      "0     88.0   pass     A  90.0  90.0  \n",
      "1     75.0   pass     B  80.0  80.0  \n",
      "3     65.0   Fail     c  67.5  67.5  \n"
     ]
    }
   ],
   "source": [
    "eng=df[df['marks_english']>df['marks_maths']]\n",
    "print(eng)"
   ]
  },
  {
   "cell_type": "markdown",
   "id": "4be6b624-aaff-42bc-bcfb-fe72ecf603f9",
   "metadata": {},
   "source": [
    "## 16) Group students by gender and caluculate average marks of each gender"
   ]
  },
  {
   "cell_type": "code",
   "execution_count": 38,
   "id": "85d04bf6-95a5-4880-931d-51f87917695f",
   "metadata": {},
   "outputs": [
    {
     "name": "stdout",
     "output_type": "stream",
     "text": [
      "gender\n",
      "F    147.5\n",
      "m    177.0\n",
      "Name: total_marks, dtype: float64\n"
     ]
    }
   ],
   "source": [
    "avg=df.groupby('gender')['total_marks'].mean()\n",
    "print(avg)"
   ]
  },
  {
   "cell_type": "markdown",
   "id": "acc95043-3ac4-4aaa-801d-278794af44fb",
   "metadata": {},
   "source": [
    "## 17) find the student with the highest total marks using pandas"
   ]
  },
  {
   "cell_type": "code",
   "execution_count": 39,
   "id": "cd7f099d-3fbe-4e64-b4d7-c93e97b0fd7e",
   "metadata": {},
   "outputs": [
    {
     "name": "stdout",
     "output_type": "stream",
     "text": [
      "total_marks      183\n",
      "name           sneha\n",
      "dtype: object\n"
     ]
    }
   ],
   "source": [
    "t=df[['total_marks','name']].max()\n",
    "print(t)"
   ]
  },
  {
   "cell_type": "code",
   "execution_count": null,
   "id": "207a4374-852b-4f9c-ae4f-d1b20366ed5e",
   "metadata": {},
   "outputs": [],
   "source": []
  }
 ],
 "metadata": {
  "kernelspec": {
   "display_name": "Python 3 (ipykernel)",
   "language": "python",
   "name": "python3"
  },
  "language_info": {
   "codemirror_mode": {
    "name": "ipython",
    "version": 3
   },
   "file_extension": ".py",
   "mimetype": "text/x-python",
   "name": "python",
   "nbconvert_exporter": "python",
   "pygments_lexer": "ipython3",
   "version": "3.13.5"
  }
 },
 "nbformat": 4,
 "nbformat_minor": 5
}
