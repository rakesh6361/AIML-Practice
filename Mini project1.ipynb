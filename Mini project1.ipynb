{
 "cells": [
  {
   "cell_type": "markdown",
   "id": "6708d4dd-09f3-4428-9c38-a40ed1e4b3df",
   "metadata": {},
   "source": [
    "# Project"
   ]
  },
  {
   "cell_type": "markdown",
   "id": "564c1374-0cb4-435a-b584-8d9209fada57",
   "metadata": {},
   "source": [
    "# Project Name:TweepFake-Twitter deep Fake"
   ]
  },
  {
   "cell_type": "markdown",
   "id": "08ed1c78-854b-4bcc-814f-951071aff2c1",
   "metadata": {},
   "source": [
    "# 1. Data collection"
   ]
  },
  {
   "cell_type": "markdown",
   "id": "14ae87f8-ebf5-4754-a7d9-b9979d64a9a8",
   "metadata": {},
   "source": [
    "# Import Libraries and Load DataSet"
   ]
  },
  {
   "cell_type": "code",
   "execution_count": 72,
   "id": "d357d351-8dda-4833-b918-e082a8dba735",
   "metadata": {},
   "outputs": [],
   "source": [
    "import pandas as pd\n",
    "import numpy as np\n",
    "import matplotlib.pyplot as plt\n",
    "import seaborn as sns\n",
    "from sklearn.metrics import confusion_matrix\n",
    "from sklearn.model_selection import train_test_split\n",
    "from sklearn.linear_model import LinearRegression\n",
    "from sklearn.metrics import mean_squared_error,r2_score\n",
    "from sklearn.feature_extraction.text import TfidfVectorizer\n",
    "from sklearn.preprocessing import LabelEncoder\n",
    "from scipy.sparse import hstack\n",
    "from sklearn.linear_model import LogisticRegression\n",
    "from sklearn.metrics import accuracy_score, classification_report"
   ]
  },
  {
   "cell_type": "code",
   "execution_count": 73,
   "id": "6ce6eee4-40f9-44ef-96b5-e70e9e7ca311",
   "metadata": {},
   "outputs": [
    {
     "data": {
      "text/html": [
       "<div>\n",
       "<style scoped>\n",
       "    .dataframe tbody tr th:only-of-type {\n",
       "        vertical-align: middle;\n",
       "    }\n",
       "\n",
       "    .dataframe tbody tr th {\n",
       "        vertical-align: top;\n",
       "    }\n",
       "\n",
       "    .dataframe thead th {\n",
       "        text-align: right;\n",
       "    }\n",
       "</style>\n",
       "<table border=\"1\" class=\"dataframe\">\n",
       "  <thead>\n",
       "    <tr style=\"text-align: right;\">\n",
       "      <th></th>\n",
       "      <th>screen_name</th>\n",
       "      <th>text</th>\n",
       "      <th>account.type</th>\n",
       "      <th>class_type</th>\n",
       "    </tr>\n",
       "  </thead>\n",
       "  <tbody>\n",
       "    <tr>\n",
       "      <th>0</th>\n",
       "      <td>imranyebot</td>\n",
       "      <td>YEA now that note GOOD</td>\n",
       "      <td>bot</td>\n",
       "      <td>others</td>\n",
       "    </tr>\n",
       "    <tr>\n",
       "      <th>1</th>\n",
       "      <td>zawvrk</td>\n",
       "      <td>Listen to This Charming Man by The Smiths  htt...</td>\n",
       "      <td>human</td>\n",
       "      <td>human</td>\n",
       "    </tr>\n",
       "    <tr>\n",
       "      <th>2</th>\n",
       "      <td>zawarbot</td>\n",
       "      <td>wish i can i would be seeing other hoes on the...</td>\n",
       "      <td>bot</td>\n",
       "      <td>others</td>\n",
       "    </tr>\n",
       "    <tr>\n",
       "      <th>3</th>\n",
       "      <td>ahadsheriffbot</td>\n",
       "      <td>The decade in the significantly easier schedul...</td>\n",
       "      <td>bot</td>\n",
       "      <td>others</td>\n",
       "    </tr>\n",
       "    <tr>\n",
       "      <th>4</th>\n",
       "      <td>kevinhookebot</td>\n",
       "      <td>\"Theim class=\\\"alignnone size-full wp-image-60...</td>\n",
       "      <td>bot</td>\n",
       "      <td>rnn</td>\n",
       "    </tr>\n",
       "    <tr>\n",
       "      <th>...</th>\n",
       "      <td>...</td>\n",
       "      <td>...</td>\n",
       "      <td>...</td>\n",
       "      <td>...</td>\n",
       "    </tr>\n",
       "    <tr>\n",
       "      <th>20707</th>\n",
       "      <td>AINarendraModi</td>\n",
       "      <td>Met on the Abversion of our science for the co...</td>\n",
       "      <td>bot</td>\n",
       "      <td>rnn</td>\n",
       "    </tr>\n",
       "    <tr>\n",
       "      <th>20708</th>\n",
       "      <td>AINarendraModi</td>\n",
       "      <td>Land for their during the opportunity to the p...</td>\n",
       "      <td>bot</td>\n",
       "      <td>rnn</td>\n",
       "    </tr>\n",
       "    <tr>\n",
       "      <th>20709</th>\n",
       "      <td>DeepDrumpf</td>\n",
       "      <td>@TayandYou doesn't have a clue. You're right. ...</td>\n",
       "      <td>bot</td>\n",
       "      <td>rnn</td>\n",
       "    </tr>\n",
       "    <tr>\n",
       "      <th>20710</th>\n",
       "      <td>jaden</td>\n",
       "      <td>Me And My Bestie https://t.co/vPq2iDkWZm</td>\n",
       "      <td>human</td>\n",
       "      <td>human</td>\n",
       "    </tr>\n",
       "    <tr>\n",
       "      <th>20711</th>\n",
       "      <td>kevinhookebot</td>\n",
       "      <td>\"Thead has a generate existing the Sparching f...</td>\n",
       "      <td>bot</td>\n",
       "      <td>rnn</td>\n",
       "    </tr>\n",
       "  </tbody>\n",
       "</table>\n",
       "<p>20712 rows × 4 columns</p>\n",
       "</div>"
      ],
      "text/plain": [
       "          screen_name                                               text  \\\n",
       "0          imranyebot                             YEA now that note GOOD   \n",
       "1              zawvrk  Listen to This Charming Man by The Smiths  htt...   \n",
       "2            zawarbot  wish i can i would be seeing other hoes on the...   \n",
       "3      ahadsheriffbot  The decade in the significantly easier schedul...   \n",
       "4       kevinhookebot  \"Theim class=\\\"alignnone size-full wp-image-60...   \n",
       "...               ...                                                ...   \n",
       "20707  AINarendraModi  Met on the Abversion of our science for the co...   \n",
       "20708  AINarendraModi  Land for their during the opportunity to the p...   \n",
       "20709      DeepDrumpf  @TayandYou doesn't have a clue. You're right. ...   \n",
       "20710           jaden           Me And My Bestie https://t.co/vPq2iDkWZm   \n",
       "20711   kevinhookebot  \"Thead has a generate existing the Sparching f...   \n",
       "\n",
       "      account.type class_type  \n",
       "0              bot     others  \n",
       "1            human      human  \n",
       "2              bot     others  \n",
       "3              bot     others  \n",
       "4              bot        rnn  \n",
       "...            ...        ...  \n",
       "20707          bot        rnn  \n",
       "20708          bot        rnn  \n",
       "20709          bot        rnn  \n",
       "20710        human      human  \n",
       "20711          bot        rnn  \n",
       "\n",
       "[20712 rows x 4 columns]"
      ]
     },
     "execution_count": 73,
     "metadata": {},
     "output_type": "execute_result"
    }
   ],
   "source": [
    "df=pd.read_csv('C:/Users/Guru Kiran/Downloads/train.csv.zip')\n",
    "df"
   ]
  },
  {
   "cell_type": "markdown",
   "id": "f84c30a5-caf9-4864-808a-132822819bf1",
   "metadata": {},
   "source": [
    "## Encode categorical to numeric for numeric ops"
   ]
  },
  {
   "cell_type": "code",
   "execution_count": 74,
   "id": "89c3cdb6-5688-48e3-8815-29f9ce3026c8",
   "metadata": {},
   "outputs": [
    {
     "data": {
      "text/html": [
       "<div>\n",
       "<style scoped>\n",
       "    .dataframe tbody tr th:only-of-type {\n",
       "        vertical-align: middle;\n",
       "    }\n",
       "\n",
       "    .dataframe tbody tr th {\n",
       "        vertical-align: top;\n",
       "    }\n",
       "\n",
       "    .dataframe thead th {\n",
       "        text-align: right;\n",
       "    }\n",
       "</style>\n",
       "<table border=\"1\" class=\"dataframe\">\n",
       "  <thead>\n",
       "    <tr style=\"text-align: right;\">\n",
       "      <th></th>\n",
       "      <th>screen_name</th>\n",
       "      <th>text</th>\n",
       "      <th>account.type</th>\n",
       "      <th>class_type</th>\n",
       "      <th>account_encoded</th>\n",
       "    </tr>\n",
       "  </thead>\n",
       "  <tbody>\n",
       "    <tr>\n",
       "      <th>0</th>\n",
       "      <td>imranyebot</td>\n",
       "      <td>YEA now that note GOOD</td>\n",
       "      <td>bot</td>\n",
       "      <td>others</td>\n",
       "      <td>1</td>\n",
       "    </tr>\n",
       "    <tr>\n",
       "      <th>1</th>\n",
       "      <td>zawvrk</td>\n",
       "      <td>Listen to This Charming Man by The Smiths  htt...</td>\n",
       "      <td>human</td>\n",
       "      <td>human</td>\n",
       "      <td>0</td>\n",
       "    </tr>\n",
       "    <tr>\n",
       "      <th>2</th>\n",
       "      <td>zawarbot</td>\n",
       "      <td>wish i can i would be seeing other hoes on the...</td>\n",
       "      <td>bot</td>\n",
       "      <td>others</td>\n",
       "      <td>1</td>\n",
       "    </tr>\n",
       "    <tr>\n",
       "      <th>3</th>\n",
       "      <td>ahadsheriffbot</td>\n",
       "      <td>The decade in the significantly easier schedul...</td>\n",
       "      <td>bot</td>\n",
       "      <td>others</td>\n",
       "      <td>1</td>\n",
       "    </tr>\n",
       "    <tr>\n",
       "      <th>4</th>\n",
       "      <td>kevinhookebot</td>\n",
       "      <td>\"Theim class=\\\"alignnone size-full wp-image-60...</td>\n",
       "      <td>bot</td>\n",
       "      <td>rnn</td>\n",
       "      <td>1</td>\n",
       "    </tr>\n",
       "    <tr>\n",
       "      <th>...</th>\n",
       "      <td>...</td>\n",
       "      <td>...</td>\n",
       "      <td>...</td>\n",
       "      <td>...</td>\n",
       "      <td>...</td>\n",
       "    </tr>\n",
       "    <tr>\n",
       "      <th>20707</th>\n",
       "      <td>AINarendraModi</td>\n",
       "      <td>Met on the Abversion of our science for the co...</td>\n",
       "      <td>bot</td>\n",
       "      <td>rnn</td>\n",
       "      <td>1</td>\n",
       "    </tr>\n",
       "    <tr>\n",
       "      <th>20708</th>\n",
       "      <td>AINarendraModi</td>\n",
       "      <td>Land for their during the opportunity to the p...</td>\n",
       "      <td>bot</td>\n",
       "      <td>rnn</td>\n",
       "      <td>1</td>\n",
       "    </tr>\n",
       "    <tr>\n",
       "      <th>20709</th>\n",
       "      <td>DeepDrumpf</td>\n",
       "      <td>@TayandYou doesn't have a clue. You're right. ...</td>\n",
       "      <td>bot</td>\n",
       "      <td>rnn</td>\n",
       "      <td>1</td>\n",
       "    </tr>\n",
       "    <tr>\n",
       "      <th>20710</th>\n",
       "      <td>jaden</td>\n",
       "      <td>Me And My Bestie https://t.co/vPq2iDkWZm</td>\n",
       "      <td>human</td>\n",
       "      <td>human</td>\n",
       "      <td>0</td>\n",
       "    </tr>\n",
       "    <tr>\n",
       "      <th>20711</th>\n",
       "      <td>kevinhookebot</td>\n",
       "      <td>\"Thead has a generate existing the Sparching f...</td>\n",
       "      <td>bot</td>\n",
       "      <td>rnn</td>\n",
       "      <td>1</td>\n",
       "    </tr>\n",
       "  </tbody>\n",
       "</table>\n",
       "<p>20712 rows × 5 columns</p>\n",
       "</div>"
      ],
      "text/plain": [
       "          screen_name                                               text  \\\n",
       "0          imranyebot                             YEA now that note GOOD   \n",
       "1              zawvrk  Listen to This Charming Man by The Smiths  htt...   \n",
       "2            zawarbot  wish i can i would be seeing other hoes on the...   \n",
       "3      ahadsheriffbot  The decade in the significantly easier schedul...   \n",
       "4       kevinhookebot  \"Theim class=\\\"alignnone size-full wp-image-60...   \n",
       "...               ...                                                ...   \n",
       "20707  AINarendraModi  Met on the Abversion of our science for the co...   \n",
       "20708  AINarendraModi  Land for their during the opportunity to the p...   \n",
       "20709      DeepDrumpf  @TayandYou doesn't have a clue. You're right. ...   \n",
       "20710           jaden           Me And My Bestie https://t.co/vPq2iDkWZm   \n",
       "20711   kevinhookebot  \"Thead has a generate existing the Sparching f...   \n",
       "\n",
       "      account.type class_type  account_encoded  \n",
       "0              bot     others                1  \n",
       "1            human      human                0  \n",
       "2              bot     others                1  \n",
       "3              bot     others                1  \n",
       "4              bot        rnn                1  \n",
       "...            ...        ...              ...  \n",
       "20707          bot        rnn                1  \n",
       "20708          bot        rnn                1  \n",
       "20709          bot        rnn                1  \n",
       "20710        human      human                0  \n",
       "20711          bot        rnn                1  \n",
       "\n",
       "[20712 rows x 5 columns]"
      ]
     },
     "execution_count": 74,
     "metadata": {},
     "output_type": "execute_result"
    }
   ],
   "source": [
    "df['account_encoded'] = df['account.type'].map({'human': 0, 'bot': 1})\n",
    "df"
   ]
  },
  {
   "cell_type": "markdown",
   "id": "1295cfd3-93f6-4b5a-98ec-03a7dc949812",
   "metadata": {},
   "source": [
    "### ===== NUMPY OPERATIONS ====="
   ]
  },
  {
   "cell_type": "markdown",
   "id": "4dfb710c-58fc-42f2-bdbf-e87400cc633b",
   "metadata": {},
   "source": [
    "## 2.Data Analysis"
   ]
  },
  {
   "cell_type": "code",
   "execution_count": 75,
   "id": "69b0a8b1-db55-4b73-b675-00a78afbd662",
   "metadata": {},
   "outputs": [
    {
     "name": "stdout",
     "output_type": "stream",
     "text": [
      "<class 'pandas.core.frame.DataFrame'>\n",
      "RangeIndex: 20712 entries, 0 to 20711\n",
      "Data columns (total 5 columns):\n",
      " #   Column           Non-Null Count  Dtype \n",
      "---  ------           --------------  ----- \n",
      " 0   screen_name      20712 non-null  object\n",
      " 1   text             20712 non-null  object\n",
      " 2   account.type     20712 non-null  object\n",
      " 3   class_type       20712 non-null  object\n",
      " 4   account_encoded  20712 non-null  int64 \n",
      "dtypes: int64(1), object(4)\n",
      "memory usage: 809.2+ KB\n"
     ]
    }
   ],
   "source": [
    "df.info()"
   ]
  },
  {
   "cell_type": "code",
   "execution_count": 76,
   "id": "889cc8cf-731d-468b-a5f2-6f5504c924dc",
   "metadata": {},
   "outputs": [
    {
     "data": {
      "text/html": [
       "<div>\n",
       "<style scoped>\n",
       "    .dataframe tbody tr th:only-of-type {\n",
       "        vertical-align: middle;\n",
       "    }\n",
       "\n",
       "    .dataframe tbody tr th {\n",
       "        vertical-align: top;\n",
       "    }\n",
       "\n",
       "    .dataframe thead th {\n",
       "        text-align: right;\n",
       "    }\n",
       "</style>\n",
       "<table border=\"1\" class=\"dataframe\">\n",
       "  <thead>\n",
       "    <tr style=\"text-align: right;\">\n",
       "      <th></th>\n",
       "      <th>account_encoded</th>\n",
       "    </tr>\n",
       "  </thead>\n",
       "  <tbody>\n",
       "    <tr>\n",
       "      <th>count</th>\n",
       "      <td>20712.000000</td>\n",
       "    </tr>\n",
       "    <tr>\n",
       "      <th>mean</th>\n",
       "      <td>0.499903</td>\n",
       "    </tr>\n",
       "    <tr>\n",
       "      <th>std</th>\n",
       "      <td>0.500012</td>\n",
       "    </tr>\n",
       "    <tr>\n",
       "      <th>min</th>\n",
       "      <td>0.000000</td>\n",
       "    </tr>\n",
       "    <tr>\n",
       "      <th>25%</th>\n",
       "      <td>0.000000</td>\n",
       "    </tr>\n",
       "    <tr>\n",
       "      <th>50%</th>\n",
       "      <td>0.000000</td>\n",
       "    </tr>\n",
       "    <tr>\n",
       "      <th>75%</th>\n",
       "      <td>1.000000</td>\n",
       "    </tr>\n",
       "    <tr>\n",
       "      <th>max</th>\n",
       "      <td>1.000000</td>\n",
       "    </tr>\n",
       "  </tbody>\n",
       "</table>\n",
       "</div>"
      ],
      "text/plain": [
       "       account_encoded\n",
       "count     20712.000000\n",
       "mean          0.499903\n",
       "std           0.500012\n",
       "min           0.000000\n",
       "25%           0.000000\n",
       "50%           0.000000\n",
       "75%           1.000000\n",
       "max           1.000000"
      ]
     },
     "execution_count": 76,
     "metadata": {},
     "output_type": "execute_result"
    }
   ],
   "source": [
    "df.describe()"
   ]
  },
  {
   "cell_type": "code",
   "execution_count": 77,
   "id": "2233205b-39ba-40b1-beba-14f7406f108c",
   "metadata": {},
   "outputs": [
    {
     "data": {
      "text/html": [
       "<div>\n",
       "<style scoped>\n",
       "    .dataframe tbody tr th:only-of-type {\n",
       "        vertical-align: middle;\n",
       "    }\n",
       "\n",
       "    .dataframe tbody tr th {\n",
       "        vertical-align: top;\n",
       "    }\n",
       "\n",
       "    .dataframe thead th {\n",
       "        text-align: right;\n",
       "    }\n",
       "</style>\n",
       "<table border=\"1\" class=\"dataframe\">\n",
       "  <thead>\n",
       "    <tr style=\"text-align: right;\">\n",
       "      <th></th>\n",
       "      <th>screen_name</th>\n",
       "      <th>text</th>\n",
       "      <th>account.type</th>\n",
       "      <th>class_type</th>\n",
       "      <th>account_encoded</th>\n",
       "    </tr>\n",
       "  </thead>\n",
       "  <tbody>\n",
       "    <tr>\n",
       "      <th>0</th>\n",
       "      <td>imranyebot</td>\n",
       "      <td>YEA now that note GOOD</td>\n",
       "      <td>bot</td>\n",
       "      <td>others</td>\n",
       "      <td>1</td>\n",
       "    </tr>\n",
       "    <tr>\n",
       "      <th>1</th>\n",
       "      <td>zawvrk</td>\n",
       "      <td>Listen to This Charming Man by The Smiths  htt...</td>\n",
       "      <td>human</td>\n",
       "      <td>human</td>\n",
       "      <td>0</td>\n",
       "    </tr>\n",
       "    <tr>\n",
       "      <th>2</th>\n",
       "      <td>zawarbot</td>\n",
       "      <td>wish i can i would be seeing other hoes on the...</td>\n",
       "      <td>bot</td>\n",
       "      <td>others</td>\n",
       "      <td>1</td>\n",
       "    </tr>\n",
       "    <tr>\n",
       "      <th>3</th>\n",
       "      <td>ahadsheriffbot</td>\n",
       "      <td>The decade in the significantly easier schedul...</td>\n",
       "      <td>bot</td>\n",
       "      <td>others</td>\n",
       "      <td>1</td>\n",
       "    </tr>\n",
       "    <tr>\n",
       "      <th>4</th>\n",
       "      <td>kevinhookebot</td>\n",
       "      <td>\"Theim class=\\\"alignnone size-full wp-image-60...</td>\n",
       "      <td>bot</td>\n",
       "      <td>rnn</td>\n",
       "      <td>1</td>\n",
       "    </tr>\n",
       "    <tr>\n",
       "      <th>5</th>\n",
       "      <td>dril</td>\n",
       "      <td>matrix 2: pedaphile killer</td>\n",
       "      <td>human</td>\n",
       "      <td>human</td>\n",
       "      <td>0</td>\n",
       "    </tr>\n",
       "    <tr>\n",
       "      <th>6</th>\n",
       "      <td>whalefakes</td>\n",
       "      <td>the world needs more whale stories. I would lo...</td>\n",
       "      <td>bot</td>\n",
       "      <td>gpt2</td>\n",
       "      <td>1</td>\n",
       "    </tr>\n",
       "    <tr>\n",
       "      <th>7</th>\n",
       "      <td>imranyebot</td>\n",
       "      <td>the tweet of time I don’t mean It’s got us fre...</td>\n",
       "      <td>bot</td>\n",
       "      <td>others</td>\n",
       "      <td>1</td>\n",
       "    </tr>\n",
       "    <tr>\n",
       "      <th>8</th>\n",
       "      <td>ninjasexparty</td>\n",
       "      <td>nobody:\\r\\n\\r\\nNSP: penis penis penis penis pe...</td>\n",
       "      <td>human</td>\n",
       "      <td>human</td>\n",
       "      <td>0</td>\n",
       "    </tr>\n",
       "    <tr>\n",
       "      <th>9</th>\n",
       "      <td>narendramodi</td>\n",
       "      <td>Had a wonderful interaction with leaders and M...</td>\n",
       "      <td>human</td>\n",
       "      <td>human</td>\n",
       "      <td>0</td>\n",
       "    </tr>\n",
       "  </tbody>\n",
       "</table>\n",
       "</div>"
      ],
      "text/plain": [
       "      screen_name                                               text  \\\n",
       "0      imranyebot                             YEA now that note GOOD   \n",
       "1          zawvrk  Listen to This Charming Man by The Smiths  htt...   \n",
       "2        zawarbot  wish i can i would be seeing other hoes on the...   \n",
       "3  ahadsheriffbot  The decade in the significantly easier schedul...   \n",
       "4   kevinhookebot  \"Theim class=\\\"alignnone size-full wp-image-60...   \n",
       "5            dril                         matrix 2: pedaphile killer   \n",
       "6      whalefakes  the world needs more whale stories. I would lo...   \n",
       "7      imranyebot  the tweet of time I don’t mean It’s got us fre...   \n",
       "8   ninjasexparty  nobody:\\r\\n\\r\\nNSP: penis penis penis penis pe...   \n",
       "9    narendramodi  Had a wonderful interaction with leaders and M...   \n",
       "\n",
       "  account.type class_type  account_encoded  \n",
       "0          bot     others                1  \n",
       "1        human      human                0  \n",
       "2          bot     others                1  \n",
       "3          bot     others                1  \n",
       "4          bot        rnn                1  \n",
       "5        human      human                0  \n",
       "6          bot       gpt2                1  \n",
       "7          bot     others                1  \n",
       "8        human      human                0  \n",
       "9        human      human                0  "
      ]
     },
     "execution_count": 77,
     "metadata": {},
     "output_type": "execute_result"
    }
   ],
   "source": [
    "df.head(10)"
   ]
  },
  {
   "cell_type": "code",
   "execution_count": 78,
   "id": "76b34f0f-6059-4566-b5ca-4a86adce44c3",
   "metadata": {},
   "outputs": [
    {
     "data": {
      "text/html": [
       "<div>\n",
       "<style scoped>\n",
       "    .dataframe tbody tr th:only-of-type {\n",
       "        vertical-align: middle;\n",
       "    }\n",
       "\n",
       "    .dataframe tbody tr th {\n",
       "        vertical-align: top;\n",
       "    }\n",
       "\n",
       "    .dataframe thead th {\n",
       "        text-align: right;\n",
       "    }\n",
       "</style>\n",
       "<table border=\"1\" class=\"dataframe\">\n",
       "  <thead>\n",
       "    <tr style=\"text-align: right;\">\n",
       "      <th></th>\n",
       "      <th>screen_name</th>\n",
       "      <th>text</th>\n",
       "      <th>account.type</th>\n",
       "      <th>class_type</th>\n",
       "      <th>account_encoded</th>\n",
       "    </tr>\n",
       "  </thead>\n",
       "  <tbody>\n",
       "    <tr>\n",
       "      <th>20702</th>\n",
       "      <td>theJadenTrudeau</td>\n",
       "      <td>Kicking Off The Role in the Same</td>\n",
       "      <td>bot</td>\n",
       "      <td>others</td>\n",
       "      <td>1</td>\n",
       "    </tr>\n",
       "    <tr>\n",
       "      <th>20703</th>\n",
       "      <td>theJadenTrudeau</td>\n",
       "      <td>This morning roundtable In 10 Months late King...</td>\n",
       "      <td>bot</td>\n",
       "      <td>others</td>\n",
       "      <td>1</td>\n",
       "    </tr>\n",
       "    <tr>\n",
       "      <th>20704</th>\n",
       "      <td>jaden</td>\n",
       "      <td>KOD https://t.co/uIlSGBkoNf</td>\n",
       "      <td>human</td>\n",
       "      <td>human</td>\n",
       "      <td>0</td>\n",
       "    </tr>\n",
       "    <tr>\n",
       "      <th>20705</th>\n",
       "      <td>kevinhookebot</td>\n",
       "      <td>\"The recomment for my development of the back ...</td>\n",
       "      <td>bot</td>\n",
       "      <td>rnn</td>\n",
       "      <td>1</td>\n",
       "    </tr>\n",
       "    <tr>\n",
       "      <th>20706</th>\n",
       "      <td>zawvrk</td>\n",
       "      <td>kiley wore a hat that my cat peed on LMFAOOOOO</td>\n",
       "      <td>human</td>\n",
       "      <td>human</td>\n",
       "      <td>0</td>\n",
       "    </tr>\n",
       "    <tr>\n",
       "      <th>20707</th>\n",
       "      <td>AINarendraModi</td>\n",
       "      <td>Met on the Abversion of our science for the co...</td>\n",
       "      <td>bot</td>\n",
       "      <td>rnn</td>\n",
       "      <td>1</td>\n",
       "    </tr>\n",
       "    <tr>\n",
       "      <th>20708</th>\n",
       "      <td>AINarendraModi</td>\n",
       "      <td>Land for their during the opportunity to the p...</td>\n",
       "      <td>bot</td>\n",
       "      <td>rnn</td>\n",
       "      <td>1</td>\n",
       "    </tr>\n",
       "    <tr>\n",
       "      <th>20709</th>\n",
       "      <td>DeepDrumpf</td>\n",
       "      <td>@TayandYou doesn't have a clue. You're right. ...</td>\n",
       "      <td>bot</td>\n",
       "      <td>rnn</td>\n",
       "      <td>1</td>\n",
       "    </tr>\n",
       "    <tr>\n",
       "      <th>20710</th>\n",
       "      <td>jaden</td>\n",
       "      <td>Me And My Bestie https://t.co/vPq2iDkWZm</td>\n",
       "      <td>human</td>\n",
       "      <td>human</td>\n",
       "      <td>0</td>\n",
       "    </tr>\n",
       "    <tr>\n",
       "      <th>20711</th>\n",
       "      <td>kevinhookebot</td>\n",
       "      <td>\"Thead has a generate existing the Sparching f...</td>\n",
       "      <td>bot</td>\n",
       "      <td>rnn</td>\n",
       "      <td>1</td>\n",
       "    </tr>\n",
       "  </tbody>\n",
       "</table>\n",
       "</div>"
      ],
      "text/plain": [
       "           screen_name                                               text  \\\n",
       "20702  theJadenTrudeau                   Kicking Off The Role in the Same   \n",
       "20703  theJadenTrudeau  This morning roundtable In 10 Months late King...   \n",
       "20704            jaden                        KOD https://t.co/uIlSGBkoNf   \n",
       "20705    kevinhookebot  \"The recomment for my development of the back ...   \n",
       "20706           zawvrk     kiley wore a hat that my cat peed on LMFAOOOOO   \n",
       "20707   AINarendraModi  Met on the Abversion of our science for the co...   \n",
       "20708   AINarendraModi  Land for their during the opportunity to the p...   \n",
       "20709       DeepDrumpf  @TayandYou doesn't have a clue. You're right. ...   \n",
       "20710            jaden           Me And My Bestie https://t.co/vPq2iDkWZm   \n",
       "20711    kevinhookebot  \"Thead has a generate existing the Sparching f...   \n",
       "\n",
       "      account.type class_type  account_encoded  \n",
       "20702          bot     others                1  \n",
       "20703          bot     others                1  \n",
       "20704        human      human                0  \n",
       "20705          bot        rnn                1  \n",
       "20706        human      human                0  \n",
       "20707          bot        rnn                1  \n",
       "20708          bot        rnn                1  \n",
       "20709          bot        rnn                1  \n",
       "20710        human      human                0  \n",
       "20711          bot        rnn                1  "
      ]
     },
     "execution_count": 78,
     "metadata": {},
     "output_type": "execute_result"
    }
   ],
   "source": [
    "df.tail(10)"
   ]
  },
  {
   "cell_type": "code",
   "execution_count": 79,
   "id": "176bedcf-2e8e-4c21-9d91-c449c3764f15",
   "metadata": {},
   "outputs": [
    {
     "name": "stdout",
     "output_type": "stream",
     "text": [
      "\n",
      "Shape of DataFrame: (20712, 5)\n"
     ]
    }
   ],
   "source": [
    "print(\"\\nShape of DataFrame:\", df.shape)"
   ]
  },
  {
   "cell_type": "code",
   "execution_count": 80,
   "id": "237bf779-d625-459d-9790-34df186f94d5",
   "metadata": {},
   "outputs": [
    {
     "data": {
      "text/plain": [
       "(20712, 5)"
      ]
     },
     "execution_count": 80,
     "metadata": {},
     "output_type": "execute_result"
    }
   ],
   "source": [
    "df.shape"
   ]
  },
  {
   "cell_type": "code",
   "execution_count": 81,
   "id": "2101e1c7-8117-4d8c-bfd6-847ce1ce8cf2",
   "metadata": {},
   "outputs": [
    {
     "data": {
      "text/plain": [
       "screen_name        0\n",
       "text               0\n",
       "account.type       0\n",
       "class_type         0\n",
       "account_encoded    0\n",
       "dtype: int64"
      ]
     },
     "execution_count": 81,
     "metadata": {},
     "output_type": "execute_result"
    }
   ],
   "source": [
    "df.isnull().sum()"
   ]
  },
  {
   "cell_type": "code",
   "execution_count": 82,
   "id": "df9697b0-7b65-4ae1-9c31-a21b8227b3d7",
   "metadata": {},
   "outputs": [
    {
     "data": {
      "text/plain": [
       "Index(['screen_name', 'text', 'account.type', 'class_type', 'account_encoded'], dtype='object')"
      ]
     },
     "execution_count": 82,
     "metadata": {},
     "output_type": "execute_result"
    }
   ],
   "source": [
    "df.columns"
   ]
  },
  {
   "cell_type": "code",
   "execution_count": 83,
   "id": "ccb389af-9696-4a22-be61-1da467605c1d",
   "metadata": {},
   "outputs": [],
   "source": [
    "arr = df[['account_encoded']].to_numpy()"
   ]
  },
  {
   "cell_type": "code",
   "execution_count": 84,
   "id": "2fc41c52-4ddb-46b8-8a4d-f46f4bad8ffa",
   "metadata": {},
   "outputs": [
    {
     "name": "stdout",
     "output_type": "stream",
     "text": [
      "[[1]\n",
      " [0]\n",
      " [1]\n",
      " ...\n",
      " [1]\n",
      " [0]\n",
      " [1]]\n"
     ]
    }
   ],
   "source": [
    "print(arr)"
   ]
  },
  {
   "cell_type": "markdown",
   "id": "edcfa07c-57e3-4f5c-ab27-5bb2b3979678",
   "metadata": {},
   "source": [
    "### Describe"
   ]
  },
  {
   "cell_type": "code",
   "execution_count": 85,
   "id": "8de2dab4-27db-482e-ac66-27da84487c56",
   "metadata": {},
   "outputs": [
    {
     "name": "stdout",
     "output_type": "stream",
     "text": [
      "          screen_name                    text account.type class_type  \\\n",
      "count           20712                   20712        20712      20712   \n",
      "unique             40                   20712            2          4   \n",
      "top     kevinhookebot  YEA now that note GOOD        human      human   \n",
      "freq             1951                       1        10358      10358   \n",
      "mean              NaN                     NaN          NaN        NaN   \n",
      "std               NaN                     NaN          NaN        NaN   \n",
      "min               NaN                     NaN          NaN        NaN   \n",
      "25%               NaN                     NaN          NaN        NaN   \n",
      "50%               NaN                     NaN          NaN        NaN   \n",
      "75%               NaN                     NaN          NaN        NaN   \n",
      "max               NaN                     NaN          NaN        NaN   \n",
      "\n",
      "        account_encoded  \n",
      "count      20712.000000  \n",
      "unique              NaN  \n",
      "top                 NaN  \n",
      "freq                NaN  \n",
      "mean           0.499903  \n",
      "std            0.500012  \n",
      "min            0.000000  \n",
      "25%            0.000000  \n",
      "50%            0.000000  \n",
      "75%            1.000000  \n",
      "max            1.000000  \n"
     ]
    }
   ],
   "source": [
    "print(df.describe(include='all'))"
   ]
  },
  {
   "cell_type": "markdown",
   "id": "9856b25f-a1aa-4705-a702-a62d85f0ba76",
   "metadata": {},
   "source": [
    "### Reshape"
   ]
  },
  {
   "cell_type": "code",
   "execution_count": 86,
   "id": "9ac2cc21-cf89-4390-82ff-1db363de5a1d",
   "metadata": {},
   "outputs": [
    {
     "name": "stdout",
     "output_type": "stream",
     "text": [
      "Reshaped:\n",
      " [[1 0]\n",
      " [1 1]\n",
      " [1 0]\n",
      " [1 1]\n",
      " [0 0]]\n"
     ]
    }
   ],
   "source": [
    "reshaped_arr = arr[:10].reshape(5, 2)\n",
    "print(\"Reshaped:\\n\", reshaped_arr)"
   ]
  },
  {
   "cell_type": "markdown",
   "id": "673dd681-2cf1-4836-9376-d14140d75624",
   "metadata": {},
   "source": [
    "## Aggregaion functions"
   ]
  },
  {
   "cell_type": "markdown",
   "id": "1ddd78ac-7406-4259-b195-bb465eda072b",
   "metadata": {},
   "source": [
    "### Mean, Median, Mode"
   ]
  },
  {
   "cell_type": "code",
   "execution_count": 87,
   "id": "a0094420-2aca-4b97-82a5-5a333c6e0b29",
   "metadata": {},
   "outputs": [
    {
     "name": "stdout",
     "output_type": "stream",
     "text": [
      "Mean: 0.499903437620703\n"
     ]
    }
   ],
   "source": [
    "print(\"Mean:\", np.mean(arr))"
   ]
  },
  {
   "cell_type": "code",
   "execution_count": 88,
   "id": "efa1fc04-ae47-4cae-9723-5e405cbb97d9",
   "metadata": {},
   "outputs": [
    {
     "data": {
      "text/plain": [
       "mean          0.499903\n",
       "median        0.000000\n",
       "max           1.000000\n",
       "min           0.000000\n",
       "std           0.500012\n",
       "sum       10354.000000\n",
       "Name: account_encoded, dtype: float64"
      ]
     },
     "execution_count": 88,
     "metadata": {},
     "output_type": "execute_result"
    }
   ],
   "source": [
    "df['account_encoded'].agg(['mean','median','max','min','std','sum'])"
   ]
  },
  {
   "cell_type": "code",
   "execution_count": 89,
   "id": "6b45bb64-4b98-4c09-bb5c-653d2205adcd",
   "metadata": {},
   "outputs": [
    {
     "name": "stdout",
     "output_type": "stream",
     "text": [
      "Median: 0.0\n"
     ]
    }
   ],
   "source": [
    "print(\"Median:\", np.median(arr))"
   ]
  },
  {
   "cell_type": "code",
   "execution_count": 90,
   "id": "283789e3-46c1-4b3e-aafe-06a4342c7d0f",
   "metadata": {},
   "outputs": [
    {
     "name": "stdout",
     "output_type": "stream",
     "text": [
      "Mode: [0]\n"
     ]
    }
   ],
   "source": [
    "print(\"Mode:\", pd.DataFrame(arr).mode().iloc[0].to_numpy())"
   ]
  },
  {
   "cell_type": "code",
   "execution_count": 91,
   "id": "55dbdd48-f6b1-4fa9-a193-c13e3087fe3b",
   "metadata": {},
   "outputs": [
    {
     "name": "stdout",
     "output_type": "stream",
     "text": [
      "Sum Agg: 10354\n"
     ]
    }
   ],
   "source": [
    "print(\"Sum Agg:\", np.sum(arr))"
   ]
  },
  {
   "cell_type": "code",
   "execution_count": 92,
   "id": "34e0572c-47a2-4fda-9c7d-6cf6242c0fa8",
   "metadata": {},
   "outputs": [
    {
     "name": "stdout",
     "output_type": "stream",
     "text": [
      "Mean Agg: 0.499903437620703\n"
     ]
    }
   ],
   "source": [
    "print(\"Mean Agg:\", np.mean(arr))"
   ]
  },
  {
   "cell_type": "markdown",
   "id": "9f221b32-25d3-4245-95cd-3362ac7a2fdd",
   "metadata": {},
   "source": [
    "### Std"
   ]
  },
  {
   "cell_type": "code",
   "execution_count": 93,
   "id": "630fef0a-aa7f-4d45-9e72-5745eff0b407",
   "metadata": {},
   "outputs": [
    {
     "name": "stdout",
     "output_type": "stream",
     "text": [
      "Std: 0.4999999906757068\n"
     ]
    }
   ],
   "source": [
    "print(\"Std:\", np.std(arr))"
   ]
  },
  {
   "cell_type": "markdown",
   "id": "941aaeb0-22ee-4031-a259-73d3795633b7",
   "metadata": {},
   "source": [
    "### Sum"
   ]
  },
  {
   "cell_type": "code",
   "execution_count": 94,
   "id": "bc26c398-8d57-4611-9035-7a9d89a63b35",
   "metadata": {},
   "outputs": [
    {
     "name": "stdout",
     "output_type": "stream",
     "text": [
      "Sum: 10354\n"
     ]
    }
   ],
   "source": [
    "print(\"Sum:\", np.sum(arr))"
   ]
  },
  {
   "cell_type": "markdown",
   "id": "8e66ec66-7253-4c07-97c0-800e5d0b466d",
   "metadata": {},
   "source": [
    "### Vectorization"
   ]
  },
  {
   "cell_type": "code",
   "execution_count": 95,
   "id": "fc5d7e2c-ae6f-4335-9134-289143c599a6",
   "metadata": {},
   "outputs": [
    {
     "data": {
      "text/plain": [
       "array([[3],\n",
       "       [2],\n",
       "       [3],\n",
       "       ...,\n",
       "       [3],\n",
       "       [2],\n",
       "       [3]], shape=(20712, 1))"
      ]
     },
     "execution_count": 95,
     "metadata": {},
     "output_type": "execute_result"
    }
   ],
   "source": [
    "vectorized_arr = arr + 2\n",
    "vectorized_arr"
   ]
  },
  {
   "cell_type": "markdown",
   "id": "35fc3de0-2601-4b38-ad8f-96ce1cae4333",
   "metadata": {},
   "source": [
    "### Map"
   ]
  },
  {
   "cell_type": "code",
   "execution_count": 96,
   "id": "928054cb-6ba4-4c92-9c6b-29fc937c5a26",
   "metadata": {},
   "outputs": [
    {
     "data": {
      "text/plain": [
       "array([[2],\n",
       "       [0],\n",
       "       [2],\n",
       "       ...,\n",
       "       [2],\n",
       "       [0],\n",
       "       [2]], shape=(20712, 1))"
      ]
     },
     "execution_count": 96,
     "metadata": {},
     "output_type": "execute_result"
    }
   ],
   "source": [
    "mapped_arr = np.vectorize(lambda x: x * 2)(arr)\n",
    "mapped_arr"
   ]
  },
  {
   "cell_type": "markdown",
   "id": "efbe0873-3cd8-45cb-ac30-198c65b1ae20",
   "metadata": {},
   "source": [
    "### Filter"
   ]
  },
  {
   "cell_type": "code",
   "execution_count": 97,
   "id": "7cd34bf4-a6d5-4934-8d52-69e24371f3c1",
   "metadata": {},
   "outputs": [
    {
     "data": {
      "text/plain": [
       "array([1, 1, 1, ..., 1, 1, 1], shape=(10354,))"
      ]
     },
     "execution_count": 97,
     "metadata": {},
     "output_type": "execute_result"
    }
   ],
   "source": [
    "filtered_arr = arr[arr > np.mean(arr)]\n",
    "filtered_arr"
   ]
  },
  {
   "cell_type": "markdown",
   "id": "d1ef60f4-b19b-4715-970f-dd302f8eaf0b",
   "metadata": {},
   "source": [
    "### Reduce"
   ]
  },
  {
   "cell_type": "code",
   "execution_count": 98,
   "id": "c0afba17-e3a9-4344-85bd-54d69ecd5c0d",
   "metadata": {},
   "outputs": [
    {
     "data": {
      "text/plain": [
       "np.int64(10354)"
      ]
     },
     "execution_count": 98,
     "metadata": {},
     "output_type": "execute_result"
    }
   ],
   "source": [
    "from functools import reduce\n",
    "reduced_sum = reduce(lambda x, y: x + y, arr.flatten())\n",
    "reduced_sum"
   ]
  },
  {
   "cell_type": "markdown",
   "id": "5c5f21e9-39ce-4faf-88b6-c0cbf9045d2c",
   "metadata": {},
   "source": [
    "### Lambda"
   ]
  },
  {
   "cell_type": "code",
   "execution_count": 99,
   "id": "75eb1aec-3dd4-4886-a897-affcb89d2d9a",
   "metadata": {},
   "outputs": [
    {
     "data": {
      "text/plain": [
       "array([3, 0, 3, ..., 3, 0, 3], shape=(20712,))"
      ]
     },
     "execution_count": 99,
     "metadata": {},
     "output_type": "execute_result"
    }
   ],
   "source": [
    "lambda_arr = np.array(list(map(lambda x: x * 3, arr.flatten())))\n",
    "lambda_arr\n"
   ]
  },
  {
   "cell_type": "markdown",
   "id": "1181f649-9344-4d28-8661-ae84172c36be",
   "metadata": {},
   "source": [
    "## ===== PANDAS OPERATIONS ====="
   ]
  },
  {
   "cell_type": "markdown",
   "id": "8d5df916-22b3-4983-8fdf-3f13f14aa667",
   "metadata": {},
   "source": [
    "# 3.Data Preprocesing and cleaning"
   ]
  },
  {
   "cell_type": "markdown",
   "id": "c7797a1f-51f4-47c3-b4a7-1ff7b6abe6ab",
   "metadata": {},
   "source": [
    "### Create DataFrame"
   ]
  },
  {
   "cell_type": "code",
   "execution_count": 100,
   "id": "bf04da51-5275-4631-bb00-9b5ea93cfd58",
   "metadata": {},
   "outputs": [
    {
     "data": {
      "text/html": [
       "<div>\n",
       "<style scoped>\n",
       "    .dataframe tbody tr th:only-of-type {\n",
       "        vertical-align: middle;\n",
       "    }\n",
       "\n",
       "    .dataframe tbody tr th {\n",
       "        vertical-align: top;\n",
       "    }\n",
       "\n",
       "    .dataframe thead th {\n",
       "        text-align: right;\n",
       "    }\n",
       "</style>\n",
       "<table border=\"1\" class=\"dataframe\">\n",
       "  <thead>\n",
       "    <tr style=\"text-align: right;\">\n",
       "      <th></th>\n",
       "      <th>A</th>\n",
       "      <th>B</th>\n",
       "    </tr>\n",
       "  </thead>\n",
       "  <tbody>\n",
       "    <tr>\n",
       "      <th>0</th>\n",
       "      <td>1</td>\n",
       "      <td>3</td>\n",
       "    </tr>\n",
       "    <tr>\n",
       "      <th>1</th>\n",
       "      <td>2</td>\n",
       "      <td>4</td>\n",
       "    </tr>\n",
       "  </tbody>\n",
       "</table>\n",
       "</div>"
      ],
      "text/plain": [
       "   A  B\n",
       "0  1  3\n",
       "1  2  4"
      ]
     },
     "execution_count": 100,
     "metadata": {},
     "output_type": "execute_result"
    }
   ],
   "source": [
    "df_new = pd.DataFrame({\"A\": [1, 2], \"B\": [3, 4]})\n",
    "df_new"
   ]
  },
  {
   "cell_type": "markdown",
   "id": "05c1e0e0-0d8c-4f9b-90ee-54621f78ddf3",
   "metadata": {},
   "source": [
    "### Column add and drop"
   ]
  },
  {
   "cell_type": "code",
   "execution_count": 101,
   "id": "142ec2eb-b0a8-47f8-b2f7-cc5214883f38",
   "metadata": {},
   "outputs": [
    {
     "data": {
      "text/html": [
       "<div>\n",
       "<style scoped>\n",
       "    .dataframe tbody tr th:only-of-type {\n",
       "        vertical-align: middle;\n",
       "    }\n",
       "\n",
       "    .dataframe tbody tr th {\n",
       "        vertical-align: top;\n",
       "    }\n",
       "\n",
       "    .dataframe thead th {\n",
       "        text-align: right;\n",
       "    }\n",
       "</style>\n",
       "<table border=\"1\" class=\"dataframe\">\n",
       "  <thead>\n",
       "    <tr style=\"text-align: right;\">\n",
       "      <th></th>\n",
       "      <th>screen_name</th>\n",
       "      <th>text</th>\n",
       "      <th>account.type</th>\n",
       "      <th>class_type</th>\n",
       "      <th>account_encoded</th>\n",
       "      <th>new_col</th>\n",
       "    </tr>\n",
       "  </thead>\n",
       "  <tbody>\n",
       "    <tr>\n",
       "      <th>0</th>\n",
       "      <td>imranyebot</td>\n",
       "      <td>YEA now that note GOOD</td>\n",
       "      <td>bot</td>\n",
       "      <td>others</td>\n",
       "      <td>1</td>\n",
       "      <td>2</td>\n",
       "    </tr>\n",
       "    <tr>\n",
       "      <th>1</th>\n",
       "      <td>zawvrk</td>\n",
       "      <td>Listen to This Charming Man by The Smiths  htt...</td>\n",
       "      <td>human</td>\n",
       "      <td>human</td>\n",
       "      <td>0</td>\n",
       "      <td>0</td>\n",
       "    </tr>\n",
       "    <tr>\n",
       "      <th>2</th>\n",
       "      <td>zawarbot</td>\n",
       "      <td>wish i can i would be seeing other hoes on the...</td>\n",
       "      <td>bot</td>\n",
       "      <td>others</td>\n",
       "      <td>1</td>\n",
       "      <td>2</td>\n",
       "    </tr>\n",
       "    <tr>\n",
       "      <th>3</th>\n",
       "      <td>ahadsheriffbot</td>\n",
       "      <td>The decade in the significantly easier schedul...</td>\n",
       "      <td>bot</td>\n",
       "      <td>others</td>\n",
       "      <td>1</td>\n",
       "      <td>2</td>\n",
       "    </tr>\n",
       "    <tr>\n",
       "      <th>4</th>\n",
       "      <td>kevinhookebot</td>\n",
       "      <td>\"Theim class=\\\"alignnone size-full wp-image-60...</td>\n",
       "      <td>bot</td>\n",
       "      <td>rnn</td>\n",
       "      <td>1</td>\n",
       "      <td>2</td>\n",
       "    </tr>\n",
       "    <tr>\n",
       "      <th>...</th>\n",
       "      <td>...</td>\n",
       "      <td>...</td>\n",
       "      <td>...</td>\n",
       "      <td>...</td>\n",
       "      <td>...</td>\n",
       "      <td>...</td>\n",
       "    </tr>\n",
       "    <tr>\n",
       "      <th>20707</th>\n",
       "      <td>AINarendraModi</td>\n",
       "      <td>Met on the Abversion of our science for the co...</td>\n",
       "      <td>bot</td>\n",
       "      <td>rnn</td>\n",
       "      <td>1</td>\n",
       "      <td>2</td>\n",
       "    </tr>\n",
       "    <tr>\n",
       "      <th>20708</th>\n",
       "      <td>AINarendraModi</td>\n",
       "      <td>Land for their during the opportunity to the p...</td>\n",
       "      <td>bot</td>\n",
       "      <td>rnn</td>\n",
       "      <td>1</td>\n",
       "      <td>2</td>\n",
       "    </tr>\n",
       "    <tr>\n",
       "      <th>20709</th>\n",
       "      <td>DeepDrumpf</td>\n",
       "      <td>@TayandYou doesn't have a clue. You're right. ...</td>\n",
       "      <td>bot</td>\n",
       "      <td>rnn</td>\n",
       "      <td>1</td>\n",
       "      <td>2</td>\n",
       "    </tr>\n",
       "    <tr>\n",
       "      <th>20710</th>\n",
       "      <td>jaden</td>\n",
       "      <td>Me And My Bestie https://t.co/vPq2iDkWZm</td>\n",
       "      <td>human</td>\n",
       "      <td>human</td>\n",
       "      <td>0</td>\n",
       "      <td>0</td>\n",
       "    </tr>\n",
       "    <tr>\n",
       "      <th>20711</th>\n",
       "      <td>kevinhookebot</td>\n",
       "      <td>\"Thead has a generate existing the Sparching f...</td>\n",
       "      <td>bot</td>\n",
       "      <td>rnn</td>\n",
       "      <td>1</td>\n",
       "      <td>2</td>\n",
       "    </tr>\n",
       "  </tbody>\n",
       "</table>\n",
       "<p>20712 rows × 6 columns</p>\n",
       "</div>"
      ],
      "text/plain": [
       "          screen_name                                               text  \\\n",
       "0          imranyebot                             YEA now that note GOOD   \n",
       "1              zawvrk  Listen to This Charming Man by The Smiths  htt...   \n",
       "2            zawarbot  wish i can i would be seeing other hoes on the...   \n",
       "3      ahadsheriffbot  The decade in the significantly easier schedul...   \n",
       "4       kevinhookebot  \"Theim class=\\\"alignnone size-full wp-image-60...   \n",
       "...               ...                                                ...   \n",
       "20707  AINarendraModi  Met on the Abversion of our science for the co...   \n",
       "20708  AINarendraModi  Land for their during the opportunity to the p...   \n",
       "20709      DeepDrumpf  @TayandYou doesn't have a clue. You're right. ...   \n",
       "20710           jaden           Me And My Bestie https://t.co/vPq2iDkWZm   \n",
       "20711   kevinhookebot  \"Thead has a generate existing the Sparching f...   \n",
       "\n",
       "      account.type class_type  account_encoded  new_col  \n",
       "0              bot     others                1        2  \n",
       "1            human      human                0        0  \n",
       "2              bot     others                1        2  \n",
       "3              bot     others                1        2  \n",
       "4              bot        rnn                1        2  \n",
       "...            ...        ...              ...      ...  \n",
       "20707          bot        rnn                1        2  \n",
       "20708          bot        rnn                1        2  \n",
       "20709          bot        rnn                1        2  \n",
       "20710        human      human                0        0  \n",
       "20711          bot        rnn                1        2  \n",
       "\n",
       "[20712 rows x 6 columns]"
      ]
     },
     "execution_count": 101,
     "metadata": {},
     "output_type": "execute_result"
    }
   ],
   "source": [
    "df[\"new_col\"] = df[\"account_encoded\"] * 2\n",
    "df"
   ]
  },
  {
   "cell_type": "code",
   "execution_count": 102,
   "id": "19fe6aeb-867f-4a51-a22a-0ec7c785447b",
   "metadata": {},
   "outputs": [
    {
     "data": {
      "text/html": [
       "<div>\n",
       "<style scoped>\n",
       "    .dataframe tbody tr th:only-of-type {\n",
       "        vertical-align: middle;\n",
       "    }\n",
       "\n",
       "    .dataframe tbody tr th {\n",
       "        vertical-align: top;\n",
       "    }\n",
       "\n",
       "    .dataframe thead th {\n",
       "        text-align: right;\n",
       "    }\n",
       "</style>\n",
       "<table border=\"1\" class=\"dataframe\">\n",
       "  <thead>\n",
       "    <tr style=\"text-align: right;\">\n",
       "      <th></th>\n",
       "      <th>screen_name</th>\n",
       "      <th>text</th>\n",
       "      <th>account.type</th>\n",
       "      <th>class_type</th>\n",
       "      <th>account_encoded</th>\n",
       "    </tr>\n",
       "  </thead>\n",
       "  <tbody>\n",
       "    <tr>\n",
       "      <th>0</th>\n",
       "      <td>imranyebot</td>\n",
       "      <td>YEA now that note GOOD</td>\n",
       "      <td>bot</td>\n",
       "      <td>others</td>\n",
       "      <td>1</td>\n",
       "    </tr>\n",
       "    <tr>\n",
       "      <th>1</th>\n",
       "      <td>zawvrk</td>\n",
       "      <td>Listen to This Charming Man by The Smiths  htt...</td>\n",
       "      <td>human</td>\n",
       "      <td>human</td>\n",
       "      <td>0</td>\n",
       "    </tr>\n",
       "    <tr>\n",
       "      <th>2</th>\n",
       "      <td>zawarbot</td>\n",
       "      <td>wish i can i would be seeing other hoes on the...</td>\n",
       "      <td>bot</td>\n",
       "      <td>others</td>\n",
       "      <td>1</td>\n",
       "    </tr>\n",
       "    <tr>\n",
       "      <th>3</th>\n",
       "      <td>ahadsheriffbot</td>\n",
       "      <td>The decade in the significantly easier schedul...</td>\n",
       "      <td>bot</td>\n",
       "      <td>others</td>\n",
       "      <td>1</td>\n",
       "    </tr>\n",
       "    <tr>\n",
       "      <th>4</th>\n",
       "      <td>kevinhookebot</td>\n",
       "      <td>\"Theim class=\\\"alignnone size-full wp-image-60...</td>\n",
       "      <td>bot</td>\n",
       "      <td>rnn</td>\n",
       "      <td>1</td>\n",
       "    </tr>\n",
       "    <tr>\n",
       "      <th>...</th>\n",
       "      <td>...</td>\n",
       "      <td>...</td>\n",
       "      <td>...</td>\n",
       "      <td>...</td>\n",
       "      <td>...</td>\n",
       "    </tr>\n",
       "    <tr>\n",
       "      <th>20707</th>\n",
       "      <td>AINarendraModi</td>\n",
       "      <td>Met on the Abversion of our science for the co...</td>\n",
       "      <td>bot</td>\n",
       "      <td>rnn</td>\n",
       "      <td>1</td>\n",
       "    </tr>\n",
       "    <tr>\n",
       "      <th>20708</th>\n",
       "      <td>AINarendraModi</td>\n",
       "      <td>Land for their during the opportunity to the p...</td>\n",
       "      <td>bot</td>\n",
       "      <td>rnn</td>\n",
       "      <td>1</td>\n",
       "    </tr>\n",
       "    <tr>\n",
       "      <th>20709</th>\n",
       "      <td>DeepDrumpf</td>\n",
       "      <td>@TayandYou doesn't have a clue. You're right. ...</td>\n",
       "      <td>bot</td>\n",
       "      <td>rnn</td>\n",
       "      <td>1</td>\n",
       "    </tr>\n",
       "    <tr>\n",
       "      <th>20710</th>\n",
       "      <td>jaden</td>\n",
       "      <td>Me And My Bestie https://t.co/vPq2iDkWZm</td>\n",
       "      <td>human</td>\n",
       "      <td>human</td>\n",
       "      <td>0</td>\n",
       "    </tr>\n",
       "    <tr>\n",
       "      <th>20711</th>\n",
       "      <td>kevinhookebot</td>\n",
       "      <td>\"Thead has a generate existing the Sparching f...</td>\n",
       "      <td>bot</td>\n",
       "      <td>rnn</td>\n",
       "      <td>1</td>\n",
       "    </tr>\n",
       "  </tbody>\n",
       "</table>\n",
       "<p>20712 rows × 5 columns</p>\n",
       "</div>"
      ],
      "text/plain": [
       "          screen_name                                               text  \\\n",
       "0          imranyebot                             YEA now that note GOOD   \n",
       "1              zawvrk  Listen to This Charming Man by The Smiths  htt...   \n",
       "2            zawarbot  wish i can i would be seeing other hoes on the...   \n",
       "3      ahadsheriffbot  The decade in the significantly easier schedul...   \n",
       "4       kevinhookebot  \"Theim class=\\\"alignnone size-full wp-image-60...   \n",
       "...               ...                                                ...   \n",
       "20707  AINarendraModi  Met on the Abversion of our science for the co...   \n",
       "20708  AINarendraModi  Land for their during the opportunity to the p...   \n",
       "20709      DeepDrumpf  @TayandYou doesn't have a clue. You're right. ...   \n",
       "20710           jaden           Me And My Bestie https://t.co/vPq2iDkWZm   \n",
       "20711   kevinhookebot  \"Thead has a generate existing the Sparching f...   \n",
       "\n",
       "      account.type class_type  account_encoded  \n",
       "0              bot     others                1  \n",
       "1            human      human                0  \n",
       "2              bot     others                1  \n",
       "3              bot     others                1  \n",
       "4              bot        rnn                1  \n",
       "...            ...        ...              ...  \n",
       "20707          bot        rnn                1  \n",
       "20708          bot        rnn                1  \n",
       "20709          bot        rnn                1  \n",
       "20710        human      human                0  \n",
       "20711          bot        rnn                1  \n",
       "\n",
       "[20712 rows x 5 columns]"
      ]
     },
     "execution_count": 102,
     "metadata": {},
     "output_type": "execute_result"
    }
   ],
   "source": [
    "df_dropped_col = df.drop(columns=[\"new_col\"])\n",
    "df_dropped_col"
   ]
  },
  {
   "cell_type": "markdown",
   "id": "049b09b0-f16c-47c8-9561-9a4367ce6528",
   "metadata": {},
   "source": [
    "### Row add and drop"
   ]
  },
  {
   "cell_type": "code",
   "execution_count": 103,
   "id": "b7ad8491-28aa-4d4c-bf0c-1370b7a5973f",
   "metadata": {},
   "outputs": [
    {
     "data": {
      "text/html": [
       "<div>\n",
       "<style scoped>\n",
       "    .dataframe tbody tr th:only-of-type {\n",
       "        vertical-align: middle;\n",
       "    }\n",
       "\n",
       "    .dataframe tbody tr th {\n",
       "        vertical-align: top;\n",
       "    }\n",
       "\n",
       "    .dataframe thead th {\n",
       "        text-align: right;\n",
       "    }\n",
       "</style>\n",
       "<table border=\"1\" class=\"dataframe\">\n",
       "  <thead>\n",
       "    <tr style=\"text-align: right;\">\n",
       "      <th></th>\n",
       "      <th>screen_name</th>\n",
       "      <th>text</th>\n",
       "      <th>account.type</th>\n",
       "      <th>class_type</th>\n",
       "      <th>account_encoded</th>\n",
       "      <th>new_col</th>\n",
       "    </tr>\n",
       "  </thead>\n",
       "  <tbody>\n",
       "    <tr>\n",
       "      <th>0</th>\n",
       "      <td>imranyebot</td>\n",
       "      <td>YEA now that note GOOD</td>\n",
       "      <td>bot</td>\n",
       "      <td>others</td>\n",
       "      <td>1</td>\n",
       "      <td>2</td>\n",
       "    </tr>\n",
       "    <tr>\n",
       "      <th>1</th>\n",
       "      <td>zawvrk</td>\n",
       "      <td>Listen to This Charming Man by The Smiths  htt...</td>\n",
       "      <td>human</td>\n",
       "      <td>human</td>\n",
       "      <td>0</td>\n",
       "      <td>0</td>\n",
       "    </tr>\n",
       "    <tr>\n",
       "      <th>2</th>\n",
       "      <td>zawarbot</td>\n",
       "      <td>wish i can i would be seeing other hoes on the...</td>\n",
       "      <td>bot</td>\n",
       "      <td>others</td>\n",
       "      <td>1</td>\n",
       "      <td>2</td>\n",
       "    </tr>\n",
       "    <tr>\n",
       "      <th>3</th>\n",
       "      <td>ahadsheriffbot</td>\n",
       "      <td>The decade in the significantly easier schedul...</td>\n",
       "      <td>bot</td>\n",
       "      <td>others</td>\n",
       "      <td>1</td>\n",
       "      <td>2</td>\n",
       "    </tr>\n",
       "    <tr>\n",
       "      <th>4</th>\n",
       "      <td>kevinhookebot</td>\n",
       "      <td>\"Theim class=\\\"alignnone size-full wp-image-60...</td>\n",
       "      <td>bot</td>\n",
       "      <td>rnn</td>\n",
       "      <td>1</td>\n",
       "      <td>2</td>\n",
       "    </tr>\n",
       "    <tr>\n",
       "      <th>...</th>\n",
       "      <td>...</td>\n",
       "      <td>...</td>\n",
       "      <td>...</td>\n",
       "      <td>...</td>\n",
       "      <td>...</td>\n",
       "      <td>...</td>\n",
       "    </tr>\n",
       "    <tr>\n",
       "      <th>20708</th>\n",
       "      <td>AINarendraModi</td>\n",
       "      <td>Land for their during the opportunity to the p...</td>\n",
       "      <td>bot</td>\n",
       "      <td>rnn</td>\n",
       "      <td>1</td>\n",
       "      <td>2</td>\n",
       "    </tr>\n",
       "    <tr>\n",
       "      <th>20709</th>\n",
       "      <td>DeepDrumpf</td>\n",
       "      <td>@TayandYou doesn't have a clue. You're right. ...</td>\n",
       "      <td>bot</td>\n",
       "      <td>rnn</td>\n",
       "      <td>1</td>\n",
       "      <td>2</td>\n",
       "    </tr>\n",
       "    <tr>\n",
       "      <th>20710</th>\n",
       "      <td>jaden</td>\n",
       "      <td>Me And My Bestie https://t.co/vPq2iDkWZm</td>\n",
       "      <td>human</td>\n",
       "      <td>human</td>\n",
       "      <td>0</td>\n",
       "      <td>0</td>\n",
       "    </tr>\n",
       "    <tr>\n",
       "      <th>20711</th>\n",
       "      <td>kevinhookebot</td>\n",
       "      <td>\"Thead has a generate existing the Sparching f...</td>\n",
       "      <td>bot</td>\n",
       "      <td>rnn</td>\n",
       "      <td>1</td>\n",
       "      <td>2</td>\n",
       "    </tr>\n",
       "    <tr>\n",
       "      <th>20712</th>\n",
       "      <td>imranyebot</td>\n",
       "      <td>YEA now that note GOOD</td>\n",
       "      <td>bot</td>\n",
       "      <td>others</td>\n",
       "      <td>1</td>\n",
       "      <td>2</td>\n",
       "    </tr>\n",
       "  </tbody>\n",
       "</table>\n",
       "<p>20713 rows × 6 columns</p>\n",
       "</div>"
      ],
      "text/plain": [
       "          screen_name                                               text  \\\n",
       "0          imranyebot                             YEA now that note GOOD   \n",
       "1              zawvrk  Listen to This Charming Man by The Smiths  htt...   \n",
       "2            zawarbot  wish i can i would be seeing other hoes on the...   \n",
       "3      ahadsheriffbot  The decade in the significantly easier schedul...   \n",
       "4       kevinhookebot  \"Theim class=\\\"alignnone size-full wp-image-60...   \n",
       "...               ...                                                ...   \n",
       "20708  AINarendraModi  Land for their during the opportunity to the p...   \n",
       "20709      DeepDrumpf  @TayandYou doesn't have a clue. You're right. ...   \n",
       "20710           jaden           Me And My Bestie https://t.co/vPq2iDkWZm   \n",
       "20711   kevinhookebot  \"Thead has a generate existing the Sparching f...   \n",
       "20712      imranyebot                             YEA now that note GOOD   \n",
       "\n",
       "      account.type class_type  account_encoded  new_col  \n",
       "0              bot     others                1        2  \n",
       "1            human      human                0        0  \n",
       "2              bot     others                1        2  \n",
       "3              bot     others                1        2  \n",
       "4              bot        rnn                1        2  \n",
       "...            ...        ...              ...      ...  \n",
       "20708          bot        rnn                1        2  \n",
       "20709          bot        rnn                1        2  \n",
       "20710        human      human                0        0  \n",
       "20711          bot        rnn                1        2  \n",
       "20712          bot     others                1        2  \n",
       "\n",
       "[20713 rows x 6 columns]"
      ]
     },
     "execution_count": 103,
     "metadata": {},
     "output_type": "execute_result"
    }
   ],
   "source": [
    "df_added_row = pd.concat([df, pd.DataFrame([df.iloc[0]])], ignore_index=True)\n",
    "df_added_row"
   ]
  },
  {
   "cell_type": "code",
   "execution_count": 104,
   "id": "53c5ab19-2565-4b4b-936c-74a8223e5e52",
   "metadata": {},
   "outputs": [
    {
     "data": {
      "text/html": [
       "<div>\n",
       "<style scoped>\n",
       "    .dataframe tbody tr th:only-of-type {\n",
       "        vertical-align: middle;\n",
       "    }\n",
       "\n",
       "    .dataframe tbody tr th {\n",
       "        vertical-align: top;\n",
       "    }\n",
       "\n",
       "    .dataframe thead th {\n",
       "        text-align: right;\n",
       "    }\n",
       "</style>\n",
       "<table border=\"1\" class=\"dataframe\">\n",
       "  <thead>\n",
       "    <tr style=\"text-align: right;\">\n",
       "      <th></th>\n",
       "      <th>screen_name</th>\n",
       "      <th>text</th>\n",
       "      <th>account.type</th>\n",
       "      <th>class_type</th>\n",
       "      <th>account_encoded</th>\n",
       "      <th>new_col</th>\n",
       "    </tr>\n",
       "  </thead>\n",
       "  <tbody>\n",
       "    <tr>\n",
       "      <th>1</th>\n",
       "      <td>zawvrk</td>\n",
       "      <td>Listen to This Charming Man by The Smiths  htt...</td>\n",
       "      <td>human</td>\n",
       "      <td>human</td>\n",
       "      <td>0</td>\n",
       "      <td>0</td>\n",
       "    </tr>\n",
       "    <tr>\n",
       "      <th>2</th>\n",
       "      <td>zawarbot</td>\n",
       "      <td>wish i can i would be seeing other hoes on the...</td>\n",
       "      <td>bot</td>\n",
       "      <td>others</td>\n",
       "      <td>1</td>\n",
       "      <td>2</td>\n",
       "    </tr>\n",
       "    <tr>\n",
       "      <th>3</th>\n",
       "      <td>ahadsheriffbot</td>\n",
       "      <td>The decade in the significantly easier schedul...</td>\n",
       "      <td>bot</td>\n",
       "      <td>others</td>\n",
       "      <td>1</td>\n",
       "      <td>2</td>\n",
       "    </tr>\n",
       "    <tr>\n",
       "      <th>4</th>\n",
       "      <td>kevinhookebot</td>\n",
       "      <td>\"Theim class=\\\"alignnone size-full wp-image-60...</td>\n",
       "      <td>bot</td>\n",
       "      <td>rnn</td>\n",
       "      <td>1</td>\n",
       "      <td>2</td>\n",
       "    </tr>\n",
       "    <tr>\n",
       "      <th>5</th>\n",
       "      <td>dril</td>\n",
       "      <td>matrix 2: pedaphile killer</td>\n",
       "      <td>human</td>\n",
       "      <td>human</td>\n",
       "      <td>0</td>\n",
       "      <td>0</td>\n",
       "    </tr>\n",
       "    <tr>\n",
       "      <th>...</th>\n",
       "      <td>...</td>\n",
       "      <td>...</td>\n",
       "      <td>...</td>\n",
       "      <td>...</td>\n",
       "      <td>...</td>\n",
       "      <td>...</td>\n",
       "    </tr>\n",
       "    <tr>\n",
       "      <th>20707</th>\n",
       "      <td>AINarendraModi</td>\n",
       "      <td>Met on the Abversion of our science for the co...</td>\n",
       "      <td>bot</td>\n",
       "      <td>rnn</td>\n",
       "      <td>1</td>\n",
       "      <td>2</td>\n",
       "    </tr>\n",
       "    <tr>\n",
       "      <th>20708</th>\n",
       "      <td>AINarendraModi</td>\n",
       "      <td>Land for their during the opportunity to the p...</td>\n",
       "      <td>bot</td>\n",
       "      <td>rnn</td>\n",
       "      <td>1</td>\n",
       "      <td>2</td>\n",
       "    </tr>\n",
       "    <tr>\n",
       "      <th>20709</th>\n",
       "      <td>DeepDrumpf</td>\n",
       "      <td>@TayandYou doesn't have a clue. You're right. ...</td>\n",
       "      <td>bot</td>\n",
       "      <td>rnn</td>\n",
       "      <td>1</td>\n",
       "      <td>2</td>\n",
       "    </tr>\n",
       "    <tr>\n",
       "      <th>20710</th>\n",
       "      <td>jaden</td>\n",
       "      <td>Me And My Bestie https://t.co/vPq2iDkWZm</td>\n",
       "      <td>human</td>\n",
       "      <td>human</td>\n",
       "      <td>0</td>\n",
       "      <td>0</td>\n",
       "    </tr>\n",
       "    <tr>\n",
       "      <th>20711</th>\n",
       "      <td>kevinhookebot</td>\n",
       "      <td>\"Thead has a generate existing the Sparching f...</td>\n",
       "      <td>bot</td>\n",
       "      <td>rnn</td>\n",
       "      <td>1</td>\n",
       "      <td>2</td>\n",
       "    </tr>\n",
       "  </tbody>\n",
       "</table>\n",
       "<p>20711 rows × 6 columns</p>\n",
       "</div>"
      ],
      "text/plain": [
       "          screen_name                                               text  \\\n",
       "1              zawvrk  Listen to This Charming Man by The Smiths  htt...   \n",
       "2            zawarbot  wish i can i would be seeing other hoes on the...   \n",
       "3      ahadsheriffbot  The decade in the significantly easier schedul...   \n",
       "4       kevinhookebot  \"Theim class=\\\"alignnone size-full wp-image-60...   \n",
       "5                dril                         matrix 2: pedaphile killer   \n",
       "...               ...                                                ...   \n",
       "20707  AINarendraModi  Met on the Abversion of our science for the co...   \n",
       "20708  AINarendraModi  Land for their during the opportunity to the p...   \n",
       "20709      DeepDrumpf  @TayandYou doesn't have a clue. You're right. ...   \n",
       "20710           jaden           Me And My Bestie https://t.co/vPq2iDkWZm   \n",
       "20711   kevinhookebot  \"Thead has a generate existing the Sparching f...   \n",
       "\n",
       "      account.type class_type  account_encoded  new_col  \n",
       "1            human      human                0        0  \n",
       "2              bot     others                1        2  \n",
       "3              bot     others                1        2  \n",
       "4              bot        rnn                1        2  \n",
       "5            human      human                0        0  \n",
       "...            ...        ...              ...      ...  \n",
       "20707          bot        rnn                1        2  \n",
       "20708          bot        rnn                1        2  \n",
       "20709          bot        rnn                1        2  \n",
       "20710        human      human                0        0  \n",
       "20711          bot        rnn                1        2  \n",
       "\n",
       "[20711 rows x 6 columns]"
      ]
     },
     "execution_count": 104,
     "metadata": {},
     "output_type": "execute_result"
    }
   ],
   "source": [
    "df_dropped_row = df.drop(index=0)\n",
    "df_dropped_row"
   ]
  },
  {
   "cell_type": "markdown",
   "id": "5bcb9cab-e887-4ccc-b5bf-3ac2f2a41c34",
   "metadata": {},
   "source": [
    "### Map"
   ]
  },
  {
   "cell_type": "code",
   "execution_count": 105,
   "id": "c77ee3e1-b44d-466a-858e-8e1666b78fb9",
   "metadata": {},
   "outputs": [
    {
     "data": {
      "text/html": [
       "<div>\n",
       "<style scoped>\n",
       "    .dataframe tbody tr th:only-of-type {\n",
       "        vertical-align: middle;\n",
       "    }\n",
       "\n",
       "    .dataframe tbody tr th {\n",
       "        vertical-align: top;\n",
       "    }\n",
       "\n",
       "    .dataframe thead th {\n",
       "        text-align: right;\n",
       "    }\n",
       "</style>\n",
       "<table border=\"1\" class=\"dataframe\">\n",
       "  <thead>\n",
       "    <tr style=\"text-align: right;\">\n",
       "      <th></th>\n",
       "      <th>screen_name</th>\n",
       "      <th>text</th>\n",
       "      <th>account.type</th>\n",
       "      <th>class_type</th>\n",
       "      <th>account_encoded</th>\n",
       "      <th>new_col</th>\n",
       "      <th>mapped_col</th>\n",
       "    </tr>\n",
       "  </thead>\n",
       "  <tbody>\n",
       "    <tr>\n",
       "      <th>0</th>\n",
       "      <td>imranyebot</td>\n",
       "      <td>YEA now that note GOOD</td>\n",
       "      <td>bot</td>\n",
       "      <td>others</td>\n",
       "      <td>1</td>\n",
       "      <td>2</td>\n",
       "      <td>2</td>\n",
       "    </tr>\n",
       "    <tr>\n",
       "      <th>1</th>\n",
       "      <td>zawvrk</td>\n",
       "      <td>Listen to This Charming Man by The Smiths  htt...</td>\n",
       "      <td>human</td>\n",
       "      <td>human</td>\n",
       "      <td>0</td>\n",
       "      <td>0</td>\n",
       "      <td>0</td>\n",
       "    </tr>\n",
       "    <tr>\n",
       "      <th>2</th>\n",
       "      <td>zawarbot</td>\n",
       "      <td>wish i can i would be seeing other hoes on the...</td>\n",
       "      <td>bot</td>\n",
       "      <td>others</td>\n",
       "      <td>1</td>\n",
       "      <td>2</td>\n",
       "      <td>2</td>\n",
       "    </tr>\n",
       "    <tr>\n",
       "      <th>3</th>\n",
       "      <td>ahadsheriffbot</td>\n",
       "      <td>The decade in the significantly easier schedul...</td>\n",
       "      <td>bot</td>\n",
       "      <td>others</td>\n",
       "      <td>1</td>\n",
       "      <td>2</td>\n",
       "      <td>2</td>\n",
       "    </tr>\n",
       "    <tr>\n",
       "      <th>4</th>\n",
       "      <td>kevinhookebot</td>\n",
       "      <td>\"Theim class=\\\"alignnone size-full wp-image-60...</td>\n",
       "      <td>bot</td>\n",
       "      <td>rnn</td>\n",
       "      <td>1</td>\n",
       "      <td>2</td>\n",
       "      <td>2</td>\n",
       "    </tr>\n",
       "    <tr>\n",
       "      <th>...</th>\n",
       "      <td>...</td>\n",
       "      <td>...</td>\n",
       "      <td>...</td>\n",
       "      <td>...</td>\n",
       "      <td>...</td>\n",
       "      <td>...</td>\n",
       "      <td>...</td>\n",
       "    </tr>\n",
       "    <tr>\n",
       "      <th>20707</th>\n",
       "      <td>AINarendraModi</td>\n",
       "      <td>Met on the Abversion of our science for the co...</td>\n",
       "      <td>bot</td>\n",
       "      <td>rnn</td>\n",
       "      <td>1</td>\n",
       "      <td>2</td>\n",
       "      <td>2</td>\n",
       "    </tr>\n",
       "    <tr>\n",
       "      <th>20708</th>\n",
       "      <td>AINarendraModi</td>\n",
       "      <td>Land for their during the opportunity to the p...</td>\n",
       "      <td>bot</td>\n",
       "      <td>rnn</td>\n",
       "      <td>1</td>\n",
       "      <td>2</td>\n",
       "      <td>2</td>\n",
       "    </tr>\n",
       "    <tr>\n",
       "      <th>20709</th>\n",
       "      <td>DeepDrumpf</td>\n",
       "      <td>@TayandYou doesn't have a clue. You're right. ...</td>\n",
       "      <td>bot</td>\n",
       "      <td>rnn</td>\n",
       "      <td>1</td>\n",
       "      <td>2</td>\n",
       "      <td>2</td>\n",
       "    </tr>\n",
       "    <tr>\n",
       "      <th>20710</th>\n",
       "      <td>jaden</td>\n",
       "      <td>Me And My Bestie https://t.co/vPq2iDkWZm</td>\n",
       "      <td>human</td>\n",
       "      <td>human</td>\n",
       "      <td>0</td>\n",
       "      <td>0</td>\n",
       "      <td>0</td>\n",
       "    </tr>\n",
       "    <tr>\n",
       "      <th>20711</th>\n",
       "      <td>kevinhookebot</td>\n",
       "      <td>\"Thead has a generate existing the Sparching f...</td>\n",
       "      <td>bot</td>\n",
       "      <td>rnn</td>\n",
       "      <td>1</td>\n",
       "      <td>2</td>\n",
       "      <td>2</td>\n",
       "    </tr>\n",
       "  </tbody>\n",
       "</table>\n",
       "<p>20712 rows × 7 columns</p>\n",
       "</div>"
      ],
      "text/plain": [
       "          screen_name                                               text  \\\n",
       "0          imranyebot                             YEA now that note GOOD   \n",
       "1              zawvrk  Listen to This Charming Man by The Smiths  htt...   \n",
       "2            zawarbot  wish i can i would be seeing other hoes on the...   \n",
       "3      ahadsheriffbot  The decade in the significantly easier schedul...   \n",
       "4       kevinhookebot  \"Theim class=\\\"alignnone size-full wp-image-60...   \n",
       "...               ...                                                ...   \n",
       "20707  AINarendraModi  Met on the Abversion of our science for the co...   \n",
       "20708  AINarendraModi  Land for their during the opportunity to the p...   \n",
       "20709      DeepDrumpf  @TayandYou doesn't have a clue. You're right. ...   \n",
       "20710           jaden           Me And My Bestie https://t.co/vPq2iDkWZm   \n",
       "20711   kevinhookebot  \"Thead has a generate existing the Sparching f...   \n",
       "\n",
       "      account.type class_type  account_encoded  new_col  mapped_col  \n",
       "0              bot     others                1        2           2  \n",
       "1            human      human                0        0           0  \n",
       "2              bot     others                1        2           2  \n",
       "3              bot     others                1        2           2  \n",
       "4              bot        rnn                1        2           2  \n",
       "...            ...        ...              ...      ...         ...  \n",
       "20707          bot        rnn                1        2           2  \n",
       "20708          bot        rnn                1        2           2  \n",
       "20709          bot        rnn                1        2           2  \n",
       "20710        human      human                0        0           0  \n",
       "20711          bot        rnn                1        2           2  \n",
       "\n",
       "[20712 rows x 7 columns]"
      ]
     },
     "execution_count": 105,
     "metadata": {},
     "output_type": "execute_result"
    }
   ],
   "source": [
    "df[\"mapped_col\"] = df[\"account_encoded\"].map(lambda x: x * 2)\n",
    "df"
   ]
  },
  {
   "cell_type": "markdown",
   "id": "fd4a3e1b-cf97-4520-8e36-59ad648a8359",
   "metadata": {},
   "source": [
    "### Filter"
   ]
  },
  {
   "cell_type": "code",
   "execution_count": 106,
   "id": "0aa303d3-379a-4223-adac-da21e0c3b4a6",
   "metadata": {},
   "outputs": [
    {
     "data": {
      "text/html": [
       "<div>\n",
       "<style scoped>\n",
       "    .dataframe tbody tr th:only-of-type {\n",
       "        vertical-align: middle;\n",
       "    }\n",
       "\n",
       "    .dataframe tbody tr th {\n",
       "        vertical-align: top;\n",
       "    }\n",
       "\n",
       "    .dataframe thead th {\n",
       "        text-align: right;\n",
       "    }\n",
       "</style>\n",
       "<table border=\"1\" class=\"dataframe\">\n",
       "  <thead>\n",
       "    <tr style=\"text-align: right;\">\n",
       "      <th></th>\n",
       "      <th>screen_name</th>\n",
       "      <th>text</th>\n",
       "      <th>account.type</th>\n",
       "      <th>class_type</th>\n",
       "      <th>account_encoded</th>\n",
       "      <th>new_col</th>\n",
       "      <th>mapped_col</th>\n",
       "    </tr>\n",
       "  </thead>\n",
       "  <tbody>\n",
       "    <tr>\n",
       "      <th>0</th>\n",
       "      <td>imranyebot</td>\n",
       "      <td>YEA now that note GOOD</td>\n",
       "      <td>bot</td>\n",
       "      <td>others</td>\n",
       "      <td>1</td>\n",
       "      <td>2</td>\n",
       "      <td>2</td>\n",
       "    </tr>\n",
       "    <tr>\n",
       "      <th>2</th>\n",
       "      <td>zawarbot</td>\n",
       "      <td>wish i can i would be seeing other hoes on the...</td>\n",
       "      <td>bot</td>\n",
       "      <td>others</td>\n",
       "      <td>1</td>\n",
       "      <td>2</td>\n",
       "      <td>2</td>\n",
       "    </tr>\n",
       "    <tr>\n",
       "      <th>3</th>\n",
       "      <td>ahadsheriffbot</td>\n",
       "      <td>The decade in the significantly easier schedul...</td>\n",
       "      <td>bot</td>\n",
       "      <td>others</td>\n",
       "      <td>1</td>\n",
       "      <td>2</td>\n",
       "      <td>2</td>\n",
       "    </tr>\n",
       "    <tr>\n",
       "      <th>4</th>\n",
       "      <td>kevinhookebot</td>\n",
       "      <td>\"Theim class=\\\"alignnone size-full wp-image-60...</td>\n",
       "      <td>bot</td>\n",
       "      <td>rnn</td>\n",
       "      <td>1</td>\n",
       "      <td>2</td>\n",
       "      <td>2</td>\n",
       "    </tr>\n",
       "    <tr>\n",
       "      <th>6</th>\n",
       "      <td>whalefakes</td>\n",
       "      <td>the world needs more whale stories. I would lo...</td>\n",
       "      <td>bot</td>\n",
       "      <td>gpt2</td>\n",
       "      <td>1</td>\n",
       "      <td>2</td>\n",
       "      <td>2</td>\n",
       "    </tr>\n",
       "    <tr>\n",
       "      <th>...</th>\n",
       "      <td>...</td>\n",
       "      <td>...</td>\n",
       "      <td>...</td>\n",
       "      <td>...</td>\n",
       "      <td>...</td>\n",
       "      <td>...</td>\n",
       "      <td>...</td>\n",
       "    </tr>\n",
       "    <tr>\n",
       "      <th>20705</th>\n",
       "      <td>kevinhookebot</td>\n",
       "      <td>\"The recomment for my development of the back ...</td>\n",
       "      <td>bot</td>\n",
       "      <td>rnn</td>\n",
       "      <td>1</td>\n",
       "      <td>2</td>\n",
       "      <td>2</td>\n",
       "    </tr>\n",
       "    <tr>\n",
       "      <th>20707</th>\n",
       "      <td>AINarendraModi</td>\n",
       "      <td>Met on the Abversion of our science for the co...</td>\n",
       "      <td>bot</td>\n",
       "      <td>rnn</td>\n",
       "      <td>1</td>\n",
       "      <td>2</td>\n",
       "      <td>2</td>\n",
       "    </tr>\n",
       "    <tr>\n",
       "      <th>20708</th>\n",
       "      <td>AINarendraModi</td>\n",
       "      <td>Land for their during the opportunity to the p...</td>\n",
       "      <td>bot</td>\n",
       "      <td>rnn</td>\n",
       "      <td>1</td>\n",
       "      <td>2</td>\n",
       "      <td>2</td>\n",
       "    </tr>\n",
       "    <tr>\n",
       "      <th>20709</th>\n",
       "      <td>DeepDrumpf</td>\n",
       "      <td>@TayandYou doesn't have a clue. You're right. ...</td>\n",
       "      <td>bot</td>\n",
       "      <td>rnn</td>\n",
       "      <td>1</td>\n",
       "      <td>2</td>\n",
       "      <td>2</td>\n",
       "    </tr>\n",
       "    <tr>\n",
       "      <th>20711</th>\n",
       "      <td>kevinhookebot</td>\n",
       "      <td>\"Thead has a generate existing the Sparching f...</td>\n",
       "      <td>bot</td>\n",
       "      <td>rnn</td>\n",
       "      <td>1</td>\n",
       "      <td>2</td>\n",
       "      <td>2</td>\n",
       "    </tr>\n",
       "  </tbody>\n",
       "</table>\n",
       "<p>10354 rows × 7 columns</p>\n",
       "</div>"
      ],
      "text/plain": [
       "          screen_name                                               text  \\\n",
       "0          imranyebot                             YEA now that note GOOD   \n",
       "2            zawarbot  wish i can i would be seeing other hoes on the...   \n",
       "3      ahadsheriffbot  The decade in the significantly easier schedul...   \n",
       "4       kevinhookebot  \"Theim class=\\\"alignnone size-full wp-image-60...   \n",
       "6          whalefakes  the world needs more whale stories. I would lo...   \n",
       "...               ...                                                ...   \n",
       "20705   kevinhookebot  \"The recomment for my development of the back ...   \n",
       "20707  AINarendraModi  Met on the Abversion of our science for the co...   \n",
       "20708  AINarendraModi  Land for their during the opportunity to the p...   \n",
       "20709      DeepDrumpf  @TayandYou doesn't have a clue. You're right. ...   \n",
       "20711   kevinhookebot  \"Thead has a generate existing the Sparching f...   \n",
       "\n",
       "      account.type class_type  account_encoded  new_col  mapped_col  \n",
       "0              bot     others                1        2           2  \n",
       "2              bot     others                1        2           2  \n",
       "3              bot     others                1        2           2  \n",
       "4              bot        rnn                1        2           2  \n",
       "6              bot       gpt2                1        2           2  \n",
       "...            ...        ...              ...      ...         ...  \n",
       "20705          bot        rnn                1        2           2  \n",
       "20707          bot        rnn                1        2           2  \n",
       "20708          bot        rnn                1        2           2  \n",
       "20709          bot        rnn                1        2           2  \n",
       "20711          bot        rnn                1        2           2  \n",
       "\n",
       "[10354 rows x 7 columns]"
      ]
     },
     "execution_count": 106,
     "metadata": {},
     "output_type": "execute_result"
    }
   ],
   "source": [
    "df_filtered = df[df[\"account_encoded\"] > np.mean(df[\"account_encoded\"])]\n",
    "df_filtered"
   ]
  },
  {
   "cell_type": "markdown",
   "id": "3e5567b5-7a92-475e-82e7-4f4cacf523af",
   "metadata": {},
   "source": [
    "### Reduce"
   ]
  },
  {
   "cell_type": "markdown",
   "id": "42f20dd5-c54f-4628-89c0-8276d4fc52f7",
   "metadata": {},
   "source": [
    "### Lambda"
   ]
  },
  {
   "cell_type": "code",
   "execution_count": 107,
   "id": "54fd4bb2-ab79-4ba7-8427-72ac8281d0c4",
   "metadata": {},
   "outputs": [
    {
     "data": {
      "text/plain": [
       "np.int64(10354)"
      ]
     },
     "execution_count": 107,
     "metadata": {},
     "output_type": "execute_result"
    }
   ],
   "source": [
    "reduced_col_sum = df[\"account_encoded\"].sum()\n",
    "reduced_col_sum"
   ]
  },
  {
   "cell_type": "code",
   "execution_count": 108,
   "id": "0b42c4e3-519f-4957-ad74-974a648a9551",
   "metadata": {},
   "outputs": [
    {
     "data": {
      "text/html": [
       "<div>\n",
       "<style scoped>\n",
       "    .dataframe tbody tr th:only-of-type {\n",
       "        vertical-align: middle;\n",
       "    }\n",
       "\n",
       "    .dataframe tbody tr th {\n",
       "        vertical-align: top;\n",
       "    }\n",
       "\n",
       "    .dataframe thead th {\n",
       "        text-align: right;\n",
       "    }\n",
       "</style>\n",
       "<table border=\"1\" class=\"dataframe\">\n",
       "  <thead>\n",
       "    <tr style=\"text-align: right;\">\n",
       "      <th></th>\n",
       "      <th>screen_name</th>\n",
       "      <th>text</th>\n",
       "      <th>account.type</th>\n",
       "      <th>class_type</th>\n",
       "      <th>account_encoded</th>\n",
       "      <th>new_col</th>\n",
       "      <th>mapped_col</th>\n",
       "      <th>lambda_col</th>\n",
       "    </tr>\n",
       "  </thead>\n",
       "  <tbody>\n",
       "    <tr>\n",
       "      <th>0</th>\n",
       "      <td>imranyebot</td>\n",
       "      <td>YEA now that note GOOD</td>\n",
       "      <td>bot</td>\n",
       "      <td>others</td>\n",
       "      <td>1</td>\n",
       "      <td>2</td>\n",
       "      <td>2</td>\n",
       "      <td>3</td>\n",
       "    </tr>\n",
       "    <tr>\n",
       "      <th>1</th>\n",
       "      <td>zawvrk</td>\n",
       "      <td>Listen to This Charming Man by The Smiths  htt...</td>\n",
       "      <td>human</td>\n",
       "      <td>human</td>\n",
       "      <td>0</td>\n",
       "      <td>0</td>\n",
       "      <td>0</td>\n",
       "      <td>0</td>\n",
       "    </tr>\n",
       "    <tr>\n",
       "      <th>2</th>\n",
       "      <td>zawarbot</td>\n",
       "      <td>wish i can i would be seeing other hoes on the...</td>\n",
       "      <td>bot</td>\n",
       "      <td>others</td>\n",
       "      <td>1</td>\n",
       "      <td>2</td>\n",
       "      <td>2</td>\n",
       "      <td>3</td>\n",
       "    </tr>\n",
       "    <tr>\n",
       "      <th>3</th>\n",
       "      <td>ahadsheriffbot</td>\n",
       "      <td>The decade in the significantly easier schedul...</td>\n",
       "      <td>bot</td>\n",
       "      <td>others</td>\n",
       "      <td>1</td>\n",
       "      <td>2</td>\n",
       "      <td>2</td>\n",
       "      <td>3</td>\n",
       "    </tr>\n",
       "    <tr>\n",
       "      <th>4</th>\n",
       "      <td>kevinhookebot</td>\n",
       "      <td>\"Theim class=\\\"alignnone size-full wp-image-60...</td>\n",
       "      <td>bot</td>\n",
       "      <td>rnn</td>\n",
       "      <td>1</td>\n",
       "      <td>2</td>\n",
       "      <td>2</td>\n",
       "      <td>3</td>\n",
       "    </tr>\n",
       "    <tr>\n",
       "      <th>...</th>\n",
       "      <td>...</td>\n",
       "      <td>...</td>\n",
       "      <td>...</td>\n",
       "      <td>...</td>\n",
       "      <td>...</td>\n",
       "      <td>...</td>\n",
       "      <td>...</td>\n",
       "      <td>...</td>\n",
       "    </tr>\n",
       "    <tr>\n",
       "      <th>20707</th>\n",
       "      <td>AINarendraModi</td>\n",
       "      <td>Met on the Abversion of our science for the co...</td>\n",
       "      <td>bot</td>\n",
       "      <td>rnn</td>\n",
       "      <td>1</td>\n",
       "      <td>2</td>\n",
       "      <td>2</td>\n",
       "      <td>3</td>\n",
       "    </tr>\n",
       "    <tr>\n",
       "      <th>20708</th>\n",
       "      <td>AINarendraModi</td>\n",
       "      <td>Land for their during the opportunity to the p...</td>\n",
       "      <td>bot</td>\n",
       "      <td>rnn</td>\n",
       "      <td>1</td>\n",
       "      <td>2</td>\n",
       "      <td>2</td>\n",
       "      <td>3</td>\n",
       "    </tr>\n",
       "    <tr>\n",
       "      <th>20709</th>\n",
       "      <td>DeepDrumpf</td>\n",
       "      <td>@TayandYou doesn't have a clue. You're right. ...</td>\n",
       "      <td>bot</td>\n",
       "      <td>rnn</td>\n",
       "      <td>1</td>\n",
       "      <td>2</td>\n",
       "      <td>2</td>\n",
       "      <td>3</td>\n",
       "    </tr>\n",
       "    <tr>\n",
       "      <th>20710</th>\n",
       "      <td>jaden</td>\n",
       "      <td>Me And My Bestie https://t.co/vPq2iDkWZm</td>\n",
       "      <td>human</td>\n",
       "      <td>human</td>\n",
       "      <td>0</td>\n",
       "      <td>0</td>\n",
       "      <td>0</td>\n",
       "      <td>0</td>\n",
       "    </tr>\n",
       "    <tr>\n",
       "      <th>20711</th>\n",
       "      <td>kevinhookebot</td>\n",
       "      <td>\"Thead has a generate existing the Sparching f...</td>\n",
       "      <td>bot</td>\n",
       "      <td>rnn</td>\n",
       "      <td>1</td>\n",
       "      <td>2</td>\n",
       "      <td>2</td>\n",
       "      <td>3</td>\n",
       "    </tr>\n",
       "  </tbody>\n",
       "</table>\n",
       "<p>20712 rows × 8 columns</p>\n",
       "</div>"
      ],
      "text/plain": [
       "          screen_name                                               text  \\\n",
       "0          imranyebot                             YEA now that note GOOD   \n",
       "1              zawvrk  Listen to This Charming Man by The Smiths  htt...   \n",
       "2            zawarbot  wish i can i would be seeing other hoes on the...   \n",
       "3      ahadsheriffbot  The decade in the significantly easier schedul...   \n",
       "4       kevinhookebot  \"Theim class=\\\"alignnone size-full wp-image-60...   \n",
       "...               ...                                                ...   \n",
       "20707  AINarendraModi  Met on the Abversion of our science for the co...   \n",
       "20708  AINarendraModi  Land for their during the opportunity to the p...   \n",
       "20709      DeepDrumpf  @TayandYou doesn't have a clue. You're right. ...   \n",
       "20710           jaden           Me And My Bestie https://t.co/vPq2iDkWZm   \n",
       "20711   kevinhookebot  \"Thead has a generate existing the Sparching f...   \n",
       "\n",
       "      account.type class_type  account_encoded  new_col  mapped_col  \\\n",
       "0              bot     others                1        2           2   \n",
       "1            human      human                0        0           0   \n",
       "2              bot     others                1        2           2   \n",
       "3              bot     others                1        2           2   \n",
       "4              bot        rnn                1        2           2   \n",
       "...            ...        ...              ...      ...         ...   \n",
       "20707          bot        rnn                1        2           2   \n",
       "20708          bot        rnn                1        2           2   \n",
       "20709          bot        rnn                1        2           2   \n",
       "20710        human      human                0        0           0   \n",
       "20711          bot        rnn                1        2           2   \n",
       "\n",
       "       lambda_col  \n",
       "0               3  \n",
       "1               0  \n",
       "2               3  \n",
       "3               3  \n",
       "4               3  \n",
       "...           ...  \n",
       "20707           3  \n",
       "20708           3  \n",
       "20709           3  \n",
       "20710           0  \n",
       "20711           3  \n",
       "\n",
       "[20712 rows x 8 columns]"
      ]
     },
     "execution_count": 108,
     "metadata": {},
     "output_type": "execute_result"
    }
   ],
   "source": [
    "df[\"lambda_col\"] = df.apply(lambda row: row[\"account_encoded\"] * 3, axis=1)\n",
    "df"
   ]
  },
  {
   "cell_type": "markdown",
   "id": "651bf81c-956b-43cc-8da5-a50c2e726811",
   "metadata": {},
   "source": [
    "### Loc"
   ]
  },
  {
   "cell_type": "code",
   "execution_count": 109,
   "id": "a444dfc1-6037-4537-b10c-f8188a6115f1",
   "metadata": {},
   "outputs": [
    {
     "data": {
      "text/html": [
       "<div>\n",
       "<style scoped>\n",
       "    .dataframe tbody tr th:only-of-type {\n",
       "        vertical-align: middle;\n",
       "    }\n",
       "\n",
       "    .dataframe tbody tr th {\n",
       "        vertical-align: top;\n",
       "    }\n",
       "\n",
       "    .dataframe thead th {\n",
       "        text-align: right;\n",
       "    }\n",
       "</style>\n",
       "<table border=\"1\" class=\"dataframe\">\n",
       "  <thead>\n",
       "    <tr style=\"text-align: right;\">\n",
       "      <th></th>\n",
       "      <th>account.type</th>\n",
       "      <th>account_encoded</th>\n",
       "    </tr>\n",
       "  </thead>\n",
       "  <tbody>\n",
       "    <tr>\n",
       "      <th>0</th>\n",
       "      <td>bot</td>\n",
       "      <td>1</td>\n",
       "    </tr>\n",
       "    <tr>\n",
       "      <th>1</th>\n",
       "      <td>human</td>\n",
       "      <td>0</td>\n",
       "    </tr>\n",
       "    <tr>\n",
       "      <th>2</th>\n",
       "      <td>bot</td>\n",
       "      <td>1</td>\n",
       "    </tr>\n",
       "    <tr>\n",
       "      <th>3</th>\n",
       "      <td>bot</td>\n",
       "      <td>1</td>\n",
       "    </tr>\n",
       "    <tr>\n",
       "      <th>4</th>\n",
       "      <td>bot</td>\n",
       "      <td>1</td>\n",
       "    </tr>\n",
       "    <tr>\n",
       "      <th>5</th>\n",
       "      <td>human</td>\n",
       "      <td>0</td>\n",
       "    </tr>\n",
       "  </tbody>\n",
       "</table>\n",
       "</div>"
      ],
      "text/plain": [
       "  account.type  account_encoded\n",
       "0          bot                1\n",
       "1        human                0\n",
       "2          bot                1\n",
       "3          bot                1\n",
       "4          bot                1\n",
       "5        human                0"
      ]
     },
     "execution_count": 109,
     "metadata": {},
     "output_type": "execute_result"
    }
   ],
   "source": [
    "loc_df = df.loc[0:5, [ \"account.type\", \"account_encoded\"]]\n",
    "loc_df"
   ]
  },
  {
   "cell_type": "markdown",
   "id": "1f8016b4-9370-45c3-8d93-6820cf959a81",
   "metadata": {},
   "source": [
    "### Delete null rows"
   ]
  },
  {
   "cell_type": "code",
   "execution_count": 110,
   "id": "6358d68c-ec01-4379-9213-97cb5be37a00",
   "metadata": {},
   "outputs": [
    {
     "data": {
      "text/html": [
       "<div>\n",
       "<style scoped>\n",
       "    .dataframe tbody tr th:only-of-type {\n",
       "        vertical-align: middle;\n",
       "    }\n",
       "\n",
       "    .dataframe tbody tr th {\n",
       "        vertical-align: top;\n",
       "    }\n",
       "\n",
       "    .dataframe thead th {\n",
       "        text-align: right;\n",
       "    }\n",
       "</style>\n",
       "<table border=\"1\" class=\"dataframe\">\n",
       "  <thead>\n",
       "    <tr style=\"text-align: right;\">\n",
       "      <th></th>\n",
       "      <th>screen_name</th>\n",
       "      <th>text</th>\n",
       "      <th>account.type</th>\n",
       "      <th>class_type</th>\n",
       "      <th>account_encoded</th>\n",
       "      <th>new_col</th>\n",
       "      <th>mapped_col</th>\n",
       "      <th>lambda_col</th>\n",
       "    </tr>\n",
       "  </thead>\n",
       "  <tbody>\n",
       "    <tr>\n",
       "      <th>0</th>\n",
       "      <td>imranyebot</td>\n",
       "      <td>YEA now that note GOOD</td>\n",
       "      <td>bot</td>\n",
       "      <td>others</td>\n",
       "      <td>1</td>\n",
       "      <td>2</td>\n",
       "      <td>2</td>\n",
       "      <td>3</td>\n",
       "    </tr>\n",
       "    <tr>\n",
       "      <th>1</th>\n",
       "      <td>zawvrk</td>\n",
       "      <td>Listen to This Charming Man by The Smiths  htt...</td>\n",
       "      <td>human</td>\n",
       "      <td>human</td>\n",
       "      <td>0</td>\n",
       "      <td>0</td>\n",
       "      <td>0</td>\n",
       "      <td>0</td>\n",
       "    </tr>\n",
       "    <tr>\n",
       "      <th>2</th>\n",
       "      <td>zawarbot</td>\n",
       "      <td>wish i can i would be seeing other hoes on the...</td>\n",
       "      <td>bot</td>\n",
       "      <td>others</td>\n",
       "      <td>1</td>\n",
       "      <td>2</td>\n",
       "      <td>2</td>\n",
       "      <td>3</td>\n",
       "    </tr>\n",
       "    <tr>\n",
       "      <th>3</th>\n",
       "      <td>ahadsheriffbot</td>\n",
       "      <td>The decade in the significantly easier schedul...</td>\n",
       "      <td>bot</td>\n",
       "      <td>others</td>\n",
       "      <td>1</td>\n",
       "      <td>2</td>\n",
       "      <td>2</td>\n",
       "      <td>3</td>\n",
       "    </tr>\n",
       "    <tr>\n",
       "      <th>4</th>\n",
       "      <td>kevinhookebot</td>\n",
       "      <td>\"Theim class=\\\"alignnone size-full wp-image-60...</td>\n",
       "      <td>bot</td>\n",
       "      <td>rnn</td>\n",
       "      <td>1</td>\n",
       "      <td>2</td>\n",
       "      <td>2</td>\n",
       "      <td>3</td>\n",
       "    </tr>\n",
       "    <tr>\n",
       "      <th>...</th>\n",
       "      <td>...</td>\n",
       "      <td>...</td>\n",
       "      <td>...</td>\n",
       "      <td>...</td>\n",
       "      <td>...</td>\n",
       "      <td>...</td>\n",
       "      <td>...</td>\n",
       "      <td>...</td>\n",
       "    </tr>\n",
       "    <tr>\n",
       "      <th>20707</th>\n",
       "      <td>AINarendraModi</td>\n",
       "      <td>Met on the Abversion of our science for the co...</td>\n",
       "      <td>bot</td>\n",
       "      <td>rnn</td>\n",
       "      <td>1</td>\n",
       "      <td>2</td>\n",
       "      <td>2</td>\n",
       "      <td>3</td>\n",
       "    </tr>\n",
       "    <tr>\n",
       "      <th>20708</th>\n",
       "      <td>AINarendraModi</td>\n",
       "      <td>Land for their during the opportunity to the p...</td>\n",
       "      <td>bot</td>\n",
       "      <td>rnn</td>\n",
       "      <td>1</td>\n",
       "      <td>2</td>\n",
       "      <td>2</td>\n",
       "      <td>3</td>\n",
       "    </tr>\n",
       "    <tr>\n",
       "      <th>20709</th>\n",
       "      <td>DeepDrumpf</td>\n",
       "      <td>@TayandYou doesn't have a clue. You're right. ...</td>\n",
       "      <td>bot</td>\n",
       "      <td>rnn</td>\n",
       "      <td>1</td>\n",
       "      <td>2</td>\n",
       "      <td>2</td>\n",
       "      <td>3</td>\n",
       "    </tr>\n",
       "    <tr>\n",
       "      <th>20710</th>\n",
       "      <td>jaden</td>\n",
       "      <td>Me And My Bestie https://t.co/vPq2iDkWZm</td>\n",
       "      <td>human</td>\n",
       "      <td>human</td>\n",
       "      <td>0</td>\n",
       "      <td>0</td>\n",
       "      <td>0</td>\n",
       "      <td>0</td>\n",
       "    </tr>\n",
       "    <tr>\n",
       "      <th>20711</th>\n",
       "      <td>kevinhookebot</td>\n",
       "      <td>\"Thead has a generate existing the Sparching f...</td>\n",
       "      <td>bot</td>\n",
       "      <td>rnn</td>\n",
       "      <td>1</td>\n",
       "      <td>2</td>\n",
       "      <td>2</td>\n",
       "      <td>3</td>\n",
       "    </tr>\n",
       "  </tbody>\n",
       "</table>\n",
       "<p>20712 rows × 8 columns</p>\n",
       "</div>"
      ],
      "text/plain": [
       "          screen_name                                               text  \\\n",
       "0          imranyebot                             YEA now that note GOOD   \n",
       "1              zawvrk  Listen to This Charming Man by The Smiths  htt...   \n",
       "2            zawarbot  wish i can i would be seeing other hoes on the...   \n",
       "3      ahadsheriffbot  The decade in the significantly easier schedul...   \n",
       "4       kevinhookebot  \"Theim class=\\\"alignnone size-full wp-image-60...   \n",
       "...               ...                                                ...   \n",
       "20707  AINarendraModi  Met on the Abversion of our science for the co...   \n",
       "20708  AINarendraModi  Land for their during the opportunity to the p...   \n",
       "20709      DeepDrumpf  @TayandYou doesn't have a clue. You're right. ...   \n",
       "20710           jaden           Me And My Bestie https://t.co/vPq2iDkWZm   \n",
       "20711   kevinhookebot  \"Thead has a generate existing the Sparching f...   \n",
       "\n",
       "      account.type class_type  account_encoded  new_col  mapped_col  \\\n",
       "0              bot     others                1        2           2   \n",
       "1            human      human                0        0           0   \n",
       "2              bot     others                1        2           2   \n",
       "3              bot     others                1        2           2   \n",
       "4              bot        rnn                1        2           2   \n",
       "...            ...        ...              ...      ...         ...   \n",
       "20707          bot        rnn                1        2           2   \n",
       "20708          bot        rnn                1        2           2   \n",
       "20709          bot        rnn                1        2           2   \n",
       "20710        human      human                0        0           0   \n",
       "20711          bot        rnn                1        2           2   \n",
       "\n",
       "       lambda_col  \n",
       "0               3  \n",
       "1               0  \n",
       "2               3  \n",
       "3               3  \n",
       "4               3  \n",
       "...           ...  \n",
       "20707           3  \n",
       "20708           3  \n",
       "20709           3  \n",
       "20710           0  \n",
       "20711           3  \n",
       "\n",
       "[20712 rows x 8 columns]"
      ]
     },
     "execution_count": 110,
     "metadata": {},
     "output_type": "execute_result"
    }
   ],
   "source": [
    "df_no_nulls = df.dropna()\n",
    "df_no_nulls"
   ]
  },
  {
   "cell_type": "markdown",
   "id": "8dd65041-b367-4667-b503-563103fcd480",
   "metadata": {},
   "source": [
    "### Head / Tail"
   ]
  },
  {
   "cell_type": "code",
   "execution_count": 111,
   "id": "2b35f80c-932e-40f0-a757-4a58db2bfde8",
   "metadata": {},
   "outputs": [
    {
     "data": {
      "text/html": [
       "<div>\n",
       "<style scoped>\n",
       "    .dataframe tbody tr th:only-of-type {\n",
       "        vertical-align: middle;\n",
       "    }\n",
       "\n",
       "    .dataframe tbody tr th {\n",
       "        vertical-align: top;\n",
       "    }\n",
       "\n",
       "    .dataframe thead th {\n",
       "        text-align: right;\n",
       "    }\n",
       "</style>\n",
       "<table border=\"1\" class=\"dataframe\">\n",
       "  <thead>\n",
       "    <tr style=\"text-align: right;\">\n",
       "      <th></th>\n",
       "      <th>screen_name</th>\n",
       "      <th>text</th>\n",
       "      <th>account.type</th>\n",
       "      <th>class_type</th>\n",
       "      <th>account_encoded</th>\n",
       "      <th>new_col</th>\n",
       "      <th>mapped_col</th>\n",
       "      <th>lambda_col</th>\n",
       "    </tr>\n",
       "  </thead>\n",
       "  <tbody>\n",
       "    <tr>\n",
       "      <th>0</th>\n",
       "      <td>imranyebot</td>\n",
       "      <td>YEA now that note GOOD</td>\n",
       "      <td>bot</td>\n",
       "      <td>others</td>\n",
       "      <td>1</td>\n",
       "      <td>2</td>\n",
       "      <td>2</td>\n",
       "      <td>3</td>\n",
       "    </tr>\n",
       "    <tr>\n",
       "      <th>1</th>\n",
       "      <td>zawvrk</td>\n",
       "      <td>Listen to This Charming Man by The Smiths  htt...</td>\n",
       "      <td>human</td>\n",
       "      <td>human</td>\n",
       "      <td>0</td>\n",
       "      <td>0</td>\n",
       "      <td>0</td>\n",
       "      <td>0</td>\n",
       "    </tr>\n",
       "    <tr>\n",
       "      <th>2</th>\n",
       "      <td>zawarbot</td>\n",
       "      <td>wish i can i would be seeing other hoes on the...</td>\n",
       "      <td>bot</td>\n",
       "      <td>others</td>\n",
       "      <td>1</td>\n",
       "      <td>2</td>\n",
       "      <td>2</td>\n",
       "      <td>3</td>\n",
       "    </tr>\n",
       "    <tr>\n",
       "      <th>3</th>\n",
       "      <td>ahadsheriffbot</td>\n",
       "      <td>The decade in the significantly easier schedul...</td>\n",
       "      <td>bot</td>\n",
       "      <td>others</td>\n",
       "      <td>1</td>\n",
       "      <td>2</td>\n",
       "      <td>2</td>\n",
       "      <td>3</td>\n",
       "    </tr>\n",
       "    <tr>\n",
       "      <th>4</th>\n",
       "      <td>kevinhookebot</td>\n",
       "      <td>\"Theim class=\\\"alignnone size-full wp-image-60...</td>\n",
       "      <td>bot</td>\n",
       "      <td>rnn</td>\n",
       "      <td>1</td>\n",
       "      <td>2</td>\n",
       "      <td>2</td>\n",
       "      <td>3</td>\n",
       "    </tr>\n",
       "  </tbody>\n",
       "</table>\n",
       "</div>"
      ],
      "text/plain": [
       "      screen_name                                               text  \\\n",
       "0      imranyebot                             YEA now that note GOOD   \n",
       "1          zawvrk  Listen to This Charming Man by The Smiths  htt...   \n",
       "2        zawarbot  wish i can i would be seeing other hoes on the...   \n",
       "3  ahadsheriffbot  The decade in the significantly easier schedul...   \n",
       "4   kevinhookebot  \"Theim class=\\\"alignnone size-full wp-image-60...   \n",
       "\n",
       "  account.type class_type  account_encoded  new_col  mapped_col  lambda_col  \n",
       "0          bot     others                1        2           2           3  \n",
       "1        human      human                0        0           0           0  \n",
       "2          bot     others                1        2           2           3  \n",
       "3          bot     others                1        2           2           3  \n",
       "4          bot        rnn                1        2           2           3  "
      ]
     },
     "execution_count": 111,
     "metadata": {},
     "output_type": "execute_result"
    }
   ],
   "source": [
    "head_df = df.head()\n",
    "head_df"
   ]
  },
  {
   "cell_type": "code",
   "execution_count": 112,
   "id": "57f92463-6fc8-4b62-8aa1-d1e580c87461",
   "metadata": {},
   "outputs": [
    {
     "data": {
      "text/html": [
       "<div>\n",
       "<style scoped>\n",
       "    .dataframe tbody tr th:only-of-type {\n",
       "        vertical-align: middle;\n",
       "    }\n",
       "\n",
       "    .dataframe tbody tr th {\n",
       "        vertical-align: top;\n",
       "    }\n",
       "\n",
       "    .dataframe thead th {\n",
       "        text-align: right;\n",
       "    }\n",
       "</style>\n",
       "<table border=\"1\" class=\"dataframe\">\n",
       "  <thead>\n",
       "    <tr style=\"text-align: right;\">\n",
       "      <th></th>\n",
       "      <th>screen_name</th>\n",
       "      <th>text</th>\n",
       "      <th>account.type</th>\n",
       "      <th>class_type</th>\n",
       "      <th>account_encoded</th>\n",
       "      <th>new_col</th>\n",
       "      <th>mapped_col</th>\n",
       "      <th>lambda_col</th>\n",
       "    </tr>\n",
       "  </thead>\n",
       "  <tbody>\n",
       "    <tr>\n",
       "      <th>20707</th>\n",
       "      <td>AINarendraModi</td>\n",
       "      <td>Met on the Abversion of our science for the co...</td>\n",
       "      <td>bot</td>\n",
       "      <td>rnn</td>\n",
       "      <td>1</td>\n",
       "      <td>2</td>\n",
       "      <td>2</td>\n",
       "      <td>3</td>\n",
       "    </tr>\n",
       "    <tr>\n",
       "      <th>20708</th>\n",
       "      <td>AINarendraModi</td>\n",
       "      <td>Land for their during the opportunity to the p...</td>\n",
       "      <td>bot</td>\n",
       "      <td>rnn</td>\n",
       "      <td>1</td>\n",
       "      <td>2</td>\n",
       "      <td>2</td>\n",
       "      <td>3</td>\n",
       "    </tr>\n",
       "    <tr>\n",
       "      <th>20709</th>\n",
       "      <td>DeepDrumpf</td>\n",
       "      <td>@TayandYou doesn't have a clue. You're right. ...</td>\n",
       "      <td>bot</td>\n",
       "      <td>rnn</td>\n",
       "      <td>1</td>\n",
       "      <td>2</td>\n",
       "      <td>2</td>\n",
       "      <td>3</td>\n",
       "    </tr>\n",
       "    <tr>\n",
       "      <th>20710</th>\n",
       "      <td>jaden</td>\n",
       "      <td>Me And My Bestie https://t.co/vPq2iDkWZm</td>\n",
       "      <td>human</td>\n",
       "      <td>human</td>\n",
       "      <td>0</td>\n",
       "      <td>0</td>\n",
       "      <td>0</td>\n",
       "      <td>0</td>\n",
       "    </tr>\n",
       "    <tr>\n",
       "      <th>20711</th>\n",
       "      <td>kevinhookebot</td>\n",
       "      <td>\"Thead has a generate existing the Sparching f...</td>\n",
       "      <td>bot</td>\n",
       "      <td>rnn</td>\n",
       "      <td>1</td>\n",
       "      <td>2</td>\n",
       "      <td>2</td>\n",
       "      <td>3</td>\n",
       "    </tr>\n",
       "  </tbody>\n",
       "</table>\n",
       "</div>"
      ],
      "text/plain": [
       "          screen_name                                               text  \\\n",
       "20707  AINarendraModi  Met on the Abversion of our science for the co...   \n",
       "20708  AINarendraModi  Land for their during the opportunity to the p...   \n",
       "20709      DeepDrumpf  @TayandYou doesn't have a clue. You're right. ...   \n",
       "20710           jaden           Me And My Bestie https://t.co/vPq2iDkWZm   \n",
       "20711   kevinhookebot  \"Thead has a generate existing the Sparching f...   \n",
       "\n",
       "      account.type class_type  account_encoded  new_col  mapped_col  \\\n",
       "20707          bot        rnn                1        2           2   \n",
       "20708          bot        rnn                1        2           2   \n",
       "20709          bot        rnn                1        2           2   \n",
       "20710        human      human                0        0           0   \n",
       "20711          bot        rnn                1        2           2   \n",
       "\n",
       "       lambda_col  \n",
       "20707           3  \n",
       "20708           3  \n",
       "20709           3  \n",
       "20710           0  \n",
       "20711           3  "
      ]
     },
     "execution_count": 112,
     "metadata": {},
     "output_type": "execute_result"
    }
   ],
   "source": [
    "tail_df = df.tail()\n",
    "tail_df"
   ]
  },
  {
   "cell_type": "markdown",
   "id": "8fcb7a56-39ff-46ee-b389-92d4c8c6a239",
   "metadata": {},
   "source": [
    "### Min, Max, Mode, Median, Mean"
   ]
  },
  {
   "cell_type": "code",
   "execution_count": 113,
   "id": "880fafec-cc89-4809-bea0-520e20c87123",
   "metadata": {},
   "outputs": [
    {
     "data": {
      "text/plain": [
       "np.int64(0)"
      ]
     },
     "execution_count": 113,
     "metadata": {},
     "output_type": "execute_result"
    }
   ],
   "source": [
    "min_val_pd = df[\"account_encoded\"].min()\n",
    "min_val_pd"
   ]
  },
  {
   "cell_type": "code",
   "execution_count": 114,
   "id": "177b6158-b493-4a1a-8d8d-bff426aa260a",
   "metadata": {},
   "outputs": [
    {
     "data": {
      "text/plain": [
       "np.int64(1)"
      ]
     },
     "execution_count": 114,
     "metadata": {},
     "output_type": "execute_result"
    }
   ],
   "source": [
    "max_val_pd = df[\"account_encoded\"].max()\n",
    "max_val_pd"
   ]
  },
  {
   "cell_type": "code",
   "execution_count": 115,
   "id": "7d75c560-864d-4eb5-9d42-719e4c6e88cf",
   "metadata": {},
   "outputs": [
    {
     "data": {
      "text/plain": [
       "np.int64(0)"
      ]
     },
     "execution_count": 115,
     "metadata": {},
     "output_type": "execute_result"
    }
   ],
   "source": [
    "mode_val_pd = df[\"account_encoded\"].mode().iloc[0]\n",
    "mode_val_pd"
   ]
  },
  {
   "cell_type": "code",
   "execution_count": 116,
   "id": "34d37f02-776d-499f-96f3-c9ee3314386d",
   "metadata": {},
   "outputs": [
    {
     "data": {
      "text/plain": [
       "np.float64(0.0)"
      ]
     },
     "execution_count": 116,
     "metadata": {},
     "output_type": "execute_result"
    }
   ],
   "source": [
    "median_val_pd = df[\"account_encoded\"].median()\n",
    "median_val_pd"
   ]
  },
  {
   "cell_type": "code",
   "execution_count": 117,
   "id": "afec71e2-de48-4de2-a4a3-924f0bab3ee2",
   "metadata": {},
   "outputs": [
    {
     "data": {
      "text/plain": [
       "np.float64(0.499903437620703)"
      ]
     },
     "execution_count": 117,
     "metadata": {},
     "output_type": "execute_result"
    }
   ],
   "source": [
    "mean_val_pd = df[\"account_encoded\"].mean()\n",
    "mean_val_pd"
   ]
  },
  {
   "cell_type": "markdown",
   "id": "5cdce113-ecd8-4e55-9fb8-b4df34c92e02",
   "metadata": {},
   "source": [
    "### Groupby"
   ]
  },
  {
   "cell_type": "code",
   "execution_count": 118,
   "id": "8c108b28-90fe-48af-a610-a11233c46e01",
   "metadata": {},
   "outputs": [
    {
     "data": {
      "text/plain": [
       "account.type\n",
       "bot      1.0\n",
       "human    0.0\n",
       "Name: account_encoded, dtype: float64"
      ]
     },
     "execution_count": 118,
     "metadata": {},
     "output_type": "execute_result"
    }
   ],
   "source": [
    "grouped_df = df.groupby(\"account.type\")[\"account_encoded\"].mean()\n",
    "grouped_df"
   ]
  },
  {
   "cell_type": "markdown",
   "id": "36012629-1262-4fc5-97b2-6578db152231",
   "metadata": {},
   "source": [
    "### Value counts"
   ]
  },
  {
   "cell_type": "code",
   "execution_count": 119,
   "id": "f5cb7eb4-e64a-49b8-ad12-88eb232af113",
   "metadata": {},
   "outputs": [
    {
     "data": {
      "text/plain": [
       "account.type\n",
       "human    10358\n",
       "bot      10354\n",
       "Name: count, dtype: int64"
      ]
     },
     "execution_count": 119,
     "metadata": {},
     "output_type": "execute_result"
    }
   ],
   "source": [
    "value_counts_df = df[\"account.type\"].value_counts()\n",
    "value_counts_df"
   ]
  },
  {
   "cell_type": "code",
   "execution_count": 120,
   "id": "a02ecba9-0c34-4c8c-b2d1-75e492bc5f5b",
   "metadata": {},
   "outputs": [
    {
     "data": {
      "text/plain": [
       "class_type\n",
       "human     10358\n",
       "others     3920\n",
       "rnn        3325\n",
       "gpt2       3109\n",
       "Name: count, dtype: int64"
      ]
     },
     "execution_count": 120,
     "metadata": {},
     "output_type": "execute_result"
    }
   ],
   "source": [
    "value_counts_df1 = df['class_type'].value_counts()\n",
    "value_counts_df1"
   ]
  },
  {
   "cell_type": "markdown",
   "id": "f6bbd6a5-2ab5-4372-a707-0f0efb3bab52",
   "metadata": {},
   "source": [
    "## ===== MISSING VALUES / OUTLIERS ====="
   ]
  },
  {
   "cell_type": "markdown",
   "id": "0e97c649-6090-450f-9840-16765fbe5434",
   "metadata": {},
   "source": [
    "## Missing values"
   ]
  },
  {
   "cell_type": "code",
   "execution_count": 121,
   "id": "4f3b3527-ed0f-4077-8c71-092255951542",
   "metadata": {},
   "outputs": [
    {
     "data": {
      "text/plain": [
       "screen_name        0\n",
       "text               0\n",
       "account.type       0\n",
       "class_type         0\n",
       "account_encoded    0\n",
       "new_col            0\n",
       "mapped_col         0\n",
       "lambda_col         0\n",
       "dtype: int64"
      ]
     },
     "execution_count": 121,
     "metadata": {},
     "output_type": "execute_result"
    }
   ],
   "source": [
    "missing_values = df.isnull().sum()\n",
    "missing_values"
   ]
  },
  {
   "cell_type": "markdown",
   "id": "3fe855c6-e36f-4876-8721-87e9c96ef5db",
   "metadata": {},
   "source": [
    "## Fill missing values with mean"
   ]
  },
  {
   "cell_type": "code",
   "execution_count": 122,
   "id": "1b626445-1320-4483-a670-ac8dfd49f8ef",
   "metadata": {},
   "outputs": [
    {
     "data": {
      "text/html": [
       "<div>\n",
       "<style scoped>\n",
       "    .dataframe tbody tr th:only-of-type {\n",
       "        vertical-align: middle;\n",
       "    }\n",
       "\n",
       "    .dataframe tbody tr th {\n",
       "        vertical-align: top;\n",
       "    }\n",
       "\n",
       "    .dataframe thead th {\n",
       "        text-align: right;\n",
       "    }\n",
       "</style>\n",
       "<table border=\"1\" class=\"dataframe\">\n",
       "  <thead>\n",
       "    <tr style=\"text-align: right;\">\n",
       "      <th></th>\n",
       "      <th>screen_name</th>\n",
       "      <th>text</th>\n",
       "      <th>account.type</th>\n",
       "      <th>class_type</th>\n",
       "      <th>account_encoded</th>\n",
       "      <th>new_col</th>\n",
       "      <th>mapped_col</th>\n",
       "      <th>lambda_col</th>\n",
       "    </tr>\n",
       "  </thead>\n",
       "  <tbody>\n",
       "    <tr>\n",
       "      <th>0</th>\n",
       "      <td>imranyebot</td>\n",
       "      <td>YEA now that note GOOD</td>\n",
       "      <td>bot</td>\n",
       "      <td>others</td>\n",
       "      <td>1</td>\n",
       "      <td>2</td>\n",
       "      <td>2</td>\n",
       "      <td>3</td>\n",
       "    </tr>\n",
       "    <tr>\n",
       "      <th>1</th>\n",
       "      <td>zawvrk</td>\n",
       "      <td>Listen to This Charming Man by The Smiths  htt...</td>\n",
       "      <td>human</td>\n",
       "      <td>human</td>\n",
       "      <td>0</td>\n",
       "      <td>0</td>\n",
       "      <td>0</td>\n",
       "      <td>0</td>\n",
       "    </tr>\n",
       "    <tr>\n",
       "      <th>2</th>\n",
       "      <td>zawarbot</td>\n",
       "      <td>wish i can i would be seeing other hoes on the...</td>\n",
       "      <td>bot</td>\n",
       "      <td>others</td>\n",
       "      <td>1</td>\n",
       "      <td>2</td>\n",
       "      <td>2</td>\n",
       "      <td>3</td>\n",
       "    </tr>\n",
       "    <tr>\n",
       "      <th>3</th>\n",
       "      <td>ahadsheriffbot</td>\n",
       "      <td>The decade in the significantly easier schedul...</td>\n",
       "      <td>bot</td>\n",
       "      <td>others</td>\n",
       "      <td>1</td>\n",
       "      <td>2</td>\n",
       "      <td>2</td>\n",
       "      <td>3</td>\n",
       "    </tr>\n",
       "    <tr>\n",
       "      <th>4</th>\n",
       "      <td>kevinhookebot</td>\n",
       "      <td>\"Theim class=\\\"alignnone size-full wp-image-60...</td>\n",
       "      <td>bot</td>\n",
       "      <td>rnn</td>\n",
       "      <td>1</td>\n",
       "      <td>2</td>\n",
       "      <td>2</td>\n",
       "      <td>3</td>\n",
       "    </tr>\n",
       "    <tr>\n",
       "      <th>...</th>\n",
       "      <td>...</td>\n",
       "      <td>...</td>\n",
       "      <td>...</td>\n",
       "      <td>...</td>\n",
       "      <td>...</td>\n",
       "      <td>...</td>\n",
       "      <td>...</td>\n",
       "      <td>...</td>\n",
       "    </tr>\n",
       "    <tr>\n",
       "      <th>20707</th>\n",
       "      <td>AINarendraModi</td>\n",
       "      <td>Met on the Abversion of our science for the co...</td>\n",
       "      <td>bot</td>\n",
       "      <td>rnn</td>\n",
       "      <td>1</td>\n",
       "      <td>2</td>\n",
       "      <td>2</td>\n",
       "      <td>3</td>\n",
       "    </tr>\n",
       "    <tr>\n",
       "      <th>20708</th>\n",
       "      <td>AINarendraModi</td>\n",
       "      <td>Land for their during the opportunity to the p...</td>\n",
       "      <td>bot</td>\n",
       "      <td>rnn</td>\n",
       "      <td>1</td>\n",
       "      <td>2</td>\n",
       "      <td>2</td>\n",
       "      <td>3</td>\n",
       "    </tr>\n",
       "    <tr>\n",
       "      <th>20709</th>\n",
       "      <td>DeepDrumpf</td>\n",
       "      <td>@TayandYou doesn't have a clue. You're right. ...</td>\n",
       "      <td>bot</td>\n",
       "      <td>rnn</td>\n",
       "      <td>1</td>\n",
       "      <td>2</td>\n",
       "      <td>2</td>\n",
       "      <td>3</td>\n",
       "    </tr>\n",
       "    <tr>\n",
       "      <th>20710</th>\n",
       "      <td>jaden</td>\n",
       "      <td>Me And My Bestie https://t.co/vPq2iDkWZm</td>\n",
       "      <td>human</td>\n",
       "      <td>human</td>\n",
       "      <td>0</td>\n",
       "      <td>0</td>\n",
       "      <td>0</td>\n",
       "      <td>0</td>\n",
       "    </tr>\n",
       "    <tr>\n",
       "      <th>20711</th>\n",
       "      <td>kevinhookebot</td>\n",
       "      <td>\"Thead has a generate existing the Sparching f...</td>\n",
       "      <td>bot</td>\n",
       "      <td>rnn</td>\n",
       "      <td>1</td>\n",
       "      <td>2</td>\n",
       "      <td>2</td>\n",
       "      <td>3</td>\n",
       "    </tr>\n",
       "  </tbody>\n",
       "</table>\n",
       "<p>20712 rows × 8 columns</p>\n",
       "</div>"
      ],
      "text/plain": [
       "          screen_name                                               text  \\\n",
       "0          imranyebot                             YEA now that note GOOD   \n",
       "1              zawvrk  Listen to This Charming Man by The Smiths  htt...   \n",
       "2            zawarbot  wish i can i would be seeing other hoes on the...   \n",
       "3      ahadsheriffbot  The decade in the significantly easier schedul...   \n",
       "4       kevinhookebot  \"Theim class=\\\"alignnone size-full wp-image-60...   \n",
       "...               ...                                                ...   \n",
       "20707  AINarendraModi  Met on the Abversion of our science for the co...   \n",
       "20708  AINarendraModi  Land for their during the opportunity to the p...   \n",
       "20709      DeepDrumpf  @TayandYou doesn't have a clue. You're right. ...   \n",
       "20710           jaden           Me And My Bestie https://t.co/vPq2iDkWZm   \n",
       "20711   kevinhookebot  \"Thead has a generate existing the Sparching f...   \n",
       "\n",
       "      account.type class_type  account_encoded  new_col  mapped_col  \\\n",
       "0              bot     others                1        2           2   \n",
       "1            human      human                0        0           0   \n",
       "2              bot     others                1        2           2   \n",
       "3              bot     others                1        2           2   \n",
       "4              bot        rnn                1        2           2   \n",
       "...            ...        ...              ...      ...         ...   \n",
       "20707          bot        rnn                1        2           2   \n",
       "20708          bot        rnn                1        2           2   \n",
       "20709          bot        rnn                1        2           2   \n",
       "20710        human      human                0        0           0   \n",
       "20711          bot        rnn                1        2           2   \n",
       "\n",
       "       lambda_col  \n",
       "0               3  \n",
       "1               0  \n",
       "2               3  \n",
       "3               3  \n",
       "4               3  \n",
       "...           ...  \n",
       "20707           3  \n",
       "20708           3  \n",
       "20709           3  \n",
       "20710           0  \n",
       "20711           3  \n",
       "\n",
       "[20712 rows x 8 columns]"
      ]
     },
     "execution_count": 122,
     "metadata": {},
     "output_type": "execute_result"
    }
   ],
   "source": [
    "df_filled = df.fillna(df.mean(numeric_only=True))\n",
    "df_filled"
   ]
  },
  {
   "cell_type": "markdown",
   "id": "24266ccd-82ed-4d28-bc7d-09487335182d",
   "metadata": {},
   "source": [
    "## Handling outliers using IQR"
   ]
  },
  {
   "cell_type": "code",
   "execution_count": 123,
   "id": "f89965e3-e871-4644-9602-889b2e2fe34f",
   "metadata": {},
   "outputs": [],
   "source": [
    "# finding the 1st quartile\n",
    "q1 = df[\"account_encoded\"].quantile(0.25)\n",
    "\n",
    "# finding the 3rd quartile\n",
    "q3 = df['account_encoded'].quantile(0.75)\n",
    "\n",
    "# finding the iqr region\n",
    "iqr = q3-q1\n",
    "\n",
    "# finding upper and lower whiskers\n",
    "upper_bound = q3+(1.5*iqr)\n",
    "lower_bound = q1-(1.5*iqr)"
   ]
  },
  {
   "cell_type": "code",
   "execution_count": 124,
   "id": "4d39ffd4-12d5-4d89-97aa-3065f65d0b80",
   "metadata": {},
   "outputs": [
    {
     "data": {
      "text/plain": [
       "np.float64(2.5)"
      ]
     },
     "execution_count": 124,
     "metadata": {},
     "output_type": "execute_result"
    }
   ],
   "source": [
    "upper_bound"
   ]
  },
  {
   "cell_type": "code",
   "execution_count": 125,
   "id": "a9a2f2ca-ddfb-40f0-b7a9-3787a38f4bef",
   "metadata": {},
   "outputs": [
    {
     "data": {
      "text/plain": [
       "np.float64(-1.5)"
      ]
     },
     "execution_count": 125,
     "metadata": {},
     "output_type": "execute_result"
    }
   ],
   "source": [
    "lower_bound"
   ]
  },
  {
   "cell_type": "code",
   "execution_count": 126,
   "id": "cddbd298-3b9e-46a8-b9e1-88883061e252",
   "metadata": {},
   "outputs": [
    {
     "data": {
      "text/html": [
       "<div>\n",
       "<style scoped>\n",
       "    .dataframe tbody tr th:only-of-type {\n",
       "        vertical-align: middle;\n",
       "    }\n",
       "\n",
       "    .dataframe tbody tr th {\n",
       "        vertical-align: top;\n",
       "    }\n",
       "\n",
       "    .dataframe thead th {\n",
       "        text-align: right;\n",
       "    }\n",
       "</style>\n",
       "<table border=\"1\" class=\"dataframe\">\n",
       "  <thead>\n",
       "    <tr style=\"text-align: right;\">\n",
       "      <th></th>\n",
       "      <th>screen_name</th>\n",
       "      <th>text</th>\n",
       "      <th>account.type</th>\n",
       "      <th>class_type</th>\n",
       "      <th>account_encoded</th>\n",
       "      <th>new_col</th>\n",
       "      <th>mapped_col</th>\n",
       "      <th>lambda_col</th>\n",
       "    </tr>\n",
       "  </thead>\n",
       "  <tbody>\n",
       "    <tr>\n",
       "      <th>0</th>\n",
       "      <td>imranyebot</td>\n",
       "      <td>YEA now that note GOOD</td>\n",
       "      <td>bot</td>\n",
       "      <td>others</td>\n",
       "      <td>1</td>\n",
       "      <td>2</td>\n",
       "      <td>2</td>\n",
       "      <td>3</td>\n",
       "    </tr>\n",
       "    <tr>\n",
       "      <th>1</th>\n",
       "      <td>zawvrk</td>\n",
       "      <td>Listen to This Charming Man by The Smiths  htt...</td>\n",
       "      <td>human</td>\n",
       "      <td>human</td>\n",
       "      <td>0</td>\n",
       "      <td>0</td>\n",
       "      <td>0</td>\n",
       "      <td>0</td>\n",
       "    </tr>\n",
       "    <tr>\n",
       "      <th>2</th>\n",
       "      <td>zawarbot</td>\n",
       "      <td>wish i can i would be seeing other hoes on the...</td>\n",
       "      <td>bot</td>\n",
       "      <td>others</td>\n",
       "      <td>1</td>\n",
       "      <td>2</td>\n",
       "      <td>2</td>\n",
       "      <td>3</td>\n",
       "    </tr>\n",
       "    <tr>\n",
       "      <th>3</th>\n",
       "      <td>ahadsheriffbot</td>\n",
       "      <td>The decade in the significantly easier schedul...</td>\n",
       "      <td>bot</td>\n",
       "      <td>others</td>\n",
       "      <td>1</td>\n",
       "      <td>2</td>\n",
       "      <td>2</td>\n",
       "      <td>3</td>\n",
       "    </tr>\n",
       "    <tr>\n",
       "      <th>4</th>\n",
       "      <td>kevinhookebot</td>\n",
       "      <td>\"Theim class=\\\"alignnone size-full wp-image-60...</td>\n",
       "      <td>bot</td>\n",
       "      <td>rnn</td>\n",
       "      <td>1</td>\n",
       "      <td>2</td>\n",
       "      <td>2</td>\n",
       "      <td>3</td>\n",
       "    </tr>\n",
       "    <tr>\n",
       "      <th>...</th>\n",
       "      <td>...</td>\n",
       "      <td>...</td>\n",
       "      <td>...</td>\n",
       "      <td>...</td>\n",
       "      <td>...</td>\n",
       "      <td>...</td>\n",
       "      <td>...</td>\n",
       "      <td>...</td>\n",
       "    </tr>\n",
       "    <tr>\n",
       "      <th>20707</th>\n",
       "      <td>AINarendraModi</td>\n",
       "      <td>Met on the Abversion of our science for the co...</td>\n",
       "      <td>bot</td>\n",
       "      <td>rnn</td>\n",
       "      <td>1</td>\n",
       "      <td>2</td>\n",
       "      <td>2</td>\n",
       "      <td>3</td>\n",
       "    </tr>\n",
       "    <tr>\n",
       "      <th>20708</th>\n",
       "      <td>AINarendraModi</td>\n",
       "      <td>Land for their during the opportunity to the p...</td>\n",
       "      <td>bot</td>\n",
       "      <td>rnn</td>\n",
       "      <td>1</td>\n",
       "      <td>2</td>\n",
       "      <td>2</td>\n",
       "      <td>3</td>\n",
       "    </tr>\n",
       "    <tr>\n",
       "      <th>20709</th>\n",
       "      <td>DeepDrumpf</td>\n",
       "      <td>@TayandYou doesn't have a clue. You're right. ...</td>\n",
       "      <td>bot</td>\n",
       "      <td>rnn</td>\n",
       "      <td>1</td>\n",
       "      <td>2</td>\n",
       "      <td>2</td>\n",
       "      <td>3</td>\n",
       "    </tr>\n",
       "    <tr>\n",
       "      <th>20710</th>\n",
       "      <td>jaden</td>\n",
       "      <td>Me And My Bestie https://t.co/vPq2iDkWZm</td>\n",
       "      <td>human</td>\n",
       "      <td>human</td>\n",
       "      <td>0</td>\n",
       "      <td>0</td>\n",
       "      <td>0</td>\n",
       "      <td>0</td>\n",
       "    </tr>\n",
       "    <tr>\n",
       "      <th>20711</th>\n",
       "      <td>kevinhookebot</td>\n",
       "      <td>\"Thead has a generate existing the Sparching f...</td>\n",
       "      <td>bot</td>\n",
       "      <td>rnn</td>\n",
       "      <td>1</td>\n",
       "      <td>2</td>\n",
       "      <td>2</td>\n",
       "      <td>3</td>\n",
       "    </tr>\n",
       "  </tbody>\n",
       "</table>\n",
       "<p>20712 rows × 8 columns</p>\n",
       "</div>"
      ],
      "text/plain": [
       "          screen_name                                               text  \\\n",
       "0          imranyebot                             YEA now that note GOOD   \n",
       "1              zawvrk  Listen to This Charming Man by The Smiths  htt...   \n",
       "2            zawarbot  wish i can i would be seeing other hoes on the...   \n",
       "3      ahadsheriffbot  The decade in the significantly easier schedul...   \n",
       "4       kevinhookebot  \"Theim class=\\\"alignnone size-full wp-image-60...   \n",
       "...               ...                                                ...   \n",
       "20707  AINarendraModi  Met on the Abversion of our science for the co...   \n",
       "20708  AINarendraModi  Land for their during the opportunity to the p...   \n",
       "20709      DeepDrumpf  @TayandYou doesn't have a clue. You're right. ...   \n",
       "20710           jaden           Me And My Bestie https://t.co/vPq2iDkWZm   \n",
       "20711   kevinhookebot  \"Thead has a generate existing the Sparching f...   \n",
       "\n",
       "      account.type class_type  account_encoded  new_col  mapped_col  \\\n",
       "0              bot     others                1        2           2   \n",
       "1            human      human                0        0           0   \n",
       "2              bot     others                1        2           2   \n",
       "3              bot     others                1        2           2   \n",
       "4              bot        rnn                1        2           2   \n",
       "...            ...        ...              ...      ...         ...   \n",
       "20707          bot        rnn                1        2           2   \n",
       "20708          bot        rnn                1        2           2   \n",
       "20709          bot        rnn                1        2           2   \n",
       "20710        human      human                0        0           0   \n",
       "20711          bot        rnn                1        2           2   \n",
       "\n",
       "       lambda_col  \n",
       "0               3  \n",
       "1               0  \n",
       "2               3  \n",
       "3               3  \n",
       "4               3  \n",
       "...           ...  \n",
       "20707           3  \n",
       "20708           3  \n",
       "20709           3  \n",
       "20710           0  \n",
       "20711           3  \n",
       "\n",
       "[20712 rows x 8 columns]"
      ]
     },
     "execution_count": 126,
     "metadata": {},
     "output_type": "execute_result"
    }
   ],
   "source": [
    "Q1 = df[\"account_encoded\"].quantile(0.25)\n",
    "Q3 = df[\"account_encoded\"].quantile(0.75)\n",
    "IQR = Q3 - Q1\n",
    "df_no_outliers = df[~((df[\"account_encoded\"] < (Q1 - 1.5 * IQR)) |  (df[\"account_encoded\"] > (Q3 + 1.5 * IQR)))]\n",
    "df_no_outliers"
   ]
  },
  {
   "cell_type": "markdown",
   "id": "fecf3861-48db-4ef2-bf13-2dbf41ef57af",
   "metadata": {},
   "source": [
    "## ===== PANDAS PLOTS ====="
   ]
  },
  {
   "cell_type": "markdown",
   "id": "81f2a857-e5a1-4465-b045-8bb4f4abdd2a",
   "metadata": {},
   "source": [
    "## ===== UNIVARIATE ANALYSIS ====="
   ]
  },
  {
   "cell_type": "markdown",
   "id": "6ae4c31f-0db0-465b-a2b1-12f636153a78",
   "metadata": {},
   "source": [
    "### Line Plot"
   ]
  },
  {
   "cell_type": "code",
   "execution_count": 127,
   "id": "feee7b4c-9e06-4636-9584-14a06aee6bae",
   "metadata": {},
   "outputs": [
    {
     "data": {
      "image/png": "[encoded data removed]",
      "text/plain": [
       "<Figure size 640x480 with 1 Axes>"
      ]
     },
     "metadata": {},
     "output_type": "display_data"
    }
   ],
   "source": [
    "value_counts_df1.plot(kind=\"line\", title=\"Line Plot - Account Encoded\")\n",
    "plt.xlabel(\"Account Type\")\n",
    "plt.ylabel(\"Count\")\n",
    "plt.show()\n"
   ]
  },
  {
   "cell_type": "markdown",
   "id": "c31b474f-f600-4e86-9770-863ba946397e",
   "metadata": {},
   "source": [
    "### Box Plot"
   ]
  },
  {
   "cell_type": "code",
   "execution_count": 128,
   "id": "cb682b2b-e9da-41b6-a4c6-357174a70dd1",
   "metadata": {},
   "outputs": [
    {
     "data": {
      "image/png": "[encoded data removed]",
      "text/plain": [
       "<Figure size 640x480 with 1 Axes>"
      ]
     },
     "metadata": {},
     "output_type": "display_data"
    }
   ],
   "source": [
    "value_counts_df.plot(kind=\"box\", title=\"Box Plot - Account Encoded\")\n",
    "plt.show()"
   ]
  },
  {
   "cell_type": "markdown",
   "id": "ca74914e-53dd-4cfc-a58c-18081484dda0",
   "metadata": {},
   "source": [
    "# 4.Data visuvalization"
   ]
  },
  {
   "cell_type": "markdown",
   "id": "1346e3b5-a309-4c57-80d4-a0bf8593713a",
   "metadata": {},
   "source": [
    "### Histogram"
   ]
  },
  {
   "cell_type": "code",
   "execution_count": 129,
   "id": "6766cb09-61c4-4a90-b457-8315294d575b",
   "metadata": {},
   "outputs": [
    {
     "data": {
      "image/png": "[encoded data removed]",
      "text/plain": [
       "<Figure size 640x480 with 1 Axes>"
      ]
     },
     "metadata": {},
     "output_type": "display_data"
    }
   ],
   "source": [
    "value_counts_df1.plot(kind='hist', title=\"Histogram - Account Encoded\", edgecolor='black')\n",
    "plt.show()"
   ]
  },
  {
   "cell_type": "markdown",
   "id": "d3ffe16f-6a26-435c-8a0d-dbb720a07a30",
   "metadata": {},
   "source": [
    "### Pie Chart"
   ]
  },
  {
   "cell_type": "code",
   "execution_count": 130,
   "id": "536ef834-82aa-4ea8-b8b7-1fc57f755315",
   "metadata": {},
   "outputs": [
    {
     "data": {
      "image/png": "[encoded data removed]",
      "text/plain": [
       "<Figure size 640x480 with 1 Axes>"
      ]
     },
     "metadata": {},
     "output_type": "display_data"
    }
   ],
   "source": [
    "value_counts_df1.plot.pie(title=\"Pie Chart - Account Encoded\")\n",
    "plt.legend(value_counts_df1.index,)\n",
    "plt.show()"
   ]
  },
  {
   "cell_type": "markdown",
   "id": "a160baec-8224-40ef-9bda-f62c10f6653c",
   "metadata": {},
   "source": [
    "### Bar Plot"
   ]
  },
  {
   "cell_type": "code",
   "execution_count": 131,
   "id": "071726d8-a771-4c70-a94b-e9b030631a46",
   "metadata": {},
   "outputs": [
    {
     "data": {
      "image/png": "[encoded data removed]",
      "text/plain": [
       "<Figure size 640x480 with 1 Axes>"
      ]
     },
     "metadata": {},
     "output_type": "display_data"
    }
   ],
   "source": [
    "value_counts_df1.plot(kind='bar', title=\"Bar Plot - Account Encoded\")\n",
    "plt.show()"
   ]
  },
  {
   "cell_type": "markdown",
   "id": "1409a6fb-3ddf-4ad7-9dc6-579a100a6b12",
   "metadata": {},
   "source": [
    "### Seaborn Countplot"
   ]
  },
  {
   "cell_type": "code",
   "execution_count": 132,
   "id": "57f94e88-2490-4daf-8811-17731870f2cc",
   "metadata": {},
   "outputs": [
    {
     "data": {
      "image/png": "[encoded data removed]",
      "text/plain": [
       "<Figure size 640x480 with 1 Axes>"
      ]
     },
     "metadata": {},
     "output_type": "display_data"
    }
   ],
   "source": [
    "sns.countplot(x='account.type', data=df)\n",
    "plt.title(\"Countplot - Account Type\")\n",
    "plt.show()"
   ]
  },
  {
   "cell_type": "markdown",
   "id": "8ef70083-2af9-4232-b7ed-1a449f010fa9",
   "metadata": {},
   "source": [
    "## ===== BIVARIATE ANALYSIS ====="
   ]
  },
  {
   "cell_type": "markdown",
   "id": "6e4746f9-1ba5-49a3-a957-803ab2adac92",
   "metadata": {},
   "source": [
    "### Scatter Plot"
   ]
  },
  {
   "cell_type": "code",
   "execution_count": 133,
   "id": "d7dc2842-9e2b-4e69-9a21-b55f67c91a4e",
   "metadata": {},
   "outputs": [
    {
     "data": {
      "image/png": "[encoded data removed]",
      "text/plain": [
       "<Figure size 640x480 with 1 Axes>"
      ]
     },
     "metadata": {},
     "output_type": "display_data"
    }
   ],
   "source": [
    "plt.scatter(value_counts_df1.index, value_counts_df1.values)\n",
    "plt.title(\"Bivariate Scatter Plot\")\n",
    "plt.xlabel(\"Account Type\")\n",
    "plt.ylabel(\"Count\")\n",
    "plt.show()\n"
   ]
  },
  {
   "cell_type": "markdown",
   "id": "cb618349-ce51-41d7-932b-af8ebd904e60",
   "metadata": {},
   "source": [
    "### Seaborn Barplot \n"
   ]
  },
  {
   "cell_type": "code",
   "execution_count": 134,
   "id": "556afdd2-64d0-4394-b087-d3a1e77a7dd9",
   "metadata": {
    "scrolled": true
   },
   "outputs": [
    {
     "data": {
      "image/png": "[encoded data removed]",
      "text/plain": [
       "<Figure size 640x480 with 1 Axes>"
      ]
     },
     "metadata": {},
     "output_type": "display_data"
    }
   ],
   "source": [
    "sns.barplot( data=value_counts_df1)\n",
    "plt.title(\"Barplot - Mean Encoded Value\")\n",
    "plt.show()\n"
   ]
  },
  {
   "cell_type": "markdown",
   "id": "2d4ebb69-4aa4-4bc5-8060-a55450f49367",
   "metadata": {},
   "source": [
    "### Boxplot\n"
   ]
  },
  {
   "cell_type": "code",
   "execution_count": 135,
   "id": "9a18784c-f142-4208-a4fd-bb11e3a22bf3",
   "metadata": {},
   "outputs": [
    {
     "data": {
      "image/png": "[encoded data removed]",
      "text/plain": [
       "<Figure size 640x480 with 1 Axes>"
      ]
     },
     "metadata": {},
     "output_type": "display_data"
    }
   ],
   "source": [
    "sns.boxplot( data=value_counts_df1)\n",
    "plt.title(\"Boxplot - Encoded Value by Class Type\")\n",
    "# plt.xticks(rotation=45)\n",
    "plt.show()"
   ]
  },
  {
   "cell_type": "markdown",
   "id": "0ca871d4-11c2-4ddc-be2c-f8b377205bca",
   "metadata": {},
   "source": [
    "## 5.Data Training and Testing\n"
   ]
  },
  {
   "cell_type": "code",
   "execution_count": 136,
   "id": "cab4e26a-8d28-429d-8db5-baf2d88d53ca",
   "metadata": {},
   "outputs": [
    {
     "data": {
      "text/html": [
       "<div>\n",
       "<style scoped>\n",
       "    .dataframe tbody tr th:only-of-type {\n",
       "        vertical-align: middle;\n",
       "    }\n",
       "\n",
       "    .dataframe tbody tr th {\n",
       "        vertical-align: top;\n",
       "    }\n",
       "\n",
       "    .dataframe thead th {\n",
       "        text-align: right;\n",
       "    }\n",
       "</style>\n",
       "<table border=\"1\" class=\"dataframe\">\n",
       "  <thead>\n",
       "    <tr style=\"text-align: right;\">\n",
       "      <th></th>\n",
       "      <th>screen_name</th>\n",
       "      <th>text</th>\n",
       "      <th>account.type</th>\n",
       "      <th>class_type</th>\n",
       "      <th>account_encoded</th>\n",
       "      <th>new_col</th>\n",
       "      <th>mapped_col</th>\n",
       "      <th>lambda_col</th>\n",
       "    </tr>\n",
       "  </thead>\n",
       "  <tbody>\n",
       "    <tr>\n",
       "      <th>0</th>\n",
       "      <td>imranyebot</td>\n",
       "      <td>YEA now that note GOOD</td>\n",
       "      <td>bot</td>\n",
       "      <td>others</td>\n",
       "      <td>1</td>\n",
       "      <td>2</td>\n",
       "      <td>2</td>\n",
       "      <td>3</td>\n",
       "    </tr>\n",
       "    <tr>\n",
       "      <th>1</th>\n",
       "      <td>zawvrk</td>\n",
       "      <td>Listen to This Charming Man by The Smiths  htt...</td>\n",
       "      <td>human</td>\n",
       "      <td>human</td>\n",
       "      <td>0</td>\n",
       "      <td>0</td>\n",
       "      <td>0</td>\n",
       "      <td>0</td>\n",
       "    </tr>\n",
       "    <tr>\n",
       "      <th>2</th>\n",
       "      <td>zawarbot</td>\n",
       "      <td>wish i can i would be seeing other hoes on the...</td>\n",
       "      <td>bot</td>\n",
       "      <td>others</td>\n",
       "      <td>1</td>\n",
       "      <td>2</td>\n",
       "      <td>2</td>\n",
       "      <td>3</td>\n",
       "    </tr>\n",
       "    <tr>\n",
       "      <th>3</th>\n",
       "      <td>ahadsheriffbot</td>\n",
       "      <td>The decade in the significantly easier schedul...</td>\n",
       "      <td>bot</td>\n",
       "      <td>others</td>\n",
       "      <td>1</td>\n",
       "      <td>2</td>\n",
       "      <td>2</td>\n",
       "      <td>3</td>\n",
       "    </tr>\n",
       "    <tr>\n",
       "      <th>4</th>\n",
       "      <td>kevinhookebot</td>\n",
       "      <td>\"Theim class=\\\"alignnone size-full wp-image-60...</td>\n",
       "      <td>bot</td>\n",
       "      <td>rnn</td>\n",
       "      <td>1</td>\n",
       "      <td>2</td>\n",
       "      <td>2</td>\n",
       "      <td>3</td>\n",
       "    </tr>\n",
       "  </tbody>\n",
       "</table>\n",
       "</div>"
      ],
      "text/plain": [
       "      screen_name                                               text  \\\n",
       "0      imranyebot                             YEA now that note GOOD   \n",
       "1          zawvrk  Listen to This Charming Man by The Smiths  htt...   \n",
       "2        zawarbot  wish i can i would be seeing other hoes on the...   \n",
       "3  ahadsheriffbot  The decade in the significantly easier schedul...   \n",
       "4   kevinhookebot  \"Theim class=\\\"alignnone size-full wp-image-60...   \n",
       "\n",
       "  account.type class_type  account_encoded  new_col  mapped_col  lambda_col  \n",
       "0          bot     others                1        2           2           3  \n",
       "1        human      human                0        0           0           0  \n",
       "2          bot     others                1        2           2           3  \n",
       "3          bot     others                1        2           2           3  \n",
       "4          bot        rnn                1        2           2           3  "
      ]
     },
     "execution_count": 136,
     "metadata": {},
     "output_type": "execute_result"
    }
   ],
   "source": [
    "df.head(5)"
   ]
  },
  {
   "cell_type": "code",
   "execution_count": 137,
   "id": "4c35e36d-d182-4976-813e-73291746e2f4",
   "metadata": {},
   "outputs": [],
   "source": [
    "drop = df[['lambda_col','mapped_col','new_col','screen_name','account_encoded']]\n",
    "df.drop(drop,axis=1,inplace=True)"
   ]
  },
  {
   "cell_type": "code",
   "execution_count": 138,
   "id": "2e0063f4-4cff-40ad-9c15-7788befbaa23",
   "metadata": {},
   "outputs": [
    {
     "data": {
      "text/html": [
       "<div>\n",
       "<style scoped>\n",
       "    .dataframe tbody tr th:only-of-type {\n",
       "        vertical-align: middle;\n",
       "    }\n",
       "\n",
       "    .dataframe tbody tr th {\n",
       "        vertical-align: top;\n",
       "    }\n",
       "\n",
       "    .dataframe thead th {\n",
       "        text-align: right;\n",
       "    }\n",
       "</style>\n",
       "<table border=\"1\" class=\"dataframe\">\n",
       "  <thead>\n",
       "    <tr style=\"text-align: right;\">\n",
       "      <th></th>\n",
       "      <th>text</th>\n",
       "      <th>account.type</th>\n",
       "      <th>class_type</th>\n",
       "    </tr>\n",
       "  </thead>\n",
       "  <tbody>\n",
       "    <tr>\n",
       "      <th>0</th>\n",
       "      <td>YEA now that note GOOD</td>\n",
       "      <td>bot</td>\n",
       "      <td>others</td>\n",
       "    </tr>\n",
       "    <tr>\n",
       "      <th>1</th>\n",
       "      <td>Listen to This Charming Man by The Smiths  htt...</td>\n",
       "      <td>human</td>\n",
       "      <td>human</td>\n",
       "    </tr>\n",
       "    <tr>\n",
       "      <th>2</th>\n",
       "      <td>wish i can i would be seeing other hoes on the...</td>\n",
       "      <td>bot</td>\n",
       "      <td>others</td>\n",
       "    </tr>\n",
       "    <tr>\n",
       "      <th>3</th>\n",
       "      <td>The decade in the significantly easier schedul...</td>\n",
       "      <td>bot</td>\n",
       "      <td>others</td>\n",
       "    </tr>\n",
       "    <tr>\n",
       "      <th>4</th>\n",
       "      <td>\"Theim class=\\\"alignnone size-full wp-image-60...</td>\n",
       "      <td>bot</td>\n",
       "      <td>rnn</td>\n",
       "    </tr>\n",
       "    <tr>\n",
       "      <th>...</th>\n",
       "      <td>...</td>\n",
       "      <td>...</td>\n",
       "      <td>...</td>\n",
       "    </tr>\n",
       "    <tr>\n",
       "      <th>20707</th>\n",
       "      <td>Met on the Abversion of our science for the co...</td>\n",
       "      <td>bot</td>\n",
       "      <td>rnn</td>\n",
       "    </tr>\n",
       "    <tr>\n",
       "      <th>20708</th>\n",
       "      <td>Land for their during the opportunity to the p...</td>\n",
       "      <td>bot</td>\n",
       "      <td>rnn</td>\n",
       "    </tr>\n",
       "    <tr>\n",
       "      <th>20709</th>\n",
       "      <td>@TayandYou doesn't have a clue. You're right. ...</td>\n",
       "      <td>bot</td>\n",
       "      <td>rnn</td>\n",
       "    </tr>\n",
       "    <tr>\n",
       "      <th>20710</th>\n",
       "      <td>Me And My Bestie https://t.co/vPq2iDkWZm</td>\n",
       "      <td>human</td>\n",
       "      <td>human</td>\n",
       "    </tr>\n",
       "    <tr>\n",
       "      <th>20711</th>\n",
       "      <td>\"Thead has a generate existing the Sparching f...</td>\n",
       "      <td>bot</td>\n",
       "      <td>rnn</td>\n",
       "    </tr>\n",
       "  </tbody>\n",
       "</table>\n",
       "<p>20712 rows × 3 columns</p>\n",
       "</div>"
      ],
      "text/plain": [
       "                                                    text account.type  \\\n",
       "0                                 YEA now that note GOOD          bot   \n",
       "1      Listen to This Charming Man by The Smiths  htt...        human   \n",
       "2      wish i can i would be seeing other hoes on the...          bot   \n",
       "3      The decade in the significantly easier schedul...          bot   \n",
       "4      \"Theim class=\\\"alignnone size-full wp-image-60...          bot   \n",
       "...                                                  ...          ...   \n",
       "20707  Met on the Abversion of our science for the co...          bot   \n",
       "20708  Land for their during the opportunity to the p...          bot   \n",
       "20709  @TayandYou doesn't have a clue. You're right. ...          bot   \n",
       "20710           Me And My Bestie https://t.co/vPq2iDkWZm        human   \n",
       "20711  \"Thead has a generate existing the Sparching f...          bot   \n",
       "\n",
       "      class_type  \n",
       "0         others  \n",
       "1          human  \n",
       "2         others  \n",
       "3         others  \n",
       "4            rnn  \n",
       "...          ...  \n",
       "20707        rnn  \n",
       "20708        rnn  \n",
       "20709        rnn  \n",
       "20710      human  \n",
       "20711        rnn  \n",
       "\n",
       "[20712 rows x 3 columns]"
      ]
     },
     "execution_count": 138,
     "metadata": {},
     "output_type": "execute_result"
    }
   ],
   "source": [
    "df"
   ]
  },
  {
   "cell_type": "markdown",
   "id": "308e2cd6-2feb-4bce-9f99-fa74bbb37ab8",
   "metadata": {},
   "source": [
    "# Independent and dependent variables"
   ]
  },
  {
   "cell_type": "markdown",
   "id": "db34a600-df03-4c63-a6b2-9a8529afba6a",
   "metadata": {},
   "source": [
    "#### X_text the tweet's words (raw text).\n",
    "#### X_acc → account type (bot/human).\n",
    "#### y → what you want to predict (class_type: human, rnn, gpt2, others).\n",
    "#### X = input features, y = output labels."
   ]
  },
  {
   "cell_type": "code",
   "execution_count": 139,
   "id": "9f905436-82f1-478c-b138-3ac8745ef250",
   "metadata": {},
   "outputs": [],
   "source": [
    "X_text = df[\"text\"]                  # tweet text\n",
    "X_acc = df[\"account.type\"]           # bot / human\n",
    "y = df[\"class_type\"]                 # target label"
   ]
  },
  {
   "cell_type": "code",
   "execution_count": 140,
   "id": "1a744a7a-98c2-4060-ac7d-5fe13efe9089",
   "metadata": {},
   "outputs": [
    {
     "data": {
      "text/plain": [
       "0                                   YEA now that note GOOD\n",
       "1        Listen to This Charming Man by The Smiths  htt...\n",
       "2        wish i can i would be seeing other hoes on the...\n",
       "3        The decade in the significantly easier schedul...\n",
       "4        \"Theim class=\\\"alignnone size-full wp-image-60...\n",
       "                               ...                        \n",
       "20707    Met on the Abversion of our science for the co...\n",
       "20708    Land for their during the opportunity to the p...\n",
       "20709    @TayandYou doesn't have a clue. You're right. ...\n",
       "20710             Me And My Bestie https://t.co/vPq2iDkWZm\n",
       "20711    \"Thead has a generate existing the Sparching f...\n",
       "Name: text, Length: 20712, dtype: object"
      ]
     },
     "execution_count": 140,
     "metadata": {},
     "output_type": "execute_result"
    }
   ],
   "source": [
    "X_text"
   ]
  },
  {
   "cell_type": "code",
   "execution_count": 141,
   "id": "73b4a315-e304-4e1a-bd9c-807c2ad32a4b",
   "metadata": {},
   "outputs": [
    {
     "data": {
      "text/plain": [
       "0          bot\n",
       "1        human\n",
       "2          bot\n",
       "3          bot\n",
       "4          bot\n",
       "         ...  \n",
       "20707      bot\n",
       "20708      bot\n",
       "20709      bot\n",
       "20710    human\n",
       "20711      bot\n",
       "Name: account.type, Length: 20712, dtype: object"
      ]
     },
     "execution_count": 141,
     "metadata": {},
     "output_type": "execute_result"
    }
   ],
   "source": [
    "X_acc"
   ]
  },
  {
   "cell_type": "code",
   "execution_count": 142,
   "id": "7f31b207-e996-4e0d-a3e4-76e21f6cf659",
   "metadata": {},
   "outputs": [
    {
     "data": {
      "text/plain": [
       "0        others\n",
       "1         human\n",
       "2        others\n",
       "3        others\n",
       "4           rnn\n",
       "          ...  \n",
       "20707       rnn\n",
       "20708       rnn\n",
       "20709       rnn\n",
       "20710     human\n",
       "20711       rnn\n",
       "Name: class_type, Length: 20712, dtype: object"
      ]
     },
     "execution_count": 142,
     "metadata": {},
     "output_type": "execute_result"
    }
   ],
   "source": [
    "y"
   ]
  },
  {
   "cell_type": "markdown",
   "id": "19ef7467-12cd-4abe-9e94-94e52f15bc6a",
   "metadata": {},
   "source": [
    "# Encode account.type into numeric (bot=1, human=0)"
   ]
  },
  {
   "cell_type": "markdown",
   "id": "a3587ddc-ba7e-4ce2-ab7f-fde4f6c91e21",
   "metadata": {},
   "source": [
    "#### ML models don’t understand words like \"bot\" and \"human\".\n",
    "\n",
    "#### LabelEncoder turns them into numbers → bot = 1, human = 0."
   ]
  },
  {
   "cell_type": "code",
   "execution_count": 143,
   "id": "683df2c4-6468-410a-8969-459884c4bd5e",
   "metadata": {},
   "outputs": [],
   "source": [
    "acc_encoder = LabelEncoder()\n",
    "X_acc_encoded = acc_encoder.fit_transform(X_acc)"
   ]
  },
  {
   "cell_type": "code",
   "execution_count": 144,
   "id": "7784bfcf-35f2-4398-959d-f7a1b887e0c9",
   "metadata": {},
   "outputs": [
    {
     "data": {
      "text/plain": [
       "array([0, 1, 0, ..., 0, 1, 0], shape=(20712,))"
      ]
     },
     "execution_count": 144,
     "metadata": {},
     "output_type": "execute_result"
    }
   ],
   "source": [
    "X_acc_encoded"
   ]
  },
  {
   "cell_type": "markdown",
   "id": "7768910f-7fbc-4af9-8f31-f2b5aeab340b",
   "metadata": {},
   "source": [
    "# Split into training and testing sets"
   ]
  },
  {
   "cell_type": "markdown",
   "id": "a32a2998-3cd1-445e-9325-04e193bf0783",
   "metadata": {},
   "source": [
    "#### Splits the dataset: 80% training, 20% testing.\n",
    "\n",
    "#### Training set = used to teach the model.\n",
    "\n",
    "#### Test set = used to check if the model generalizes to unseen data.\n",
    "\n",
    "#### stratify=y → makes sure the class distribution (human, rnn, gpt2, others) stays balanced in both sets."
   ]
  },
  {
   "cell_type": "code",
   "execution_count": 145,
   "id": "d6f08793-0d65-44a8-b411-576cb9fe05dc",
   "metadata": {},
   "outputs": [],
   "source": [
    "X_train_text, X_test_text, X_train_acc, X_test_acc, y_train, y_test = train_test_split(X_text,X_acc_encoded, y, test_size=0.2, random_state=42, stratify=y)"
   ]
  },
  {
   "cell_type": "code",
   "execution_count": 146,
   "id": "386ecf27-0bda-46ea-a972-8dd5ceb222d6",
   "metadata": {},
   "outputs": [
    {
     "data": {
      "text/plain": [
       "5121     if youre caught \"Flossing\" (flossing is code f...\n",
       "2154     i urge anyone who wants to watch soccer for A ...\n",
       "1716     ever since i ve been told to put a shirt on in...\n",
       "4948     \"The posts full befet. The section like starte...\n",
       "2047     yea bro me I’m allowed to isha for job, money ...\n",
       "                               ...                        \n",
       "7302                               imagine driving a SQUAD\n",
       "7153     \"Coward\"… The word stinks of a corrupted forma...\n",
       "6032     just vibe check your job right is becoming A s...\n",
       "15707    \"They in a neue play been a Loean last and som...\n",
       "6404     my old students were absolute angels <U+0001F9...\n",
       "Name: text, Length: 16569, dtype: object"
      ]
     },
     "execution_count": 146,
     "metadata": {},
     "output_type": "execute_result"
    }
   ],
   "source": [
    "X_train_text"
   ]
  },
  {
   "cell_type": "code",
   "execution_count": 72,
   "id": "060f1639-1568-40ae-abcd-a81c57a1de64",
   "metadata": {},
   "outputs": [
    {
     "data": {
      "text/plain": [
       "16569"
      ]
     },
     "execution_count": 72,
     "metadata": {},
     "output_type": "execute_result"
    }
   ],
   "source": [
    "X_train_text.size"
   ]
  },
  {
   "cell_type": "code",
   "execution_count": 73,
   "id": "9698eba8-325e-40d2-b7ce-b997f90f7f01",
   "metadata": {},
   "outputs": [
    {
     "data": {
      "text/plain": [
       "8072     I won and now I'm so strong, but not enough to...\n",
       "9923      what yall know bout this https://t.co/KQQIADGwMo\n",
       "13777    The Fake News Media will not even mention that...\n",
       "3653      @loveclosely im creating statements not clothing\n",
       "19786    this better than the corny original https://t....\n",
       "                               ...                        \n",
       "16595                which subject do we tweet about best:\n",
       "1382     Land for the programme of the personal capabil...\n",
       "2813     After much research and discussion with my wif...\n",
       "7572     doctor was asking for my symptoms not my simptoms\n",
       "20047    @Lylli Wait you have a beta of it here??? I want!\n",
       "Name: text, Length: 4143, dtype: object"
      ]
     },
     "execution_count": 73,
     "metadata": {},
     "output_type": "execute_result"
    }
   ],
   "source": [
    "X_test_text"
   ]
  },
  {
   "cell_type": "code",
   "execution_count": 74,
   "id": "a651c056-459f-48a7-a3c7-85ee1026c138",
   "metadata": {},
   "outputs": [
    {
     "data": {
      "text/plain": [
       "4143"
      ]
     },
     "execution_count": 74,
     "metadata": {},
     "output_type": "execute_result"
    }
   ],
   "source": [
    "X_test_text.size"
   ]
  },
  {
   "cell_type": "code",
   "execution_count": 75,
   "id": "f8663a85-2afe-4d7c-bbaf-5d9d4975e257",
   "metadata": {},
   "outputs": [
    {
     "data": {
      "text/plain": [
       "array([0, 0, 1, ..., 0, 0, 1], shape=(16569,))"
      ]
     },
     "execution_count": 75,
     "metadata": {},
     "output_type": "execute_result"
    }
   ],
   "source": [
    "X_train_acc"
   ]
  },
  {
   "cell_type": "code",
   "execution_count": 76,
   "id": "d2e26059-62fc-45da-9776-3fa37785aec0",
   "metadata": {},
   "outputs": [
    {
     "data": {
      "text/plain": [
       "array([0, 1, 0, ..., 0, 1, 1], shape=(4143,))"
      ]
     },
     "execution_count": 76,
     "metadata": {},
     "output_type": "execute_result"
    }
   ],
   "source": [
    "X_test_acc"
   ]
  },
  {
   "cell_type": "code",
   "execution_count": 77,
   "id": "59d82a5b-ee82-4fa7-a615-467d8e03286c",
   "metadata": {},
   "outputs": [
    {
     "data": {
      "text/plain": [
       "5121       gpt2\n",
       "2154     others\n",
       "1716      human\n",
       "4948        rnn\n",
       "2047     others\n",
       "          ...  \n",
       "7302     others\n",
       "7153       gpt2\n",
       "6032     others\n",
       "15707       rnn\n",
       "6404      human\n",
       "Name: class_type, Length: 16569, dtype: object"
      ]
     },
     "execution_count": 77,
     "metadata": {},
     "output_type": "execute_result"
    }
   ],
   "source": [
    "y_train"
   ]
  },
  {
   "cell_type": "code",
   "execution_count": 78,
   "id": "d981b3ba-a669-417f-a86e-cf5274f19ba0",
   "metadata": {},
   "outputs": [
    {
     "data": {
      "text/plain": [
       "8072       rnn\n",
       "9923     human\n",
       "13777     gpt2\n",
       "3653     human\n",
       "19786    human\n",
       "         ...  \n",
       "16595    human\n",
       "1382       rnn\n",
       "2813      gpt2\n",
       "7572     human\n",
       "20047    human\n",
       "Name: class_type, Length: 4143, dtype: object"
      ]
     },
     "execution_count": 78,
     "metadata": {},
     "output_type": "execute_result"
    }
   ],
   "source": [
    "y_test"
   ]
  },
  {
   "cell_type": "markdown",
   "id": "20bd7bd5-1c2e-4c53-aff4-6d9caca9217b",
   "metadata": {},
   "source": [
    "# TF-IDF Vectorizer for text"
   ]
  },
  {
   "cell_type": "markdown",
   "id": "b1135674-5461-4ed7-89f5-db9a3da9bc6b",
   "metadata": {},
   "source": [
    "#### TF-IDF = turns text into numeric features.\n",
    "\n",
    "#### max_features=5000 → keep only the 5000 most important words/phrases.\n",
    "\n",
    "#### ngram_range=(1,2) → look at single words + pairs of words.\n",
    "\n",
    "#### fit_transform = learn vocab from training + convert.\n",
    "\n",
    "#### transform = just convert test data (no learning, avoids data leakage)."
   ]
  },
  {
   "cell_type": "code",
   "execution_count": 79,
   "id": "834450ae-cfb0-49ab-8dfb-1dcd61c1f088",
   "metadata": {},
   "outputs": [],
   "source": [
    "vectorizer = TfidfVectorizer(max_features=5000, ngram_range=(1, 2))\n",
    "X_train_tfidf = vectorizer.fit_transform(X_train_text)\n",
    "X_test_tfidf = vectorizer.transform(X_test_text)"
   ]
  },
  {
   "cell_type": "markdown",
   "id": "6d0a3871-9aba-4641-9b6b-da99d0da73d1",
   "metadata": {},
   "source": [
    "# TfidfVectorizer(...)\n",
    "Creates a tool to convert text → numbers.\\\n",
    "max_features=5000 → keep only the top 5000 most important words/phrases.\\\n",
    "ngram_range=(1,2) → use:\\\n",
    "1-grams (single words like “dog”).\\\n",
    "2-grams (pairs like “good boy”).\n",
    "\n",
    "# fit_transform(X_train_text)\n",
    "Learn vocabulary & importance from training text.\\\n",
    "Convert training tweets into a numeric TF-IDF matrix.\\\n",
    "Each row = a tweet, each column = a word/phrase, each value = how important that word is in that tweet.\n",
    "\n",
    "# transform(X_test_text)\n",
    "Apply the same vocabulary to test tweets.\\\n",
    "Doesn’t “learn” from test data (to avoid leakage).\\\n",
    "Just converts test tweets into numbers using the training vocabulary."
   ]
  },
  {
   "cell_type": "code",
   "execution_count": 80,
   "id": "6aed6d6c-acfc-497a-9b9a-fc2a12b7b5b8",
   "metadata": {},
   "outputs": [
    {
     "name": "stdout",
     "output_type": "stream",
     "text": [
      "<Compressed Sparse Row sparse matrix of dtype 'float64'\n",
      "\twith 290397 stored elements and shape (16569, 5000)>\n",
      "  Coords\tValues\n",
      "  (0, 1917)\t0.21265525398149873\n",
      "  (0, 4988)\t0.3754842070907409\n",
      "  (0, 792)\t0.4044790366231315\n",
      "  (0, 2060)\t0.13749777984262732\n",
      "  (0, 868)\t0.29507413157352663\n",
      "  (0, 1500)\t0.14228426668064362\n",
      "  (0, 4794)\t0.19840825505585907\n",
      "  (0, 4981)\t0.20253081419880226\n",
      "  (0, 2362)\t0.3291559600899095\n",
      "  (0, 1140)\t0.3127407315321748\n",
      "  (0, 2334)\t0.20671023863850999\n",
      "  (0, 699)\t0.44125136444801377\n",
      "  (1, 1500)\t0.12884908980714507\n",
      "  (1, 4556)\t0.3786727454665493\n",
      "  (1, 394)\t0.29968593695616363\n",
      "  (1, 4771)\t0.20682873184670159\n",
      "  (1, 4646)\t0.32404533527150836\n",
      "  (1, 4295)\t0.09543221795562633\n",
      "  (1, 4667)\t0.2476399981237295\n",
      "  (1, 709)\t0.2930665466791006\n",
      "  (1, 58)\t0.23043080380618416\n",
      "  (1, 395)\t0.3954060593921681\n",
      "  (1, 4647)\t0.3439800245908127\n",
      "  (1, 4421)\t0.3439800245908127\n",
      "  (2, 4295)\t0.07550858580275491\n",
      "  :\t:\n",
      "  (16567, 1523)\t0.11489667921625145\n",
      "  (16567, 2134)\t0.16149452513290147\n",
      "  (16567, 4139)\t0.2200206449051874\n",
      "  (16567, 349)\t0.21579856182584659\n",
      "  (16567, 3042)\t0.18371448996059278\n",
      "  (16567, 3328)\t0.17911906937173394\n",
      "  (16567, 3013)\t0.18178961728716814\n",
      "  (16567, 3413)\t0.2065821809955379\n",
      "  (16567, 3446)\t0.18916012706331906\n",
      "  (16567, 1801)\t0.19253571867773286\n",
      "  (16567, 3254)\t0.18613139322881117\n",
      "  (16567, 428)\t0.22117782263490054\n",
      "  (16567, 2074)\t0.21210571715366444\n",
      "  (16567, 2886)\t0.22632198857383917\n",
      "  (16567, 3089)\t0.21783414476085453\n",
      "  (16568, 2625)\t0.16703665593822783\n",
      "  (16568, 1896)\t0.14323342899109906\n",
      "  (16568, 866)\t0.1431539860130781\n",
      "  (16568, 1897)\t0.14342455048529237\n",
      "  (16568, 4719)\t0.295595562976715\n",
      "  (16568, 84)\t0.3256540782357213\n",
      "  (16568, 2843)\t0.3495175524321934\n",
      "  (16568, 3688)\t0.42950011554410955\n",
      "  (16568, 87)\t0.454961796402925\n",
      "  (16568, 156)\t0.4510752205333779\n"
     ]
    }
   ],
   "source": [
    "print(X_train_tfidf)"
   ]
  },
  {
   "cell_type": "code",
   "execution_count": 81,
   "id": "78bab085-ac77-4881-a414-91a5d78f1c5c",
   "metadata": {},
   "outputs": [
    {
     "name": "stdout",
     "output_type": "stream",
     "text": [
      "<Compressed Sparse Row sparse matrix of dtype 'float64'\n",
      "\twith 71082 stored elements and shape (4143, 5000)>\n",
      "  Coords\tValues\n",
      "  (0, 290)\t0.21891347428631208\n",
      "  (0, 333)\t0.23219770136915585\n",
      "  (0, 712)\t0.12524308222803038\n",
      "  (0, 720)\t0.24083669955780676\n",
      "  (0, 1114)\t0.2683722527742288\n",
      "  (0, 1317)\t0.2111075268732802\n",
      "  (0, 1318)\t0.2576569080850152\n",
      "  (0, 1658)\t0.15847067802678036\n",
      "  (0, 1660)\t0.1694779720254886\n",
      "  (0, 2329)\t0.2659320628402071\n",
      "  (0, 2742)\t0.12176070839071108\n",
      "  (0, 2764)\t0.14572502931782022\n",
      "  (0, 3198)\t0.1407979300787764\n",
      "  (0, 3200)\t0.22336444010556308\n",
      "  (0, 3527)\t0.12776410066706337\n",
      "  (0, 3679)\t0.19491623915673473\n",
      "  (0, 3850)\t0.056608705235080194\n",
      "  (0, 4133)\t0.24083669955780676\n",
      "  (0, 4295)\t0.1308168169077509\n",
      "  (0, 4417)\t0.24684009183415903\n",
      "  (0, 4494)\t0.2039384377963809\n",
      "  (0, 4557)\t0.1712862103972963\n",
      "  (0, 4615)\t0.2576569080850152\n",
      "  (0, 4680)\t0.1186116555397148\n",
      "  (0, 4695)\t0.16860977683476444\n",
      "  :\t:\n",
      "  (4140, 2614)\t0.20956259168782052\n",
      "  (4140, 2625)\t0.11706233828287281\n",
      "  (4140, 2663)\t0.3047642924996001\n",
      "  (4140, 3284)\t0.3188455337372085\n",
      "  (4140, 4295)\t0.07842295765933532\n",
      "  (4140, 4305)\t0.31612175040565504\n",
      "  (4140, 4792)\t0.260739395269089\n",
      "  (4140, 4824)\t0.12438285368884866\n",
      "  (4140, 4832)\t0.25587426928352175\n",
      "  (4141, 472)\t0.4797730746253671\n",
      "  (4141, 1191)\t0.5140021729783925\n",
      "  (4141, 1500)\t0.17971486586464164\n",
      "  (4141, 1517)\t0.4296034908675842\n",
      "  (4141, 2625)\t0.3973760043411667\n",
      "  (4141, 2742)\t0.24778285336343517\n",
      "  (4141, 4652)\t0.2635506391807378\n",
      "  (4142, 1767)\t0.2381716871389074\n",
      "  (4142, 1820)\t0.31923432240852234\n",
      "  (4142, 2115)\t0.2094245048258192\n",
      "  (4142, 2785)\t0.15718468555393003\n",
      "  (4142, 2798)\t0.497041900032005\n",
      "  (4142, 4633)\t0.44728784505218855\n",
      "  (4142, 4642)\t0.3558709060087328\n",
      "  (4142, 4933)\t0.19615751771012832\n",
      "  (4142, 4946)\t0.40069827305719546\n"
     ]
    }
   ],
   "source": [
    "print(X_test_tfidf)"
   ]
  },
  {
   "cell_type": "markdown",
   "id": "cbc0aa87-a39c-426d-b7f6-ee67d20f4d5e",
   "metadata": {},
   "source": [
    "# 🔹 What it means\n",
    "You can’t feed raw text (“YEA now that note GOOD”) directly into ML models.\\\n",
    "TF-IDF turns it into something like:\\\n",
    "Word/Phrase\tImportance (TF-IDF)\\\n",
    "“good”          \t0.42\\\n",
    "“note good”      \t0.35\\\n",
    "“yea”\t            0.28\\\n",
    "“that note”\t        0.22"
   ]
  },
  {
   "cell_type": "markdown",
   "id": "73fa6ed3-1484-4500-8214-b3c020cf4869",
   "metadata": {},
   "source": [
    "# Combine text features with account.type"
   ]
  },
  {
   "cell_type": "markdown",
   "id": "1f8c0f1d-5a4e-4718-91c5-f464bc97e106",
   "metadata": {},
   "source": [
    "#### hstack = horizontal stack (add extra columns).\n",
    "\n",
    "#### Combines:\n",
    "\n",
    "##### TF-IDF features (big matrix of word importance)\n",
    "\n",
    "##### Account type column (0 or 1)\n",
    "\n",
    "#### 👉 Now each row = [tweet text features + account type]."
   ]
  },
  {
   "cell_type": "code",
   "execution_count": 82,
   "id": "2905018d-d6b0-4bcd-b224-2314572241f4",
   "metadata": {},
   "outputs": [],
   "source": [
    "X_train_combined = hstack([X_train_tfidf, X_train_acc.reshape(-1, 1)])\n",
    "X_test_combined = hstack([X_test_tfidf, X_test_acc.reshape(-1, 1)])"
   ]
  },
  {
   "cell_type": "code",
   "execution_count": 83,
   "id": "25159995-ff28-4c31-ad4a-9968f7df6e0a",
   "metadata": {},
   "outputs": [
    {
     "name": "stdout",
     "output_type": "stream",
     "text": [
      "<COOrdinate sparse matrix of dtype 'float64'\n",
      "\twith 298683 stored elements and shape (16569, 5001)>\n",
      "  Coords\tValues\n",
      "  (0, 1917)\t0.21265525398149873\n",
      "  (0, 4988)\t0.3754842070907409\n",
      "  (0, 792)\t0.4044790366231315\n",
      "  (0, 2060)\t0.13749777984262732\n",
      "  (0, 868)\t0.29507413157352663\n",
      "  (0, 1500)\t0.14228426668064362\n",
      "  (0, 4794)\t0.19840825505585907\n",
      "  (0, 4981)\t0.20253081419880226\n",
      "  (0, 2362)\t0.3291559600899095\n",
      "  (0, 1140)\t0.3127407315321748\n",
      "  (0, 2334)\t0.20671023863850999\n",
      "  (0, 699)\t0.44125136444801377\n",
      "  (1, 1500)\t0.12884908980714507\n",
      "  (1, 4556)\t0.3786727454665493\n",
      "  (1, 394)\t0.29968593695616363\n",
      "  (1, 4771)\t0.20682873184670159\n",
      "  (1, 4646)\t0.32404533527150836\n",
      "  (1, 4295)\t0.09543221795562633\n",
      "  (1, 4667)\t0.2476399981237295\n",
      "  (1, 709)\t0.2930665466791006\n",
      "  (1, 58)\t0.23043080380618416\n",
      "  (1, 395)\t0.3954060593921681\n",
      "  (1, 4647)\t0.3439800245908127\n",
      "  (1, 4421)\t0.3439800245908127\n",
      "  (2, 4295)\t0.07550858580275491\n",
      "  :\t:\n",
      "  (16523, 5000)\t1.0\n",
      "  (16526, 5000)\t1.0\n",
      "  (16529, 5000)\t1.0\n",
      "  (16530, 5000)\t1.0\n",
      "  (16531, 5000)\t1.0\n",
      "  (16532, 5000)\t1.0\n",
      "  (16533, 5000)\t1.0\n",
      "  (16534, 5000)\t1.0\n",
      "  (16535, 5000)\t1.0\n",
      "  (16536, 5000)\t1.0\n",
      "  (16540, 5000)\t1.0\n",
      "  (16541, 5000)\t1.0\n",
      "  (16544, 5000)\t1.0\n",
      "  (16546, 5000)\t1.0\n",
      "  (16547, 5000)\t1.0\n",
      "  (16550, 5000)\t1.0\n",
      "  (16552, 5000)\t1.0\n",
      "  (16553, 5000)\t1.0\n",
      "  (16555, 5000)\t1.0\n",
      "  (16557, 5000)\t1.0\n",
      "  (16558, 5000)\t1.0\n",
      "  (16560, 5000)\t1.0\n",
      "  (16561, 5000)\t1.0\n",
      "  (16563, 5000)\t1.0\n",
      "  (16568, 5000)\t1.0\n"
     ]
    }
   ],
   "source": [
    "print(X_train_combined)"
   ]
  },
  {
   "cell_type": "code",
   "execution_count": 84,
   "id": "80633e34-d48d-4f2e-ba2c-ae02313879c8",
   "metadata": {},
   "outputs": [
    {
     "name": "stdout",
     "output_type": "stream",
     "text": [
      "<COOrdinate sparse matrix of dtype 'float64'\n",
      "\twith 73154 stored elements and shape (4143, 5001)>\n",
      "  Coords\tValues\n",
      "  (0, 290)\t0.21891347428631208\n",
      "  (0, 333)\t0.23219770136915585\n",
      "  (0, 712)\t0.12524308222803038\n",
      "  (0, 720)\t0.24083669955780676\n",
      "  (0, 1114)\t0.2683722527742288\n",
      "  (0, 1317)\t0.2111075268732802\n",
      "  (0, 1318)\t0.2576569080850152\n",
      "  (0, 1658)\t0.15847067802678036\n",
      "  (0, 1660)\t0.1694779720254886\n",
      "  (0, 2329)\t0.2659320628402071\n",
      "  (0, 2742)\t0.12176070839071108\n",
      "  (0, 2764)\t0.14572502931782022\n",
      "  (0, 3198)\t0.1407979300787764\n",
      "  (0, 3200)\t0.22336444010556308\n",
      "  (0, 3527)\t0.12776410066706337\n",
      "  (0, 3679)\t0.19491623915673473\n",
      "  (0, 3850)\t0.056608705235080194\n",
      "  (0, 4133)\t0.24083669955780676\n",
      "  (0, 4295)\t0.1308168169077509\n",
      "  (0, 4417)\t0.24684009183415903\n",
      "  (0, 4494)\t0.2039384377963809\n",
      "  (0, 4557)\t0.1712862103972963\n",
      "  (0, 4615)\t0.2576569080850152\n",
      "  (0, 4680)\t0.1186116555397148\n",
      "  (0, 4695)\t0.16860977683476444\n",
      "  :\t:\n",
      "  (4090, 5000)\t1.0\n",
      "  (4091, 5000)\t1.0\n",
      "  (4095, 5000)\t1.0\n",
      "  (4096, 5000)\t1.0\n",
      "  (4100, 5000)\t1.0\n",
      "  (4101, 5000)\t1.0\n",
      "  (4102, 5000)\t1.0\n",
      "  (4103, 5000)\t1.0\n",
      "  (4104, 5000)\t1.0\n",
      "  (4105, 5000)\t1.0\n",
      "  (4107, 5000)\t1.0\n",
      "  (4108, 5000)\t1.0\n",
      "  (4109, 5000)\t1.0\n",
      "  (4111, 5000)\t1.0\n",
      "  (4112, 5000)\t1.0\n",
      "  (4114, 5000)\t1.0\n",
      "  (4117, 5000)\t1.0\n",
      "  (4120, 5000)\t1.0\n",
      "  (4123, 5000)\t1.0\n",
      "  (4125, 5000)\t1.0\n",
      "  (4127, 5000)\t1.0\n",
      "  (4130, 5000)\t1.0\n",
      "  (4138, 5000)\t1.0\n",
      "  (4141, 5000)\t1.0\n",
      "  (4142, 5000)\t1.0\n"
     ]
    }
   ],
   "source": [
    "print(X_test_combined)"
   ]
  },
  {
   "cell_type": "markdown",
   "id": "94ea5008-ee1e-4cf5-8b4d-d0f52773e57e",
   "metadata": {},
   "source": [
    "# Train classifier"
   ]
  },
  {
   "cell_type": "markdown",
   "id": "0ad3737b-b1d6-4c81-999c-0482feaf65df",
   "metadata": {},
   "source": [
    "#### Logistic Regression = classification algorithm.\n",
    "\n",
    "#### fit = train the model on combined features + labels."
   ]
  },
  {
   "cell_type": "code",
   "execution_count": 85,
   "id": "f99b4162-d258-4c70-8cce-7b54fe80fe4b",
   "metadata": {},
   "outputs": [
    {
     "data": {
      "text/html": [
       "<style>#sk-container-id-1 {\n",
       "  /* Definition of color scheme common for light and dark mode */\n",
       "  --sklearn-color-text: #000;\n",
       "  --sklearn-color-text-muted: #666;\n",
       "  --sklearn-color-line: gray;\n",
       "  /* Definition of color scheme for unfitted estimators */\n",
       "  --sklearn-color-unfitted-level-0: #fff5e6;\n",
       "  --sklearn-color-unfitted-level-1: #f6e4d2;\n",
       "  --sklearn-color-unfitted-level-2: #ffe0b3;\n",
       "  --sklearn-color-unfitted-level-3: chocolate;\n",
       "  /* Definition of color scheme for fitted estimators */\n",
       "  --sklearn-color-fitted-level-0: #f0f8ff;\n",
       "  --sklearn-color-fitted-level-1: #d4ebff;\n",
       "  --sklearn-color-fitted-level-2: #b3dbfd;\n",
       "  --sklearn-color-fitted-level-3: cornflowerblue;\n",
       "\n",
       "  /* Specific color for light theme */\n",
       "  --sklearn-color-text-on-default-background: var(--sg-text-color, var(--theme-code-foreground, var(--jp-content-font-color1, black)));\n",
       "  --sklearn-color-background: var(--sg-background-color, var(--theme-background, var(--jp-layout-color0, white)));\n",
       "  --sklearn-color-border-box: var(--sg-text-color, var(--theme-code-foreground, var(--jp-content-font-color1, black)));\n",
       "  --sklearn-color-icon: #696969;\n",
       "\n",
       "  @media (prefers-color-scheme: dark) {\n",
       "    /* Redefinition of color scheme for dark theme */\n",
       "    --sklearn-color-text-on-default-background: var(--sg-text-color, var(--theme-code-foreground, var(--jp-content-font-color1, white)));\n",
       "    --sklearn-color-background: var(--sg-background-color, var(--theme-background, var(--jp-layout-color0, #111)));\n",
       "    --sklearn-color-border-box: var(--sg-text-color, var(--theme-code-foreground, var(--jp-content-font-color1, white)));\n",
       "    --sklearn-color-icon: #878787;\n",
       "  }\n",
       "}\n",
       "\n",
       "#sk-container-id-1 {\n",
       "  color: var(--sklearn-color-text);\n",
       "}\n",
       "\n",
       "#sk-container-id-1 pre {\n",
       "  padding: 0;\n",
       "}\n",
       "\n",
       "#sk-container-id-1 input.sk-hidden--visually {\n",
       "  border: 0;\n",
       "  clip: rect(1px 1px 1px 1px);\n",
       "  clip: rect(1px, 1px, 1px, 1px);\n",
       "  height: 1px;\n",
       "  margin: -1px;\n",
       "  overflow: hidden;\n",
       "  padding: 0;\n",
       "  position: absolute;\n",
       "  width: 1px;\n",
       "}\n",
       "\n",
       "#sk-container-id-1 div.sk-dashed-wrapped {\n",
       "  border: 1px dashed var(--sklearn-color-line);\n",
       "  margin: 0 0.4em 0.5em 0.4em;\n",
       "  box-sizing: border-box;\n",
       "  padding-bottom: 0.4em;\n",
       "  background-color: var(--sklearn-color-background);\n",
       "}\n",
       "\n",
       "#sk-container-id-1 div.sk-container {\n",
       "  /* jupyter's `normalize.less` sets `[hidden] { display: none; }`\n",
       "     but bootstrap.min.css set `[hidden] { display: none !important; }`\n",
       "     so we also need the `!important` here to be able to override the\n",
       "     default hidden behavior on the sphinx rendered scikit-learn.org.\n",
       "     See: https://github.com/scikit-learn/scikit-learn/issues/21755 */\n",
       "  display: inline-block !important;\n",
       "  position: relative;\n",
       "}\n",
       "\n",
       "#sk-container-id-1 div.sk-text-repr-fallback {\n",
       "  display: none;\n",
       "}\n",
       "\n",
       "div.sk-parallel-item,\n",
       "div.sk-serial,\n",
       "div.sk-item {\n",
       "  /* draw centered vertical line to link estimators */\n",
       "  background-image: linear-gradient(var(--sklearn-color-text-on-default-background), var(--sklearn-color-text-on-default-background));\n",
       "  background-size: 2px 100%;\n",
       "  background-repeat: no-repeat;\n",
       "  background-position: center center;\n",
       "}\n",
       "\n",
       "/* Parallel-specific style estimator block */\n",
       "\n",
       "#sk-container-id-1 div.sk-parallel-item::after {\n",
       "  content: \"\";\n",
       "  width: 100%;\n",
       "  border-bottom: 2px solid var(--sklearn-color-text-on-default-background);\n",
       "  flex-grow: 1;\n",
       "}\n",
       "\n",
       "#sk-container-id-1 div.sk-parallel {\n",
       "  display: flex;\n",
       "  align-items: stretch;\n",
       "  justify-content: center;\n",
       "  background-color: var(--sklearn-color-background);\n",
       "  position: relative;\n",
       "}\n",
       "\n",
       "#sk-container-id-1 div.sk-parallel-item {\n",
       "  display: flex;\n",
       "  flex-direction: column;\n",
       "}\n",
       "\n",
       "#sk-container-id-1 div.sk-parallel-item:first-child::after {\n",
       "  align-self: flex-end;\n",
       "  width: 50%;\n",
       "}\n",
       "\n",
       "#sk-container-id-1 div.sk-parallel-item:last-child::after {\n",
       "  align-self: flex-start;\n",
       "  width: 50%;\n",
       "}\n",
       "\n",
       "#sk-container-id-1 div.sk-parallel-item:only-child::after {\n",
       "  width: 0;\n",
       "}\n",
       "\n",
       "/* Serial-specific style estimator block */\n",
       "\n",
       "#sk-container-id-1 div.sk-serial {\n",
       "  display: flex;\n",
       "  flex-direction: column;\n",
       "  align-items: center;\n",
       "  background-color: var(--sklearn-color-background);\n",
       "  padding-right: 1em;\n",
       "  padding-left: 1em;\n",
       "}\n",
       "\n",
       "\n",
       "/* Toggleable style: style used for estimator/Pipeline/ColumnTransformer box that is\n",
       "clickable and can be expanded/collapsed.\n",
       "- Pipeline and ColumnTransformer use this feature and define the default style\n",
       "- Estimators will overwrite some part of the style using the `sk-estimator` class\n",
       "*/\n",
       "\n",
       "/* Pipeline and ColumnTransformer style (default) */\n",
       "\n",
       "#sk-container-id-1 div.sk-toggleable {\n",
       "  /* Default theme specific background. It is overwritten whether we have a\n",
       "  specific estimator or a Pipeline/ColumnTransformer */\n",
       "  background-color: var(--sklearn-color-background);\n",
       "}\n",
       "\n",
       "/* Toggleable label */\n",
       "#sk-container-id-1 label.sk-toggleable__label {\n",
       "  cursor: pointer;\n",
       "  display: flex;\n",
       "  width: 100%;\n",
       "  margin-bottom: 0;\n",
       "  padding: 0.5em;\n",
       "  box-sizing: border-box;\n",
       "  text-align: center;\n",
       "  align-items: start;\n",
       "  justify-content: space-between;\n",
       "  gap: 0.5em;\n",
       "}\n",
       "\n",
       "#sk-container-id-1 label.sk-toggleable__label .caption {\n",
       "  font-size: 0.6rem;\n",
       "  font-weight: lighter;\n",
       "  color: var(--sklearn-color-text-muted);\n",
       "}\n",
       "\n",
       "#sk-container-id-1 label.sk-toggleable__label-arrow:before {\n",
       "  /* Arrow on the left of the label */\n",
       "  content: \"▸\";\n",
       "  float: left;\n",
       "  margin-right: 0.25em;\n",
       "  color: var(--sklearn-color-icon);\n",
       "}\n",
       "\n",
       "#sk-container-id-1 label.sk-toggleable__label-arrow:hover:before {\n",
       "  color: var(--sklearn-color-text);\n",
       "}\n",
       "\n",
       "/* Toggleable content - dropdown */\n",
       "\n",
       "#sk-container-id-1 div.sk-toggleable__content {\n",
       "  display: none;\n",
       "  text-align: left;\n",
       "  /* unfitted */\n",
       "  background-color: var(--sklearn-color-unfitted-level-0);\n",
       "}\n",
       "\n",
       "#sk-container-id-1 div.sk-toggleable__content.fitted {\n",
       "  /* fitted */\n",
       "  background-color: var(--sklearn-color-fitted-level-0);\n",
       "}\n",
       "\n",
       "#sk-container-id-1 div.sk-toggleable__content pre {\n",
       "  margin: 0.2em;\n",
       "  border-radius: 0.25em;\n",
       "  color: var(--sklearn-color-text);\n",
       "  /* unfitted */\n",
       "  background-color: var(--sklearn-color-unfitted-level-0);\n",
       "}\n",
       "\n",
       "#sk-container-id-1 div.sk-toggleable__content.fitted pre {\n",
       "  /* unfitted */\n",
       "  background-color: var(--sklearn-color-fitted-level-0);\n",
       "}\n",
       "\n",
       "#sk-container-id-1 input.sk-toggleable__control:checked~div.sk-toggleable__content {\n",
       "  /* Expand drop-down */\n",
       "  display: block;\n",
       "  width: 100%;\n",
       "  overflow: visible;\n",
       "}\n",
       "\n",
       "#sk-container-id-1 input.sk-toggleable__control:checked~label.sk-toggleable__label-arrow:before {\n",
       "  content: \"▾\";\n",
       "}\n",
       "\n",
       "/* Pipeline/ColumnTransformer-specific style */\n",
       "\n",
       "#sk-container-id-1 div.sk-label input.sk-toggleable__control:checked~label.sk-toggleable__label {\n",
       "  color: var(--sklearn-color-text);\n",
       "  background-color: var(--sklearn-color-unfitted-level-2);\n",
       "}\n",
       "\n",
       "#sk-container-id-1 div.sk-label.fitted input.sk-toggleable__control:checked~label.sk-toggleable__label {\n",
       "  background-color: var(--sklearn-color-fitted-level-2);\n",
       "}\n",
       "\n",
       "/* Estimator-specific style */\n",
       "\n",
       "/* Colorize estimator box */\n",
       "#sk-container-id-1 div.sk-estimator input.sk-toggleable__control:checked~label.sk-toggleable__label {\n",
       "  /* unfitted */\n",
       "  background-color: var(--sklearn-color-unfitted-level-2);\n",
       "}\n",
       "\n",
       "#sk-container-id-1 div.sk-estimator.fitted input.sk-toggleable__control:checked~label.sk-toggleable__label {\n",
       "  /* fitted */\n",
       "  background-color: var(--sklearn-color-fitted-level-2);\n",
       "}\n",
       "\n",
       "#sk-container-id-1 div.sk-label label.sk-toggleable__label,\n",
       "#sk-container-id-1 div.sk-label label {\n",
       "  /* The background is the default theme color */\n",
       "  color: var(--sklearn-color-text-on-default-background);\n",
       "}\n",
       "\n",
       "/* On hover, darken the color of the background */\n",
       "#sk-container-id-1 div.sk-label:hover label.sk-toggleable__label {\n",
       "  color: var(--sklearn-color-text);\n",
       "  background-color: var(--sklearn-color-unfitted-level-2);\n",
       "}\n",
       "\n",
       "/* Label box, darken color on hover, fitted */\n",
       "#sk-container-id-1 div.sk-label.fitted:hover label.sk-toggleable__label.fitted {\n",
       "  color: var(--sklearn-color-text);\n",
       "  background-color: var(--sklearn-color-fitted-level-2);\n",
       "}\n",
       "\n",
       "/* Estimator label */\n",
       "\n",
       "#sk-container-id-1 div.sk-label label {\n",
       "  font-family: monospace;\n",
       "  font-weight: bold;\n",
       "  display: inline-block;\n",
       "  line-height: 1.2em;\n",
       "}\n",
       "\n",
       "#sk-container-id-1 div.sk-label-container {\n",
       "  text-align: center;\n",
       "}\n",
       "\n",
       "/* Estimator-specific */\n",
       "#sk-container-id-1 div.sk-estimator {\n",
       "  font-family: monospace;\n",
       "  border: 1px dotted var(--sklearn-color-border-box);\n",
       "  border-radius: 0.25em;\n",
       "  box-sizing: border-box;\n",
       "  margin-bottom: 0.5em;\n",
       "  /* unfitted */\n",
       "  background-color: var(--sklearn-color-unfitted-level-0);\n",
       "}\n",
       "\n",
       "#sk-container-id-1 div.sk-estimator.fitted {\n",
       "  /* fitted */\n",
       "  background-color: var(--sklearn-color-fitted-level-0);\n",
       "}\n",
       "\n",
       "/* on hover */\n",
       "#sk-container-id-1 div.sk-estimator:hover {\n",
       "  /* unfitted */\n",
       "  background-color: var(--sklearn-color-unfitted-level-2);\n",
       "}\n",
       "\n",
       "#sk-container-id-1 div.sk-estimator.fitted:hover {\n",
       "  /* fitted */\n",
       "  background-color: var(--sklearn-color-fitted-level-2);\n",
       "}\n",
       "\n",
       "/* Specification for estimator info (e.g. \"i\" and \"?\") */\n",
       "\n",
       "/* Common style for \"i\" and \"?\" */\n",
       "\n",
       ".sk-estimator-doc-link,\n",
       "a:link.sk-estimator-doc-link,\n",
       "a:visited.sk-estimator-doc-link {\n",
       "  float: right;\n",
       "  font-size: smaller;\n",
       "  line-height: 1em;\n",
       "  font-family: monospace;\n",
       "  background-color: var(--sklearn-color-background);\n",
       "  border-radius: 1em;\n",
       "  height: 1em;\n",
       "  width: 1em;\n",
       "  text-decoration: none !important;\n",
       "  margin-left: 0.5em;\n",
       "  text-align: center;\n",
       "  /* unfitted */\n",
       "  border: var(--sklearn-color-unfitted-level-1) 1pt solid;\n",
       "  color: var(--sklearn-color-unfitted-level-1);\n",
       "}\n",
       "\n",
       ".sk-estimator-doc-link.fitted,\n",
       "a:link.sk-estimator-doc-link.fitted,\n",
       "a:visited.sk-estimator-doc-link.fitted {\n",
       "  /* fitted */\n",
       "  border: var(--sklearn-color-fitted-level-1) 1pt solid;\n",
       "  color: var(--sklearn-color-fitted-level-1);\n",
       "}\n",
       "\n",
       "/* On hover */\n",
       "div.sk-estimator:hover .sk-estimator-doc-link:hover,\n",
       ".sk-estimator-doc-link:hover,\n",
       "div.sk-label-container:hover .sk-estimator-doc-link:hover,\n",
       ".sk-estimator-doc-link:hover {\n",
       "  /* unfitted */\n",
       "  background-color: var(--sklearn-color-unfitted-level-3);\n",
       "  color: var(--sklearn-color-background);\n",
       "  text-decoration: none;\n",
       "}\n",
       "\n",
       "div.sk-estimator.fitted:hover .sk-estimator-doc-link.fitted:hover,\n",
       ".sk-estimator-doc-link.fitted:hover,\n",
       "div.sk-label-container:hover .sk-estimator-doc-link.fitted:hover,\n",
       ".sk-estimator-doc-link.fitted:hover {\n",
       "  /* fitted */\n",
       "  background-color: var(--sklearn-color-fitted-level-3);\n",
       "  color: var(--sklearn-color-background);\n",
       "  text-decoration: none;\n",
       "}\n",
       "\n",
       "/* Span, style for the box shown on hovering the info icon */\n",
       ".sk-estimator-doc-link span {\n",
       "  display: none;\n",
       "  z-index: 9999;\n",
       "  position: relative;\n",
       "  font-weight: normal;\n",
       "  right: .2ex;\n",
       "  padding: .5ex;\n",
       "  margin: .5ex;\n",
       "  width: min-content;\n",
       "  min-width: 20ex;\n",
       "  max-width: 50ex;\n",
       "  color: var(--sklearn-color-text);\n",
       "  box-shadow: 2pt 2pt 4pt #999;\n",
       "  /* unfitted */\n",
       "  background: var(--sklearn-color-unfitted-level-0);\n",
       "  border: .5pt solid var(--sklearn-color-unfitted-level-3);\n",
       "}\n",
       "\n",
       ".sk-estimator-doc-link.fitted span {\n",
       "  /* fitted */\n",
       "  background: var(--sklearn-color-fitted-level-0);\n",
       "  border: var(--sklearn-color-fitted-level-3);\n",
       "}\n",
       "\n",
       ".sk-estimator-doc-link:hover span {\n",
       "  display: block;\n",
       "}\n",
       "\n",
       "/* \"?\"-specific style due to the `<a>` HTML tag */\n",
       "\n",
       "#sk-container-id-1 a.estimator_doc_link {\n",
       "  float: right;\n",
       "  font-size: 1rem;\n",
       "  line-height: 1em;\n",
       "  font-family: monospace;\n",
       "  background-color: var(--sklearn-color-background);\n",
       "  border-radius: 1rem;\n",
       "  height: 1rem;\n",
       "  width: 1rem;\n",
       "  text-decoration: none;\n",
       "  /* unfitted */\n",
       "  color: var(--sklearn-color-unfitted-level-1);\n",
       "  border: var(--sklearn-color-unfitted-level-1) 1pt solid;\n",
       "}\n",
       "\n",
       "#sk-container-id-1 a.estimator_doc_link.fitted {\n",
       "  /* fitted */\n",
       "  border: var(--sklearn-color-fitted-level-1) 1pt solid;\n",
       "  color: var(--sklearn-color-fitted-level-1);\n",
       "}\n",
       "\n",
       "/* On hover */\n",
       "#sk-container-id-1 a.estimator_doc_link:hover {\n",
       "  /* unfitted */\n",
       "  background-color: var(--sklearn-color-unfitted-level-3);\n",
       "  color: var(--sklearn-color-background);\n",
       "  text-decoration: none;\n",
       "}\n",
       "\n",
       "#sk-container-id-1 a.estimator_doc_link.fitted:hover {\n",
       "  /* fitted */\n",
       "  background-color: var(--sklearn-color-fitted-level-3);\n",
       "}\n",
       "\n",
       ".estimator-table summary {\n",
       "    padding: .5rem;\n",
       "    font-family: monospace;\n",
       "    cursor: pointer;\n",
       "}\n",
       "\n",
       ".estimator-table details[open] {\n",
       "    padding-left: 0.1rem;\n",
       "    padding-right: 0.1rem;\n",
       "    padding-bottom: 0.3rem;\n",
       "}\n",
       "\n",
       ".estimator-table .parameters-table {\n",
       "    margin-left: auto !important;\n",
       "    margin-right: auto !important;\n",
       "}\n",
       "\n",
       ".estimator-table .parameters-table tr:nth-child(odd) {\n",
       "    background-color: #fff;\n",
       "}\n",
       "\n",
       ".estimator-table .parameters-table tr:nth-child(even) {\n",
       "    background-color: #f6f6f6;\n",
       "}\n",
       "\n",
       ".estimator-table .parameters-table tr:hover {\n",
       "    background-color: #e0e0e0;\n",
       "}\n",
       "\n",
       ".estimator-table table td {\n",
       "    border: 1px solid rgba(106, 105, 104, 0.232);\n",
       "}\n",
       "\n",
       ".user-set td {\n",
       "    color:rgb(255, 94, 0);\n",
       "    text-align: left;\n",
       "}\n",
       "\n",
       ".user-set td.value pre {\n",
       "    color:rgb(255, 94, 0) !important;\n",
       "    background-color: transparent !important;\n",
       "}\n",
       "\n",
       ".default td {\n",
       "    color: black;\n",
       "    text-align: left;\n",
       "}\n",
       "\n",
       ".user-set td i,\n",
       ".default td i {\n",
       "    color: black;\n",
       "}\n",
       "\n",
       ".copy-paste-icon {\n",
       "    background-image: url(data:image/svg+xml;base64,PHN2ZyB4bWxucz0iaHR0cDovL3d3dy53My5vcmcvMjAwMC9zdmciIHZpZXdCb3g9IjAgMCA0NDggNTEyIj48IS0tIUZvbnQgQXdlc29tZSBGcmVlIDYuNy4yIGJ5IEBmb250YXdlc29tZSAtIGh0dHBzOi8vZm9udGF3ZXNvbWUuY29tIExpY2Vuc2UgLSBodHRwczovL2ZvbnRhd2Vzb21lLmNvbS9saWNlbnNlL2ZyZWUgQ29weXJpZ2h0IDIwMjUgRm9udGljb25zLCBJbmMuLS0+PHBhdGggZD0iTTIwOCAwTDMzMi4xIDBjMTIuNyAwIDI0LjkgNS4xIDMzLjkgMTQuMWw2Ny45IDY3LjljOSA5IDE0LjEgMjEuMiAxNC4xIDMzLjlMNDQ4IDMzNmMwIDI2LjUtMjEuNSA0OC00OCA0OGwtMTkyIDBjLTI2LjUgMC00OC0yMS41LTQ4LTQ4bDAtMjg4YzAtMjYuNSAyMS41LTQ4IDQ4LTQ4ek00OCAxMjhsODAgMCAwIDY0LTY0IDAgMCAyNTYgMTkyIDAgMC0zMiA2NCAwIDAgNDhjMCAyNi41LTIxLjUgNDgtNDggNDhMNDggNTEyYy0yNi41IDAtNDgtMjEuNS00OC00OEwwIDE3NmMwLTI2LjUgMjEuNS00OCA0OC00OHoiLz48L3N2Zz4=);\n",
       "    background-repeat: no-repeat;\n",
       "    background-size: 14px 14px;\n",
       "    background-position: 0;\n",
       "    display: inline-block;\n",
       "    width: 14px;\n",
       "    height: 14px;\n",
       "    cursor: pointer;\n",
       "}\n",
       "</style><body><div id=\"sk-container-id-1\" class=\"sk-top-container\"><div class=\"sk-text-repr-fallback\"><pre>LogisticRegression(max_iter=300)</pre><b>In a Jupyter environment, please rerun this cell to show the HTML representation or trust the notebook. <br />On GitHub, the HTML representation is unable to render, please try loading this page with nbviewer.org.</b></div><div class=\"sk-container\" hidden><div class=\"sk-item\"><div class=\"sk-estimator fitted sk-toggleable\"><input class=\"sk-toggleable__control sk-hidden--visually\" id=\"sk-estimator-id-1\" type=\"checkbox\" checked><label for=\"sk-estimator-id-1\" class=\"sk-toggleable__label fitted sk-toggleable__label-arrow\"><div><div>LogisticRegression</div></div><div><a class=\"sk-estimator-doc-link fitted\" rel=\"noreferrer\" target=\"_blank\" href=\"https://scikit-learn.org/1.7/modules/generated/sklearn.linear_model.LogisticRegression.html\">?<span>Documentation for LogisticRegression</span></a><span class=\"sk-estimator-doc-link fitted\">i<span>Fitted</span></span></div></label><div class=\"sk-toggleable__content fitted\" data-param-prefix=\"\">\n",
       "        <div class=\"estimator-table\">\n",
       "            <details>\n",
       "                <summary>Parameters</summary>\n",
       "                <table class=\"parameters-table\">\n",
       "                  <tbody>\n",
       "                    \n",
       "        <tr class=\"default\">\n",
       "            <td><i class=\"copy-paste-icon\"\n",
       "                 onclick=\"copyToClipboard('penalty',\n",
       "                          this.parentElement.nextElementSibling)\"\n",
       "            ></i></td>\n",
       "            <td class=\"param\">penalty&nbsp;</td>\n",
       "            <td class=\"value\">&#x27;l2&#x27;</td>\n",
       "        </tr>\n",
       "    \n",
       "\n",
       "        <tr class=\"default\">\n",
       "            <td><i class=\"copy-paste-icon\"\n",
       "                 onclick=\"copyToClipboard('dual',\n",
       "                          this.parentElement.nextElementSibling)\"\n",
       "            ></i></td>\n",
       "            <td class=\"param\">dual&nbsp;</td>\n",
       "            <td class=\"value\">False</td>\n",
       "        </tr>\n",
       "    \n",
       "\n",
       "        <tr class=\"default\">\n",
       "            <td><i class=\"copy-paste-icon\"\n",
       "                 onclick=\"copyToClipboard('tol',\n",
       "                          this.parentElement.nextElementSibling)\"\n",
       "            ></i></td>\n",
       "            <td class=\"param\">tol&nbsp;</td>\n",
       "            <td class=\"value\">0.0001</td>\n",
       "        </tr>\n",
       "    \n",
       "\n",
       "        <tr class=\"default\">\n",
       "            <td><i class=\"copy-paste-icon\"\n",
       "                 onclick=\"copyToClipboard('C',\n",
       "                          this.parentElement.nextElementSibling)\"\n",
       "            ></i></td>\n",
       "            <td class=\"param\">C&nbsp;</td>\n",
       "            <td class=\"value\">1.0</td>\n",
       "        </tr>\n",
       "    \n",
       "\n",
       "        <tr class=\"default\">\n",
       "            <td><i class=\"copy-paste-icon\"\n",
       "                 onclick=\"copyToClipboard('fit_intercept',\n",
       "                          this.parentElement.nextElementSibling)\"\n",
       "            ></i></td>\n",
       "            <td class=\"param\">fit_intercept&nbsp;</td>\n",
       "            <td class=\"value\">True</td>\n",
       "        </tr>\n",
       "    \n",
       "\n",
       "        <tr class=\"default\">\n",
       "            <td><i class=\"copy-paste-icon\"\n",
       "                 onclick=\"copyToClipboard('intercept_scaling',\n",
       "                          this.parentElement.nextElementSibling)\"\n",
       "            ></i></td>\n",
       "            <td class=\"param\">intercept_scaling&nbsp;</td>\n",
       "            <td class=\"value\">1</td>\n",
       "        </tr>\n",
       "    \n",
       "\n",
       "        <tr class=\"default\">\n",
       "            <td><i class=\"copy-paste-icon\"\n",
       "                 onclick=\"copyToClipboard('class_weight',\n",
       "                          this.parentElement.nextElementSibling)\"\n",
       "            ></i></td>\n",
       "            <td class=\"param\">class_weight&nbsp;</td>\n",
       "            <td class=\"value\">None</td>\n",
       "        </tr>\n",
       "    \n",
       "\n",
       "        <tr class=\"default\">\n",
       "            <td><i class=\"copy-paste-icon\"\n",
       "                 onclick=\"copyToClipboard('random_state',\n",
       "                          this.parentElement.nextElementSibling)\"\n",
       "            ></i></td>\n",
       "            <td class=\"param\">random_state&nbsp;</td>\n",
       "            <td class=\"value\">None</td>\n",
       "        </tr>\n",
       "    \n",
       "\n",
       "        <tr class=\"default\">\n",
       "            <td><i class=\"copy-paste-icon\"\n",
       "                 onclick=\"copyToClipboard('solver',\n",
       "                          this.parentElement.nextElementSibling)\"\n",
       "            ></i></td>\n",
       "            <td class=\"param\">solver&nbsp;</td>\n",
       "            <td class=\"value\">&#x27;lbfgs&#x27;</td>\n",
       "        </tr>\n",
       "    \n",
       "\n",
       "        <tr class=\"user-set\">\n",
       "            <td><i class=\"copy-paste-icon\"\n",
       "                 onclick=\"copyToClipboard('max_iter',\n",
       "                          this.parentElement.nextElementSibling)\"\n",
       "            ></i></td>\n",
       "            <td class=\"param\">max_iter&nbsp;</td>\n",
       "            <td class=\"value\">300</td>\n",
       "        </tr>\n",
       "    \n",
       "\n",
       "        <tr class=\"default\">\n",
       "            <td><i class=\"copy-paste-icon\"\n",
       "                 onclick=\"copyToClipboard('multi_class',\n",
       "                          this.parentElement.nextElementSibling)\"\n",
       "            ></i></td>\n",
       "            <td class=\"param\">multi_class&nbsp;</td>\n",
       "            <td class=\"value\">&#x27;deprecated&#x27;</td>\n",
       "        </tr>\n",
       "    \n",
       "\n",
       "        <tr class=\"default\">\n",
       "            <td><i class=\"copy-paste-icon\"\n",
       "                 onclick=\"copyToClipboard('verbose',\n",
       "                          this.parentElement.nextElementSibling)\"\n",
       "            ></i></td>\n",
       "            <td class=\"param\">verbose&nbsp;</td>\n",
       "            <td class=\"value\">0</td>\n",
       "        </tr>\n",
       "    \n",
       "\n",
       "        <tr class=\"default\">\n",
       "            <td><i class=\"copy-paste-icon\"\n",
       "                 onclick=\"copyToClipboard('warm_start',\n",
       "                          this.parentElement.nextElementSibling)\"\n",
       "            ></i></td>\n",
       "            <td class=\"param\">warm_start&nbsp;</td>\n",
       "            <td class=\"value\">False</td>\n",
       "        </tr>\n",
       "    \n",
       "\n",
       "        <tr class=\"default\">\n",
       "            <td><i class=\"copy-paste-icon\"\n",
       "                 onclick=\"copyToClipboard('n_jobs',\n",
       "                          this.parentElement.nextElementSibling)\"\n",
       "            ></i></td>\n",
       "            <td class=\"param\">n_jobs&nbsp;</td>\n",
       "            <td class=\"value\">None</td>\n",
       "        </tr>\n",
       "    \n",
       "\n",
       "        <tr class=\"default\">\n",
       "            <td><i class=\"copy-paste-icon\"\n",
       "                 onclick=\"copyToClipboard('l1_ratio',\n",
       "                          this.parentElement.nextElementSibling)\"\n",
       "            ></i></td>\n",
       "            <td class=\"param\">l1_ratio&nbsp;</td>\n",
       "            <td class=\"value\">None</td>\n",
       "        </tr>\n",
       "    \n",
       "                  </tbody>\n",
       "                </table>\n",
       "            </details>\n",
       "        </div>\n",
       "    </div></div></div></div></div><script>function copyToClipboard(text, element) {\n",
       "    // Get the parameter prefix from the closest toggleable content\n",
       "    const toggleableContent = element.closest('.sk-toggleable__content');\n",
       "    const paramPrefix = toggleableContent ? toggleableContent.dataset.paramPrefix : '';\n",
       "    const fullParamName = paramPrefix ? `${paramPrefix}${text}` : text;\n",
       "\n",
       "    const originalStyle = element.style;\n",
       "    const computedStyle = window.getComputedStyle(element);\n",
       "    const originalWidth = computedStyle.width;\n",
       "    const originalHTML = element.innerHTML.replace('Copied!', '');\n",
       "\n",
       "    navigator.clipboard.writeText(fullParamName)\n",
       "        .then(() => {\n",
       "            element.style.width = originalWidth;\n",
       "            element.style.color = 'green';\n",
       "            element.innerHTML = \"Copied!\";\n",
       "\n",
       "            setTimeout(() => {\n",
       "                element.innerHTML = originalHTML;\n",
       "                element.style = originalStyle;\n",
       "            }, 2000);\n",
       "        })\n",
       "        .catch(err => {\n",
       "            console.error('Failed to copy:', err);\n",
       "            element.style.color = 'red';\n",
       "            element.innerHTML = \"Failed!\";\n",
       "            setTimeout(() => {\n",
       "                element.innerHTML = originalHTML;\n",
       "                element.style = originalStyle;\n",
       "            }, 2000);\n",
       "        });\n",
       "    return false;\n",
       "}\n",
       "\n",
       "document.querySelectorAll('.fa-regular.fa-copy').forEach(function(element) {\n",
       "    const toggleableContent = element.closest('.sk-toggleable__content');\n",
       "    const paramPrefix = toggleableContent ? toggleableContent.dataset.paramPrefix : '';\n",
       "    const paramName = element.parentElement.nextElementSibling.textContent.trim();\n",
       "    const fullParamName = paramPrefix ? `${paramPrefix}${paramName}` : paramName;\n",
       "\n",
       "    element.setAttribute('title', fullParamName);\n",
       "});\n",
       "</script></body>"
      ],
      "text/plain": [
       "LogisticRegression(max_iter=300)"
      ]
     },
     "execution_count": 85,
     "metadata": {},
     "output_type": "execute_result"
    }
   ],
   "source": [
    "clf = LogisticRegression(max_iter=300, solver=\"lbfgs\")\n",
    "clf.fit(X_train_combined, y_train)\n"
   ]
  },
  {
   "cell_type": "markdown",
   "id": "4fe5ce5b-1331-4151-906d-45b60b95830f",
   "metadata": {},
   "source": [
    "# Predictions"
   ]
  },
  {
   "cell_type": "markdown",
   "id": "22d3f13e-85d1-44bb-8625-180604808d66",
   "metadata": {},
   "source": [
    "#### Uses the trained model to predict labels for test data.\n",
    "\n",
    "#### Output = list of predicted classes (human, gpt2, rnn, others)."
   ]
  },
  {
   "cell_type": "code",
   "execution_count": 86,
   "id": "dc3f1f74-a2b8-4720-9712-2720417b40a2",
   "metadata": {},
   "outputs": [
    {
     "name": "stdout",
     "output_type": "stream",
     "text": [
      "['rnn' 'human' 'gpt2' ... 'gpt2' 'human' 'human']\n"
     ]
    }
   ],
   "source": [
    "y_pred = clf.predict(X_test_combined)\n",
    "print(y_pred)"
   ]
  },
  {
   "cell_type": "code",
   "execution_count": 87,
   "id": "7d8ef47f-0ff6-4c71-8d77-2bc25bc793ea",
   "metadata": {},
   "outputs": [
    {
     "data": {
      "text/plain": [
       "array(['rnn', 'human', 'gpt2', ..., 'gpt2', 'human', 'human'],\n",
       "      shape=(4143,), dtype=object)"
      ]
     },
     "execution_count": 87,
     "metadata": {},
     "output_type": "execute_result"
    }
   ],
   "source": [
    "y_pred"
   ]
  },
  {
   "cell_type": "markdown",
   "id": "1453676c-8cd9-4793-bd8d-7b97dd60abe3",
   "metadata": {},
   "source": [
    "# Evaluation"
   ]
  },
  {
   "cell_type": "markdown",
   "id": "c1056a7a-dfed-4823-8aba-675d1adb0027",
   "metadata": {},
   "source": [
    "#### Accuracy = % of correct predictions overall.\n",
    "\n",
    "#### Classification Report = precision, recall, f1-score, support for each class.\n",
    "\n",
    "#### Tells you how well the model did per class, not just overall."
   ]
  },
  {
   "cell_type": "code",
   "execution_count": 88,
   "id": "61220515-b671-481b-a40a-8f947ec0b21f",
   "metadata": {},
   "outputs": [
    {
     "name": "stdout",
     "output_type": "stream",
     "text": [
      "Accuracy: 0.927105961863384\n",
      "\n",
      "Classification Report:\n",
      "               precision    recall  f1-score   support\n",
      "\n",
      "        gpt2       0.82      0.74      0.78       622\n",
      "       human       1.00      1.00      1.00      2072\n",
      "      others       0.81      0.90      0.85       784\n",
      "         rnn       0.94      0.91      0.92       665\n",
      "\n",
      "    accuracy                           0.93      4143\n",
      "   macro avg       0.89      0.89      0.89      4143\n",
      "weighted avg       0.93      0.93      0.93      4143\n",
      "\n"
     ]
    }
   ],
   "source": [
    "print(\"Accuracy:\", accuracy_score(y_test, y_pred))\n",
    "print(\"\\nClassification Report:\\n\", classification_report(y_test, y_pred))"
   ]
  },
  {
   "cell_type": "markdown",
   "id": "1020257d-8534-4d01-a0a6-6a347d83bacf",
   "metadata": {},
   "source": [
    "# Per-class metrics\n",
    "For each label (gpt2, human, others, rnn), sklearn shows:\n",
    "## Precision = when the model predicts this class, how often is it correct?\n",
    "(Low precision → lots of false positives).\n",
    "## Recall = out of all actual tweets of this class, how many did the model catch?\n",
    "(Low recall → lots of false negatives).\n",
    "## F1-score =  mean of precision & recall (balanced score).\n",
    "## Support = number of examples in the test set for that class.\n",
    "## Humans = detected perfectly.\n",
    "## AI categories = mostly correct, but GPT-2 tweets are trickier."
   ]
  },
  {
   "cell_type": "markdown",
   "id": "89d22eba-e89e-458c-99e2-2960244c245f",
   "metadata": {},
   "source": [
    "# AI vs Human Tweet Classifier Pipeline"
   ]
  },
  {
   "cell_type": "code",
   "execution_count": 89,
   "id": "c156bf96-7d3c-43e4-9405-1a4d0c319253",
   "metadata": {},
   "outputs": [
    {
     "data": {
      "image/png": "[encoded data removed]",
      "text/plain": [
       "<Figure size 800x600 with 2 Axes>"
      ]
     },
     "metadata": {},
     "output_type": "display_data"
    }
   ],
   "source": [
    "# Generate confusion matrix\n",
    "cm = confusion_matrix(y_test, y_pred, labels=clf.classes_)\n",
    "\n",
    "# Plot heatmap\n",
    "plt.figure(figsize=(8,6))\n",
    "sns.heatmap(cm, annot=True, fmt=\"d\", cmap=\"Blues\", xticklabels=clf.classes_, yticklabels=clf.classes_)\n",
    "plt.xlabel(\"Predicted Label\")\n",
    "plt.ylabel(\"True Label\")\n",
    "plt.title(\"Confusion Matrix - AI vs Human Tweets Classifier\")\n",
    "plt.show()"
   ]
  },
  {
   "cell_type": "code",
   "execution_count": 90,
   "id": "0163ca10-a53e-4414-80ec-c46c8500a2df",
   "metadata": {},
   "outputs": [
    {
     "data": {
      "image/png": "[encoded data removed]",
      "text/plain": [
       "<Figure size 800x600 with 2 Axes>"
      ]
     },
     "metadata": {},
     "output_type": "display_data"
    }
   ],
   "source": [
    "# Get classification report as dictionary\n",
    "report = classification_report(y_test, y_pred, output_dict=True)\n",
    "\n",
    "# Convert to DataFrame\n",
    "df_report = pd.DataFrame(report).transpose()\n",
    "\n",
    "# Plot heatmap\n",
    "plt.figure(figsize=(8,6))\n",
    "sns.heatmap(df_report.iloc[:-1, :-1], annot=True, cmap=\"Greens\", fmt=\".2f\") \n",
    "plt.title(\"Classification Report Heatmap\")\n",
    "plt.show()"
   ]
  },
  {
   "cell_type": "raw",
   "id": "cfd2ed20-9a20-4a79-a986-afda49eaddcc",
   "metadata": {},
   "source": [
    "        ┌─────────────────┐\n",
    "        │   Dataset (CSV) │\n",
    "        │ text + account  │\n",
    "        └───────┬─────────┘\n",
    "                │\n",
    "                ▼\n",
    "        ┌───────────────────────┐\n",
    "        │ Split Train / Test    │\n",
    "        │  (80% / 20%)          │\n",
    "        └───────┬───────────────┘\n",
    "                │\n",
    "     ┌──────────┴────────────┐\n",
    "     │                       │\n",
    "     ▼                       ▼\n",
    "┌─────────────┐        ┌───────────────┐\n",
    "│ Text Column │        │ Account.type  │\n",
    "└──────┬──────┘        └──────┬────────┘\n",
    "       │                      │\n",
    "       ▼                      ▼\n",
    "┌───────────────┐      ┌──────────────┐\n",
    "│ TF-IDF Vector │      │ LabelEncoder │\n",
    "│ (words→nums)  │      │ (bot=1,h=0)  │\n",
    "└──────┬────────┘      └──────┬───────┘\n",
    "       │                      │\n",
    "       └───────────┬──────────┘\n",
    "                   ▼\n",
    "        ┌───────────────────────┐\n",
    "        │ Combine Features      │\n",
    "        │ (hstack text+account) │\n",
    "        └──────────┬────────────┘\n",
    "                   ▼\n",
    "        ┌───────────────────────┐\n",
    "        │ Logistic Regression   │\n",
    "        │ Train on (X_train,y)  │\n",
    "        └──────────┬────────────┘\n",
    "                   ▼\n",
    "        ┌───────────────────────┐\n",
    "        │ Predictions on Test   │\n",
    "        │ (X_test → y_pred)     │\n",
    "        └──────────┬────────────┘\n",
    "                   ▼\n",
    "        ┌───────────────────────┐\n",
    "        │ Evaluation            │\n",
    "        │ Accuracy + Report     │\n",
    "        └───────────────────────┘\n"
   ]
  },
  {
   "cell_type": "code",
   "execution_count": null,
   "id": "b1831581-24fa-4357-9d13-fc48b0761ee8",
   "metadata": {},
   "outputs": [],
   "source": []
  },
  {
   "cell_type": "code",
   "execution_count": null,
   "id": "eb35954a-10f4-4090-a20a-6f35e48896c6",
   "metadata": {},
   "outputs": [],
   "source": []
  },
  {
   "cell_type": "code",
   "execution_count": null,
   "id": "b3e325d0-18d3-4f2d-b8fa-bae0034cddd7",
   "metadata": {},
   "outputs": [],
   "source": []
  },
  {
   "cell_type": "code",
   "execution_count": null,
   "id": "27809f53-da4f-4754-adaf-6aef16861de2",
   "metadata": {},
   "outputs": [],
   "source": []
  },
  {
   "cell_type": "code",
   "execution_count": null,
   "id": "cb6d668c-56f8-4a49-9f27-60492abe92ce",
   "metadata": {},
   "outputs": [],
   "source": []
  }
 ],
 "metadata": {
  "kernelspec": {
   "display_name": "Python 3 (ipykernel)",
   "language": "python",
   "name": "python3"
  },
  "language_info": {
   "codemirror_mode": {
    "name": "ipython",
    "version": 3
   },
   "file_extension": ".py",
   "mimetype": "text/x-python",
   "name": "python",
   "nbconvert_exporter": "python",
   "pygments_lexer": "ipython3",
   "version": "3.13.6"
  }
 },
 "nbformat": 4,
 "nbformat_minor": 5
}
