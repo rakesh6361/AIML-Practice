{
 "cells": [
  {
   "cell_type": "markdown",
   "id": "c64c5c9d-be78-4bac-9284-b0bfb41e1826",
   "metadata": {},
   "source": [
    "# Time series using pandas"
   ]
  },
  {
   "cell_type": "code",
   "execution_count": 2,
   "id": "ff3cf8d0-3271-4349-a15f-13d9c2137a43",
   "metadata": {},
   "outputs": [
    {
     "name": "stdout",
     "output_type": "stream",
     "text": [
      "DatetimeIndex(['2019-01-01', '2019-01-02', '2019-01-03', '2019-01-04',\n",
      "               '2019-01-05', '2019-01-06'],\n",
      "              dtype='datetime64[ns]', freq='D')\n"
     ]
    }
   ],
   "source": [
    "from datetime import datetime\n",
    "import pandas as pd\n",
    "range_date=pd.date_range(start='1/1/2019',end='1/6/2019',freq='d')\n",
    "print(range_date)"
   ]
  },
  {
   "cell_type": "code",
   "execution_count": 5,
   "id": "8e733399-c377-4ed9-8710-63c5f49c2682",
   "metadata": {},
   "outputs": [
    {
     "name": "stdout",
     "output_type": "stream",
     "text": [
      "DatetimeIndex(['2019-01-31', '2019-02-28', '2019-03-31', '2019-04-30',\n",
      "               '2019-05-31', '2019-06-30', '2019-07-31', '2019-08-31',\n",
      "               '2019-09-30', '2019-10-31', '2019-11-30', '2019-12-31'],\n",
      "              dtype='datetime64[ns]', freq='ME')\n"
     ]
    }
   ],
   "source": [
    "from datetime import datetime\n",
    "import pandas as pd\n",
    "range_date=pd.date_range(start='1/1/2019',end='1/6/2020',freq='ME')\n",
    "print(range_date)"
   ]
  },
  {
   "cell_type": "code",
   "execution_count": 6,
   "id": "3e6b9223-6b3b-4b21-9c54-9dc0343d8d96",
   "metadata": {},
   "outputs": [
    {
     "name": "stdout",
     "output_type": "stream",
     "text": [
      "DatetimeIndex(['2019-01-01 00:00:00', '2019-01-01 01:00:00',\n",
      "               '2019-01-01 02:00:00', '2019-01-01 03:00:00',\n",
      "               '2019-01-01 04:00:00', '2019-01-01 05:00:00',\n",
      "               '2019-01-01 06:00:00', '2019-01-01 07:00:00',\n",
      "               '2019-01-01 08:00:00', '2019-01-01 09:00:00',\n",
      "               ...\n",
      "               '2020-01-05 15:00:00', '2020-01-05 16:00:00',\n",
      "               '2020-01-05 17:00:00', '2020-01-05 18:00:00',\n",
      "               '2020-01-05 19:00:00', '2020-01-05 20:00:00',\n",
      "               '2020-01-05 21:00:00', '2020-01-05 22:00:00',\n",
      "               '2020-01-05 23:00:00', '2020-01-06 00:00:00'],\n",
      "              dtype='datetime64[ns]', length=8881, freq='h')\n"
     ]
    }
   ],
   "source": [
    "from datetime import datetime\n",
    "import pandas as pd\n",
    "range_date=pd.date_range(start='1/1/2019',end='1/6/2020',freq='h')\n",
    "print(range_date)"
   ]
  },
  {
   "cell_type": "code",
   "execution_count": 5,
   "id": "f3cd0767-14db-41ac-bebf-8d011319f610",
   "metadata": {},
   "outputs": [
    {
     "name": "stdout",
     "output_type": "stream",
     "text": [
      "DatetimeIndex(['2025-08-03', '2025-08-04', '2025-08-05', '2025-08-06',\n",
      "               '2025-08-07', '2025-08-08', '2025-08-09', '2025-08-10',\n",
      "               '2025-08-11', '2025-08-12', '2025-08-13', '2025-08-14',\n",
      "               '2025-08-15', '2025-08-16', '2025-08-17', '2025-08-18',\n",
      "               '2025-08-19', '2025-08-20', '2025-08-21', '2025-08-22',\n",
      "               '2025-08-23', '2025-08-24', '2025-08-25', '2025-08-26',\n",
      "               '2025-08-27', '2025-08-28', '2025-08-29', '2025-08-30',\n",
      "               '2025-08-31', '2025-09-01', '2025-09-02', '2025-09-03',\n",
      "               '2025-09-04', '2025-09-05', '2025-09-06', '2025-09-07',\n",
      "               '2025-09-08', '2025-09-09', '2025-09-10', '2025-09-11',\n",
      "               '2025-09-12', '2025-09-13', '2025-09-14', '2025-09-15',\n",
      "               '2025-09-16', '2025-09-17', '2025-09-18', '2025-09-19',\n",
      "               '2025-09-20', '2025-09-21', '2025-09-22', '2025-09-23'],\n",
      "              dtype='datetime64[ns]', freq='D')\n"
     ]
    }
   ],
   "source": [
    "from datetime import datetime\n",
    "import pandas as pd\n",
    "range_date=pd.date_range(start='8/3/2025',end='9/23/2025',freq='d')\n",
    "print(range_date)"
   ]
  },
  {
   "cell_type": "code",
   "execution_count": 16,
   "id": "db98e0c7-1942-4d52-a315-afeb5ff3fb2b",
   "metadata": {},
   "outputs": [
    {
     "name": "stdout",
     "output_type": "stream",
     "text": [
      "DatetimeIndex([], dtype='datetime64[ns]', freq='YE-DEC')\n"
     ]
    }
   ],
   "source": [
    "from datetime import datetime\n",
    "import pandas as pd\n",
    "range_date=pd.date_range(start='8/3/2025',end='9/23/2025',freq='YE-DEC')\n",
    "print(range_date)"
   ]
  },
  {
   "cell_type": "code",
   "execution_count": 8,
   "id": "3a392772-0a9d-4f16-bde4-2b9b447c4a77",
   "metadata": {},
   "outputs": [
    {
     "name": "stdout",
     "output_type": "stream",
     "text": [
      "DatetimeIndex(['2025-08-31'], dtype='datetime64[ns]', freq='ME')\n"
     ]
    }
   ],
   "source": [
    "from datetime import datetime\n",
    "import pandas as pd\n",
    "range_date=pd.date_range(start='8/3/2025',end='9/23/2025',freq='ME')\n",
    "print(range_date)"
   ]
  },
  {
   "cell_type": "code",
   "execution_count": 9,
   "id": "fe03c9f4-a9d6-4ed2-954d-13177d92696a",
   "metadata": {},
   "outputs": [
    {
     "name": "stdout",
     "output_type": "stream",
     "text": [
      "   python  dsp\n",
      "1      68   89\n",
      "2      90   45\n",
      "3      56   87\n",
      "4      78   98\n",
      "5      98   45\n",
      "      python    dsp\n",
      "min     56.0   45.0\n",
      "max     98.0   98.0\n",
      "mean    78.0   72.8\n",
      "sum    390.0  364.0\n",
      "390\n",
      "364\n",
      "157\n"
     ]
    }
   ],
   "source": [
    "import pandas as pd\n",
    "marks={'python':[68,90,56,78,98],\n",
    "        'dsp':[89,45,87,98,45]\n",
    "      }\n",
    "marks_df=pd.DataFrame(marks,index=([1,2,3,4,5]))\n",
    "print(marks_df)\n",
    "d=marks_df.agg(['min','max','mean','sum'])\n",
    "print(d)\n",
    "marks_df.count()\n",
    "f=marks_df['python'].sum()\n",
    "print(f)\n",
    "f=marks_df['dsp'].sum()\n",
    "print(f)\n",
    "e=marks_df.loc[1].sum()\n",
    "print(e)\n",
    "\n"
   ]
  },
  {
   "cell_type": "code",
   "execution_count": 10,
   "id": "c8a98ec0-e68a-466a-a195-ee5882de390c",
   "metadata": {},
   "outputs": [
    {
     "name": "stdout",
     "output_type": "stream",
     "text": [
      "DatetimeIndex(['1970-01-01', '1970-01-01', '1970-01-01', '1970-01-01',\n",
      "               '1970-01-01', '1970-01-01', '1970-01-01', '1970-01-01',\n",
      "               '1970-01-01', '1970-01-01', '1970-01-01', '1970-01-01',\n",
      "               '1970-01-01', '1970-01-01', '1970-01-01', '1970-01-01',\n",
      "               '1970-01-01', '1970-01-01', '1970-01-01', '1970-01-01',\n",
      "               '1970-01-01', '1970-01-01', '1970-01-01', '1970-01-01',\n",
      "               '1970-01-01'],\n",
      "              dtype='datetime64[ns]', freq=None)\n"
     ]
    }
   ],
   "source": [
    "from datetime import datetime\n",
    "import pandas as pd\n",
    "range_date=pd.date_range(start=6/10/2025,end=5/11/2025,periods=25)\n",
    "print(range_date)"
   ]
  },
  {
   "cell_type": "code",
   "execution_count": 1,
   "id": "82451a2c-1646-4900-bfb5-2653e2778e83",
   "metadata": {},
   "outputs": [
    {
     "data": {
      "image/png": "[encoded data removed]",
      "text/plain": [
       "<Figure size 640x480 with 1 Axes>"
      ]
     },
     "metadata": {},
     "output_type": "display_data"
    }
   ],
   "source": [
    "import matplotlib.pyplot as plt\n",
    "import numpy as np\n",
    "ypoints = np.array([3,8,1,10])\n",
    "plt.plot(ypoints, marker = '*')\n",
    "plt.show()"
   ]
  },
  {
   "cell_type": "code",
   "execution_count": 25,
   "id": "cede0bb7-d095-43e0-b4eb-5496f56ded89",
   "metadata": {},
   "outputs": [
    {
     "data": {
      "image/png": "[encoded data removed]",
      "text/plain": [
       "<Figure size 640x480 with 1 Axes>"
      ]
     },
     "metadata": {},
     "output_type": "display_data"
    }
   ],
   "source": [
    "import matplotlib.pyplot as plt\n",
    "import numpy as np\n",
    "ypoints = np.array([3, 8, 1, 10])\n",
    "plt.plot(ypoints, ls = ':')\n",
    "plt.show()"
   ]
  },
  {
   "cell_type": "code",
   "execution_count": null,
   "id": "c252a4c9-bd90-4d51-b337-595fb26bce1b",
   "metadata": {},
   "outputs": [],
   "source": []
  }
 ],
 "metadata": {
  "kernelspec": {
   "display_name": "Python 3 (ipykernel)",
   "language": "python",
   "name": "python3"
  },
  "language_info": {
   "codemirror_mode": {
    "name": "ipython",
    "version": 3
   },
   "file_extension": ".py",
   "mimetype": "text/x-python",
   "name": "python",
   "nbconvert_exporter": "python",
   "pygments_lexer": "ipython3",
   "version": "3.13.6"
  }
 },
 "nbformat": 4,
 "nbformat_minor": 5
}
