{
 "cells": [
  {
   "cell_type": "code",
   "execution_count": 2,
   "id": "bf478ab7-399f-4d3d-81ee-1e4e508f79b6",
   "metadata": {},
   "outputs": [],
   "source": [
    "import pandas as pd\n",
    "import numpy as np\n",
    "import matplotlib.pyplot as plt\n",
    "import seaborn as sns"
   ]
  },
  {
   "cell_type": "markdown",
   "id": "0166bc1f-0f8b-4db0-a3b8-9d23872321ad",
   "metadata": {},
   "source": [
    "### Read CSV "
   ]
  },
  {
   "cell_type": "code",
   "execution_count": 4,
   "id": "9b2961c3-327f-479c-8cc0-b7c02c1a8f12",
   "metadata": {},
   "outputs": [
    {
     "data": {
      "text/html": [
       "<div>\n",
       "<style scoped>\n",
       "    .dataframe tbody tr th:only-of-type {\n",
       "        vertical-align: middle;\n",
       "    }\n",
       "\n",
       "    .dataframe tbody tr th {\n",
       "        vertical-align: top;\n",
       "    }\n",
       "\n",
       "    .dataframe thead th {\n",
       "        text-align: right;\n",
       "    }\n",
       "</style>\n",
       "<table border=\"1\" class=\"dataframe\">\n",
       "  <thead>\n",
       "    <tr style=\"text-align: right;\">\n",
       "      <th></th>\n",
       "      <th>user_id</th>\n",
       "      <th>status_id</th>\n",
       "      <th>screen_name</th>\n",
       "      <th>account.type</th>\n",
       "      <th>class_type</th>\n",
       "    </tr>\n",
       "  </thead>\n",
       "  <tbody>\n",
       "    <tr>\n",
       "      <th>0</th>\n",
       "      <td>1110407881030017024</td>\n",
       "      <td>1208265880146046976</td>\n",
       "      <td>bot#9</td>\n",
       "      <td>bot</td>\n",
       "      <td>others</td>\n",
       "    </tr>\n",
       "    <tr>\n",
       "      <th>1</th>\n",
       "      <td>3171109449</td>\n",
       "      <td>1091463908118941696</td>\n",
       "      <td>human#17</td>\n",
       "      <td>human</td>\n",
       "      <td>human</td>\n",
       "    </tr>\n",
       "    <tr>\n",
       "      <th>2</th>\n",
       "      <td>1110686081341632512</td>\n",
       "      <td>1199055191028293633</td>\n",
       "      <td>bot#23</td>\n",
       "      <td>bot</td>\n",
       "      <td>others</td>\n",
       "    </tr>\n",
       "    <tr>\n",
       "      <th>3</th>\n",
       "      <td>1110307772783124480</td>\n",
       "      <td>1214698264701722626</td>\n",
       "      <td>bot#1</td>\n",
       "      <td>bot</td>\n",
       "      <td>others</td>\n",
       "    </tr>\n",
       "    <tr>\n",
       "      <th>4</th>\n",
       "      <td>979586167405363200</td>\n",
       "      <td>1209229478934695937</td>\n",
       "      <td>bot#11</td>\n",
       "      <td>bot</td>\n",
       "      <td>rnn</td>\n",
       "    </tr>\n",
       "    <tr>\n",
       "      <th>...</th>\n",
       "      <td>...</td>\n",
       "      <td>...</td>\n",
       "      <td>...</td>\n",
       "      <td>...</td>\n",
       "      <td>...</td>\n",
       "    </tr>\n",
       "    <tr>\n",
       "      <th>20707</th>\n",
       "      <td>1197916267975335939</td>\n",
       "      <td>1204245032917700608</td>\n",
       "      <td>bot#12</td>\n",
       "      <td>bot</td>\n",
       "      <td>rnn</td>\n",
       "    </tr>\n",
       "    <tr>\n",
       "      <th>20708</th>\n",
       "      <td>1197916267975335939</td>\n",
       "      <td>1207011474243309570</td>\n",
       "      <td>bot#12</td>\n",
       "      <td>bot</td>\n",
       "      <td>rnn</td>\n",
       "    </tr>\n",
       "    <tr>\n",
       "      <th>20709</th>\n",
       "      <td>705113652471439361</td>\n",
       "      <td>715558455285837824</td>\n",
       "      <td>bot#16</td>\n",
       "      <td>bot</td>\n",
       "      <td>rnn</td>\n",
       "    </tr>\n",
       "    <tr>\n",
       "      <th>20710</th>\n",
       "      <td>262794965</td>\n",
       "      <td>812868913239199745</td>\n",
       "      <td>human#8</td>\n",
       "      <td>human</td>\n",
       "      <td>human</td>\n",
       "    </tr>\n",
       "    <tr>\n",
       "      <th>20711</th>\n",
       "      <td>979586167405363200</td>\n",
       "      <td>1194703766303338496</td>\n",
       "      <td>bot#11</td>\n",
       "      <td>bot</td>\n",
       "      <td>rnn</td>\n",
       "    </tr>\n",
       "  </tbody>\n",
       "</table>\n",
       "<p>20712 rows × 5 columns</p>\n",
       "</div>"
      ],
      "text/plain": [
       "                   user_id            status_id screen_name account.type  \\\n",
       "0      1110407881030017024  1208265880146046976       bot#9          bot   \n",
       "1               3171109449  1091463908118941696    human#17        human   \n",
       "2      1110686081341632512  1199055191028293633      bot#23          bot   \n",
       "3      1110307772783124480  1214698264701722626       bot#1          bot   \n",
       "4       979586167405363200  1209229478934695937      bot#11          bot   \n",
       "...                    ...                  ...         ...          ...   \n",
       "20707  1197916267975335939  1204245032917700608      bot#12          bot   \n",
       "20708  1197916267975335939  1207011474243309570      bot#12          bot   \n",
       "20709   705113652471439361   715558455285837824      bot#16          bot   \n",
       "20710            262794965   812868913239199745     human#8        human   \n",
       "20711   979586167405363200  1194703766303338496      bot#11          bot   \n",
       "\n",
       "      class_type  \n",
       "0         others  \n",
       "1          human  \n",
       "2         others  \n",
       "3         others  \n",
       "4            rnn  \n",
       "...          ...  \n",
       "20707        rnn  \n",
       "20708        rnn  \n",
       "20709        rnn  \n",
       "20710      human  \n",
       "20711        rnn  \n",
       "\n",
       "[20712 rows x 5 columns]"
      ]
     },
     "execution_count": 4,
     "metadata": {},
     "output_type": "execute_result"
    }
   ],
   "source": [
    "df=pd.read_csv('C:/Users/Guru Kiran/Downloads/train.csv.zip')\n",
    "df"
   ]
  },
  {
   "cell_type": "markdown",
   "id": "f84c30a5-caf9-4864-808a-132822819bf1",
   "metadata": {},
   "source": [
    "## Encode categorical to numeric for numeric ops"
   ]
  },
  {
   "cell_type": "code",
   "execution_count": 5,
   "id": "89c3cdb6-5688-48e3-8815-29f9ce3026c8",
   "metadata": {},
   "outputs": [],
   "source": [
    "df['account_encoded'] = df['account.type'].map({'human': 0, 'bot': 1})"
   ]
  },
  {
   "cell_type": "markdown",
   "id": "1295cfd3-93f6-4b5a-98ec-03a7dc949812",
   "metadata": {},
   "source": [
    "### ===== NUMPY OPERATIONS ====="
   ]
  },
  {
   "cell_type": "code",
   "execution_count": 6,
   "id": "ccb389af-9696-4a22-be61-1da467605c1d",
   "metadata": {},
   "outputs": [],
   "source": [
    "arr = df[['account_encoded']].to_numpy()"
   ]
  },
  {
   "cell_type": "code",
   "execution_count": 7,
   "id": "2fc41c52-4ddb-46b8-8a4d-f46f4bad8ffa",
   "metadata": {},
   "outputs": [
    {
     "name": "stdout",
     "output_type": "stream",
     "text": [
      "[[1]\n",
      " [0]\n",
      " [1]\n",
      " ...\n",
      " [1]\n",
      " [0]\n",
      " [1]]\n"
     ]
    }
   ],
   "source": [
    "print(arr)"
   ]
  },
  {
   "cell_type": "markdown",
   "id": "a47d6363-3ec2-4671-a3f9-718257ba3236",
   "metadata": {},
   "source": [
    "### Info"
   ]
  },
  {
   "cell_type": "code",
   "execution_count": 8,
   "id": "0afa606d-0f1c-49c0-9e57-1b78b85de65a",
   "metadata": {},
   "outputs": [
    {
     "name": "stdout",
     "output_type": "stream",
     "text": [
      "<class 'pandas.core.frame.DataFrame'>\n",
      "RangeIndex: 20712 entries, 0 to 20711\n",
      "Data columns (total 6 columns):\n",
      " #   Column           Non-Null Count  Dtype \n",
      "---  ------           --------------  ----- \n",
      " 0   user_id          20712 non-null  object\n",
      " 1   status_id        20712 non-null  object\n",
      " 2   screen_name      20712 non-null  object\n",
      " 3   account.type     20712 non-null  object\n",
      " 4   class_type       20712 non-null  object\n",
      " 5   account_encoded  20712 non-null  int64 \n",
      "dtypes: int64(1), object(5)\n",
      "memory usage: 971.0+ KB\n",
      "None\n"
     ]
    }
   ],
   "source": [
    "print(df.info())"
   ]
  },
  {
   "cell_type": "markdown",
   "id": "edcfa07c-57e3-4f5c-ab27-5bb2b3979678",
   "metadata": {},
   "source": [
    "### Describe"
   ]
  },
  {
   "cell_type": "code",
   "execution_count": 9,
   "id": "8de2dab4-27db-482e-ac66-27da84487c56",
   "metadata": {},
   "outputs": [
    {
     "name": "stdout",
     "output_type": "stream",
     "text": [
      "                   user_id            status_id screen_name account.type  \\\n",
      "count                20712                20712       20712        20712   \n",
      "unique                  41                20710          40            2   \n",
      "top     979586167405363200  1280132362152693761      bot#11        human   \n",
      "freq                  1951                    2        1951        10358   \n",
      "mean                   NaN                  NaN         NaN          NaN   \n",
      "std                    NaN                  NaN         NaN          NaN   \n",
      "min                    NaN                  NaN         NaN          NaN   \n",
      "25%                    NaN                  NaN         NaN          NaN   \n",
      "50%                    NaN                  NaN         NaN          NaN   \n",
      "75%                    NaN                  NaN         NaN          NaN   \n",
      "max                    NaN                  NaN         NaN          NaN   \n",
      "\n",
      "       class_type  account_encoded  \n",
      "count       20712     20712.000000  \n",
      "unique          4              NaN  \n",
      "top         human              NaN  \n",
      "freq        10358              NaN  \n",
      "mean          NaN         0.499903  \n",
      "std           NaN         0.500012  \n",
      "min           NaN         0.000000  \n",
      "25%           NaN         0.000000  \n",
      "50%           NaN         0.000000  \n",
      "75%           NaN         1.000000  \n",
      "max           NaN         1.000000  \n"
     ]
    }
   ],
   "source": [
    "print(df.describe(include='all'))"
   ]
  },
  {
   "cell_type": "markdown",
   "id": "9e80962b-7077-4333-953d-9790fdc8c271",
   "metadata": {},
   "source": [
    "### Shape"
   ]
  },
  {
   "cell_type": "code",
   "execution_count": 10,
   "id": "8bb80313-24cd-4f17-85b6-2db4fbeceade",
   "metadata": {},
   "outputs": [
    {
     "name": "stdout",
     "output_type": "stream",
     "text": [
      "Shape of Array: (20712, 1) \n",
      "Shape of DataFrame: (20712, 6)\n"
     ]
    }
   ],
   "source": [
    "print(\"Shape of Array:\", arr.shape, \"\\nShape of DataFrame:\", df.shape)"
   ]
  },
  {
   "cell_type": "markdown",
   "id": "9856b25f-a1aa-4705-a702-a62d85f0ba76",
   "metadata": {},
   "source": [
    "### Reshape"
   ]
  },
  {
   "cell_type": "code",
   "execution_count": 11,
   "id": "9ac2cc21-cf89-4390-82ff-1db363de5a1d",
   "metadata": {},
   "outputs": [
    {
     "name": "stdout",
     "output_type": "stream",
     "text": [
      "Reshaped:\n",
      " [[1 0]\n",
      " [1 1]\n",
      " [1 0]\n",
      " [1 1]\n",
      " [0 0]]\n"
     ]
    }
   ],
   "source": [
    "reshaped_arr = arr[:10].reshape(5, 2)\n",
    "print(\"Reshaped:\\n\", reshaped_arr)"
   ]
  },
  {
   "cell_type": "markdown",
   "id": "1ddd78ac-7406-4259-b195-bb465eda072b",
   "metadata": {},
   "source": [
    "### Mean, Median, Mode"
   ]
  },
  {
   "cell_type": "code",
   "execution_count": 12,
   "id": "a0094420-2aca-4b97-82a5-5a333c6e0b29",
   "metadata": {},
   "outputs": [
    {
     "name": "stdout",
     "output_type": "stream",
     "text": [
      "Mean: 0.499903437620703\n"
     ]
    }
   ],
   "source": [
    "print(\"Mean:\", np.mean(arr))"
   ]
  },
  {
   "cell_type": "code",
   "execution_count": 13,
   "id": "6b45bb64-4b98-4c09-bb5c-653d2205adcd",
   "metadata": {},
   "outputs": [
    {
     "name": "stdout",
     "output_type": "stream",
     "text": [
      "Median: 0.0\n"
     ]
    }
   ],
   "source": [
    "print(\"Median:\", np.median(arr))"
   ]
  },
  {
   "cell_type": "code",
   "execution_count": 14,
   "id": "283789e3-46c1-4b3e-aafe-06a4342c7d0f",
   "metadata": {},
   "outputs": [
    {
     "name": "stdout",
     "output_type": "stream",
     "text": [
      "Mode: [0]\n"
     ]
    }
   ],
   "source": [
    "print(\"Mode:\", pd.DataFrame(arr).mode().iloc[0].to_numpy())"
   ]
  },
  {
   "cell_type": "markdown",
   "id": "a39cfcac-d79f-4325-9e24-ac2893498ce7",
   "metadata": {},
   "source": [
    "### Aggregate"
   ]
  },
  {
   "cell_type": "code",
   "execution_count": 15,
   "id": "55dbdd48-f6b1-4fa9-a193-c13e3087fe3b",
   "metadata": {},
   "outputs": [
    {
     "name": "stdout",
     "output_type": "stream",
     "text": [
      "Sum Agg: 10354\n"
     ]
    }
   ],
   "source": [
    "print(\"Sum Agg:\", np.sum(arr))"
   ]
  },
  {
   "cell_type": "code",
   "execution_count": 16,
   "id": "34e0572c-47a2-4fda-9c7d-6cf6242c0fa8",
   "metadata": {},
   "outputs": [
    {
     "name": "stdout",
     "output_type": "stream",
     "text": [
      "Mean Agg: 0.499903437620703\n"
     ]
    }
   ],
   "source": [
    "print(\"Mean Agg:\", np.mean(arr))"
   ]
  },
  {
   "cell_type": "markdown",
   "id": "9f221b32-25d3-4245-95cd-3362ac7a2fdd",
   "metadata": {},
   "source": [
    "### Std"
   ]
  },
  {
   "cell_type": "code",
   "execution_count": 17,
   "id": "630fef0a-aa7f-4d45-9e72-5745eff0b407",
   "metadata": {},
   "outputs": [
    {
     "name": "stdout",
     "output_type": "stream",
     "text": [
      "Std: 0.4999999906757068\n"
     ]
    }
   ],
   "source": [
    "print(\"Std:\", np.std(arr))"
   ]
  },
  {
   "cell_type": "markdown",
   "id": "941aaeb0-22ee-4031-a259-73d3795633b7",
   "metadata": {},
   "source": [
    "### Sum"
   ]
  },
  {
   "cell_type": "code",
   "execution_count": 124,
   "id": "bc26c398-8d57-4611-9035-7a9d89a63b35",
   "metadata": {},
   "outputs": [
    {
     "name": "stdout",
     "output_type": "stream",
     "text": [
      "Sum: 10354\n"
     ]
    }
   ],
   "source": [
    "print(\"Sum:\", np.sum(arr))"
   ]
  },
  {
   "cell_type": "markdown",
   "id": "8e66ec66-7253-4c07-97c0-800e5d0b466d",
   "metadata": {},
   "source": [
    "### Vectorization"
   ]
  },
  {
   "cell_type": "code",
   "execution_count": 18,
   "id": "fc5d7e2c-ae6f-4335-9134-289143c599a6",
   "metadata": {},
   "outputs": [
    {
     "data": {
      "text/plain": [
       "array([[1],\n",
       "       [0],\n",
       "       [1],\n",
       "       ...,\n",
       "       [1],\n",
       "       [0],\n",
       "       [1]], shape=(20712, 1))"
      ]
     },
     "execution_count": 18,
     "metadata": {},
     "output_type": "execute_result"
    }
   ],
   "source": [
    "vectorized_arr = arr ** 2\n",
    "vectorized_arr"
   ]
  },
  {
   "cell_type": "markdown",
   "id": "35fc3de0-2601-4b38-ad8f-96ce1cae4333",
   "metadata": {},
   "source": [
    "### Map"
   ]
  },
  {
   "cell_type": "code",
   "execution_count": 19,
   "id": "928054cb-6ba4-4c92-9c6b-29fc937c5a26",
   "metadata": {},
   "outputs": [
    {
     "data": {
      "text/plain": [
       "array([[2],\n",
       "       [0],\n",
       "       [2],\n",
       "       ...,\n",
       "       [2],\n",
       "       [0],\n",
       "       [2]], shape=(20712, 1))"
      ]
     },
     "execution_count": 19,
     "metadata": {},
     "output_type": "execute_result"
    }
   ],
   "source": [
    "mapped_arr = np.vectorize(lambda x: x * 2)(arr)\n",
    "mapped_arr"
   ]
  },
  {
   "cell_type": "markdown",
   "id": "efbe0873-3cd8-45cb-ac30-198c65b1ae20",
   "metadata": {},
   "source": [
    "### Filter"
   ]
  },
  {
   "cell_type": "code",
   "execution_count": 20,
   "id": "7cd34bf4-a6d5-4934-8d52-69e24371f3c1",
   "metadata": {},
   "outputs": [
    {
     "data": {
      "text/plain": [
       "array([1, 1, 1, ..., 1, 1, 1], shape=(10354,))"
      ]
     },
     "execution_count": 20,
     "metadata": {},
     "output_type": "execute_result"
    }
   ],
   "source": [
    "filtered_arr = arr[arr > np.mean(arr)]\n",
    "filtered_arr"
   ]
  },
  {
   "cell_type": "markdown",
   "id": "d1ef60f4-b19b-4715-970f-dd302f8eaf0b",
   "metadata": {},
   "source": [
    "### Reduce"
   ]
  },
  {
   "cell_type": "code",
   "execution_count": 21,
   "id": "c0afba17-e3a9-4344-85bd-54d69ecd5c0d",
   "metadata": {},
   "outputs": [
    {
     "data": {
      "text/plain": [
       "np.int64(10354)"
      ]
     },
     "execution_count": 21,
     "metadata": {},
     "output_type": "execute_result"
    }
   ],
   "source": [
    "from functools import reduce\n",
    "reduced_sum = reduce(lambda x, y: x + y, arr.flatten())\n",
    "reduced_sum"
   ]
  },
  {
   "cell_type": "markdown",
   "id": "5c5f21e9-39ce-4faf-88b6-c0cbf9045d2c",
   "metadata": {},
   "source": [
    "### Lambda"
   ]
  },
  {
   "cell_type": "code",
   "execution_count": 22,
   "id": "75eb1aec-3dd4-4886-a897-affcb89d2d9a",
   "metadata": {},
   "outputs": [
    {
     "data": {
      "text/plain": [
       "array([3, 0, 3, ..., 3, 0, 3], shape=(20712,))"
      ]
     },
     "execution_count": 22,
     "metadata": {},
     "output_type": "execute_result"
    }
   ],
   "source": [
    "lambda_arr = np.array(list(map(lambda x: x * 3, arr.flatten())))\n",
    "lambda_arr"
   ]
  },
  {
   "cell_type": "markdown",
   "id": "1181f649-9344-4d28-8661-ae84172c36be",
   "metadata": {},
   "source": [
    "## ===== PANDAS OPERATIONS ====="
   ]
  },
  {
   "cell_type": "markdown",
   "id": "c7797a1f-51f4-47c3-b4a7-1ff7b6abe6ab",
   "metadata": {},
   "source": [
    "### Create DataFrame"
   ]
  },
  {
   "cell_type": "code",
   "execution_count": 23,
   "id": "bf04da51-5275-4631-bb00-9b5ea93cfd58",
   "metadata": {},
   "outputs": [
    {
     "data": {
      "text/html": [
       "<div>\n",
       "<style scoped>\n",
       "    .dataframe tbody tr th:only-of-type {\n",
       "        vertical-align: middle;\n",
       "    }\n",
       "\n",
       "    .dataframe tbody tr th {\n",
       "        vertical-align: top;\n",
       "    }\n",
       "\n",
       "    .dataframe thead th {\n",
       "        text-align: right;\n",
       "    }\n",
       "</style>\n",
       "<table border=\"1\" class=\"dataframe\">\n",
       "  <thead>\n",
       "    <tr style=\"text-align: right;\">\n",
       "      <th></th>\n",
       "      <th>A</th>\n",
       "      <th>B</th>\n",
       "    </tr>\n",
       "  </thead>\n",
       "  <tbody>\n",
       "    <tr>\n",
       "      <th>0</th>\n",
       "      <td>1</td>\n",
       "      <td>3</td>\n",
       "    </tr>\n",
       "    <tr>\n",
       "      <th>1</th>\n",
       "      <td>2</td>\n",
       "      <td>4</td>\n",
       "    </tr>\n",
       "  </tbody>\n",
       "</table>\n",
       "</div>"
      ],
      "text/plain": [
       "   A  B\n",
       "0  1  3\n",
       "1  2  4"
      ]
     },
     "execution_count": 23,
     "metadata": {},
     "output_type": "execute_result"
    }
   ],
   "source": [
    "df_new = pd.DataFrame({\"A\": [1, 2], \"B\": [3, 4]})\n",
    "df_new"
   ]
  },
  {
   "cell_type": "markdown",
   "id": "05c1e0e0-0d8c-4f9b-90ee-54621f78ddf3",
   "metadata": {},
   "source": [
    "### Column add and drop"
   ]
  },
  {
   "cell_type": "code",
   "execution_count": 24,
   "id": "142ec2eb-b0a8-47f8-b2f7-cc5214883f38",
   "metadata": {},
   "outputs": [
    {
     "data": {
      "text/html": [
       "<div>\n",
       "<style scoped>\n",
       "    .dataframe tbody tr th:only-of-type {\n",
       "        vertical-align: middle;\n",
       "    }\n",
       "\n",
       "    .dataframe tbody tr th {\n",
       "        vertical-align: top;\n",
       "    }\n",
       "\n",
       "    .dataframe thead th {\n",
       "        text-align: right;\n",
       "    }\n",
       "</style>\n",
       "<table border=\"1\" class=\"dataframe\">\n",
       "  <thead>\n",
       "    <tr style=\"text-align: right;\">\n",
       "      <th></th>\n",
       "      <th>user_id</th>\n",
       "      <th>status_id</th>\n",
       "      <th>screen_name</th>\n",
       "      <th>account.type</th>\n",
       "      <th>class_type</th>\n",
       "      <th>account_encoded</th>\n",
       "      <th>new_col</th>\n",
       "    </tr>\n",
       "  </thead>\n",
       "  <tbody>\n",
       "    <tr>\n",
       "      <th>0</th>\n",
       "      <td>1110407881030017024</td>\n",
       "      <td>1208265880146046976</td>\n",
       "      <td>bot#9</td>\n",
       "      <td>bot</td>\n",
       "      <td>others</td>\n",
       "      <td>1</td>\n",
       "      <td>2</td>\n",
       "    </tr>\n",
       "    <tr>\n",
       "      <th>1</th>\n",
       "      <td>3171109449</td>\n",
       "      <td>1091463908118941696</td>\n",
       "      <td>human#17</td>\n",
       "      <td>human</td>\n",
       "      <td>human</td>\n",
       "      <td>0</td>\n",
       "      <td>0</td>\n",
       "    </tr>\n",
       "    <tr>\n",
       "      <th>2</th>\n",
       "      <td>1110686081341632512</td>\n",
       "      <td>1199055191028293633</td>\n",
       "      <td>bot#23</td>\n",
       "      <td>bot</td>\n",
       "      <td>others</td>\n",
       "      <td>1</td>\n",
       "      <td>2</td>\n",
       "    </tr>\n",
       "    <tr>\n",
       "      <th>3</th>\n",
       "      <td>1110307772783124480</td>\n",
       "      <td>1214698264701722626</td>\n",
       "      <td>bot#1</td>\n",
       "      <td>bot</td>\n",
       "      <td>others</td>\n",
       "      <td>1</td>\n",
       "      <td>2</td>\n",
       "    </tr>\n",
       "    <tr>\n",
       "      <th>4</th>\n",
       "      <td>979586167405363200</td>\n",
       "      <td>1209229478934695937</td>\n",
       "      <td>bot#11</td>\n",
       "      <td>bot</td>\n",
       "      <td>rnn</td>\n",
       "      <td>1</td>\n",
       "      <td>2</td>\n",
       "    </tr>\n",
       "    <tr>\n",
       "      <th>...</th>\n",
       "      <td>...</td>\n",
       "      <td>...</td>\n",
       "      <td>...</td>\n",
       "      <td>...</td>\n",
       "      <td>...</td>\n",
       "      <td>...</td>\n",
       "      <td>...</td>\n",
       "    </tr>\n",
       "    <tr>\n",
       "      <th>20707</th>\n",
       "      <td>1197916267975335939</td>\n",
       "      <td>1204245032917700608</td>\n",
       "      <td>bot#12</td>\n",
       "      <td>bot</td>\n",
       "      <td>rnn</td>\n",
       "      <td>1</td>\n",
       "      <td>2</td>\n",
       "    </tr>\n",
       "    <tr>\n",
       "      <th>20708</th>\n",
       "      <td>1197916267975335939</td>\n",
       "      <td>1207011474243309570</td>\n",
       "      <td>bot#12</td>\n",
       "      <td>bot</td>\n",
       "      <td>rnn</td>\n",
       "      <td>1</td>\n",
       "      <td>2</td>\n",
       "    </tr>\n",
       "    <tr>\n",
       "      <th>20709</th>\n",
       "      <td>705113652471439361</td>\n",
       "      <td>715558455285837824</td>\n",
       "      <td>bot#16</td>\n",
       "      <td>bot</td>\n",
       "      <td>rnn</td>\n",
       "      <td>1</td>\n",
       "      <td>2</td>\n",
       "    </tr>\n",
       "    <tr>\n",
       "      <th>20710</th>\n",
       "      <td>262794965</td>\n",
       "      <td>812868913239199745</td>\n",
       "      <td>human#8</td>\n",
       "      <td>human</td>\n",
       "      <td>human</td>\n",
       "      <td>0</td>\n",
       "      <td>0</td>\n",
       "    </tr>\n",
       "    <tr>\n",
       "      <th>20711</th>\n",
       "      <td>979586167405363200</td>\n",
       "      <td>1194703766303338496</td>\n",
       "      <td>bot#11</td>\n",
       "      <td>bot</td>\n",
       "      <td>rnn</td>\n",
       "      <td>1</td>\n",
       "      <td>2</td>\n",
       "    </tr>\n",
       "  </tbody>\n",
       "</table>\n",
       "<p>20712 rows × 7 columns</p>\n",
       "</div>"
      ],
      "text/plain": [
       "                   user_id            status_id screen_name account.type  \\\n",
       "0      1110407881030017024  1208265880146046976       bot#9          bot   \n",
       "1               3171109449  1091463908118941696    human#17        human   \n",
       "2      1110686081341632512  1199055191028293633      bot#23          bot   \n",
       "3      1110307772783124480  1214698264701722626       bot#1          bot   \n",
       "4       979586167405363200  1209229478934695937      bot#11          bot   \n",
       "...                    ...                  ...         ...          ...   \n",
       "20707  1197916267975335939  1204245032917700608      bot#12          bot   \n",
       "20708  1197916267975335939  1207011474243309570      bot#12          bot   \n",
       "20709   705113652471439361   715558455285837824      bot#16          bot   \n",
       "20710            262794965   812868913239199745     human#8        human   \n",
       "20711   979586167405363200  1194703766303338496      bot#11          bot   \n",
       "\n",
       "      class_type  account_encoded  new_col  \n",
       "0         others                1        2  \n",
       "1          human                0        0  \n",
       "2         others                1        2  \n",
       "3         others                1        2  \n",
       "4            rnn                1        2  \n",
       "...          ...              ...      ...  \n",
       "20707        rnn                1        2  \n",
       "20708        rnn                1        2  \n",
       "20709        rnn                1        2  \n",
       "20710      human                0        0  \n",
       "20711        rnn                1        2  \n",
       "\n",
       "[20712 rows x 7 columns]"
      ]
     },
     "execution_count": 24,
     "metadata": {},
     "output_type": "execute_result"
    }
   ],
   "source": [
    "df[\"new_col\"] = df[\"account_encoded\"] * 2\n",
    "df"
   ]
  },
  {
   "cell_type": "code",
   "execution_count": 25,
   "id": "19fe6aeb-867f-4a51-a22a-0ec7c785447b",
   "metadata": {},
   "outputs": [
    {
     "data": {
      "text/html": [
       "<div>\n",
       "<style scoped>\n",
       "    .dataframe tbody tr th:only-of-type {\n",
       "        vertical-align: middle;\n",
       "    }\n",
       "\n",
       "    .dataframe tbody tr th {\n",
       "        vertical-align: top;\n",
       "    }\n",
       "\n",
       "    .dataframe thead th {\n",
       "        text-align: right;\n",
       "    }\n",
       "</style>\n",
       "<table border=\"1\" class=\"dataframe\">\n",
       "  <thead>\n",
       "    <tr style=\"text-align: right;\">\n",
       "      <th></th>\n",
       "      <th>user_id</th>\n",
       "      <th>status_id</th>\n",
       "      <th>screen_name</th>\n",
       "      <th>account.type</th>\n",
       "      <th>class_type</th>\n",
       "      <th>account_encoded</th>\n",
       "    </tr>\n",
       "  </thead>\n",
       "  <tbody>\n",
       "    <tr>\n",
       "      <th>0</th>\n",
       "      <td>1110407881030017024</td>\n",
       "      <td>1208265880146046976</td>\n",
       "      <td>bot#9</td>\n",
       "      <td>bot</td>\n",
       "      <td>others</td>\n",
       "      <td>1</td>\n",
       "    </tr>\n",
       "    <tr>\n",
       "      <th>1</th>\n",
       "      <td>3171109449</td>\n",
       "      <td>1091463908118941696</td>\n",
       "      <td>human#17</td>\n",
       "      <td>human</td>\n",
       "      <td>human</td>\n",
       "      <td>0</td>\n",
       "    </tr>\n",
       "    <tr>\n",
       "      <th>2</th>\n",
       "      <td>1110686081341632512</td>\n",
       "      <td>1199055191028293633</td>\n",
       "      <td>bot#23</td>\n",
       "      <td>bot</td>\n",
       "      <td>others</td>\n",
       "      <td>1</td>\n",
       "    </tr>\n",
       "    <tr>\n",
       "      <th>3</th>\n",
       "      <td>1110307772783124480</td>\n",
       "      <td>1214698264701722626</td>\n",
       "      <td>bot#1</td>\n",
       "      <td>bot</td>\n",
       "      <td>others</td>\n",
       "      <td>1</td>\n",
       "    </tr>\n",
       "    <tr>\n",
       "      <th>4</th>\n",
       "      <td>979586167405363200</td>\n",
       "      <td>1209229478934695937</td>\n",
       "      <td>bot#11</td>\n",
       "      <td>bot</td>\n",
       "      <td>rnn</td>\n",
       "      <td>1</td>\n",
       "    </tr>\n",
       "    <tr>\n",
       "      <th>...</th>\n",
       "      <td>...</td>\n",
       "      <td>...</td>\n",
       "      <td>...</td>\n",
       "      <td>...</td>\n",
       "      <td>...</td>\n",
       "      <td>...</td>\n",
       "    </tr>\n",
       "    <tr>\n",
       "      <th>20707</th>\n",
       "      <td>1197916267975335939</td>\n",
       "      <td>1204245032917700608</td>\n",
       "      <td>bot#12</td>\n",
       "      <td>bot</td>\n",
       "      <td>rnn</td>\n",
       "      <td>1</td>\n",
       "    </tr>\n",
       "    <tr>\n",
       "      <th>20708</th>\n",
       "      <td>1197916267975335939</td>\n",
       "      <td>1207011474243309570</td>\n",
       "      <td>bot#12</td>\n",
       "      <td>bot</td>\n",
       "      <td>rnn</td>\n",
       "      <td>1</td>\n",
       "    </tr>\n",
       "    <tr>\n",
       "      <th>20709</th>\n",
       "      <td>705113652471439361</td>\n",
       "      <td>715558455285837824</td>\n",
       "      <td>bot#16</td>\n",
       "      <td>bot</td>\n",
       "      <td>rnn</td>\n",
       "      <td>1</td>\n",
       "    </tr>\n",
       "    <tr>\n",
       "      <th>20710</th>\n",
       "      <td>262794965</td>\n",
       "      <td>812868913239199745</td>\n",
       "      <td>human#8</td>\n",
       "      <td>human</td>\n",
       "      <td>human</td>\n",
       "      <td>0</td>\n",
       "    </tr>\n",
       "    <tr>\n",
       "      <th>20711</th>\n",
       "      <td>979586167405363200</td>\n",
       "      <td>1194703766303338496</td>\n",
       "      <td>bot#11</td>\n",
       "      <td>bot</td>\n",
       "      <td>rnn</td>\n",
       "      <td>1</td>\n",
       "    </tr>\n",
       "  </tbody>\n",
       "</table>\n",
       "<p>20712 rows × 6 columns</p>\n",
       "</div>"
      ],
      "text/plain": [
       "                   user_id            status_id screen_name account.type  \\\n",
       "0      1110407881030017024  1208265880146046976       bot#9          bot   \n",
       "1               3171109449  1091463908118941696    human#17        human   \n",
       "2      1110686081341632512  1199055191028293633      bot#23          bot   \n",
       "3      1110307772783124480  1214698264701722626       bot#1          bot   \n",
       "4       979586167405363200  1209229478934695937      bot#11          bot   \n",
       "...                    ...                  ...         ...          ...   \n",
       "20707  1197916267975335939  1204245032917700608      bot#12          bot   \n",
       "20708  1197916267975335939  1207011474243309570      bot#12          bot   \n",
       "20709   705113652471439361   715558455285837824      bot#16          bot   \n",
       "20710            262794965   812868913239199745     human#8        human   \n",
       "20711   979586167405363200  1194703766303338496      bot#11          bot   \n",
       "\n",
       "      class_type  account_encoded  \n",
       "0         others                1  \n",
       "1          human                0  \n",
       "2         others                1  \n",
       "3         others                1  \n",
       "4            rnn                1  \n",
       "...          ...              ...  \n",
       "20707        rnn                1  \n",
       "20708        rnn                1  \n",
       "20709        rnn                1  \n",
       "20710      human                0  \n",
       "20711        rnn                1  \n",
       "\n",
       "[20712 rows x 6 columns]"
      ]
     },
     "execution_count": 25,
     "metadata": {},
     "output_type": "execute_result"
    }
   ],
   "source": [
    "df_dropped_col = df.drop(columns=[\"new_col\"])\n",
    "df_dropped_col"
   ]
  },
  {
   "cell_type": "markdown",
   "id": "049b09b0-f16c-47c8-9561-9a4367ce6528",
   "metadata": {},
   "source": [
    "### Row add and drop"
   ]
  },
  {
   "cell_type": "code",
   "execution_count": 26,
   "id": "b7ad8491-28aa-4d4c-bf0c-1370b7a5973f",
   "metadata": {},
   "outputs": [
    {
     "data": {
      "text/html": [
       "<div>\n",
       "<style scoped>\n",
       "    .dataframe tbody tr th:only-of-type {\n",
       "        vertical-align: middle;\n",
       "    }\n",
       "\n",
       "    .dataframe tbody tr th {\n",
       "        vertical-align: top;\n",
       "    }\n",
       "\n",
       "    .dataframe thead th {\n",
       "        text-align: right;\n",
       "    }\n",
       "</style>\n",
       "<table border=\"1\" class=\"dataframe\">\n",
       "  <thead>\n",
       "    <tr style=\"text-align: right;\">\n",
       "      <th></th>\n",
       "      <th>user_id</th>\n",
       "      <th>status_id</th>\n",
       "      <th>screen_name</th>\n",
       "      <th>account.type</th>\n",
       "      <th>class_type</th>\n",
       "      <th>account_encoded</th>\n",
       "      <th>new_col</th>\n",
       "    </tr>\n",
       "  </thead>\n",
       "  <tbody>\n",
       "    <tr>\n",
       "      <th>0</th>\n",
       "      <td>1110407881030017024</td>\n",
       "      <td>1208265880146046976</td>\n",
       "      <td>bot#9</td>\n",
       "      <td>bot</td>\n",
       "      <td>others</td>\n",
       "      <td>1</td>\n",
       "      <td>2</td>\n",
       "    </tr>\n",
       "    <tr>\n",
       "      <th>1</th>\n",
       "      <td>3171109449</td>\n",
       "      <td>1091463908118941696</td>\n",
       "      <td>human#17</td>\n",
       "      <td>human</td>\n",
       "      <td>human</td>\n",
       "      <td>0</td>\n",
       "      <td>0</td>\n",
       "    </tr>\n",
       "    <tr>\n",
       "      <th>2</th>\n",
       "      <td>1110686081341632512</td>\n",
       "      <td>1199055191028293633</td>\n",
       "      <td>bot#23</td>\n",
       "      <td>bot</td>\n",
       "      <td>others</td>\n",
       "      <td>1</td>\n",
       "      <td>2</td>\n",
       "    </tr>\n",
       "    <tr>\n",
       "      <th>3</th>\n",
       "      <td>1110307772783124480</td>\n",
       "      <td>1214698264701722626</td>\n",
       "      <td>bot#1</td>\n",
       "      <td>bot</td>\n",
       "      <td>others</td>\n",
       "      <td>1</td>\n",
       "      <td>2</td>\n",
       "    </tr>\n",
       "    <tr>\n",
       "      <th>4</th>\n",
       "      <td>979586167405363200</td>\n",
       "      <td>1209229478934695937</td>\n",
       "      <td>bot#11</td>\n",
       "      <td>bot</td>\n",
       "      <td>rnn</td>\n",
       "      <td>1</td>\n",
       "      <td>2</td>\n",
       "    </tr>\n",
       "    <tr>\n",
       "      <th>...</th>\n",
       "      <td>...</td>\n",
       "      <td>...</td>\n",
       "      <td>...</td>\n",
       "      <td>...</td>\n",
       "      <td>...</td>\n",
       "      <td>...</td>\n",
       "      <td>...</td>\n",
       "    </tr>\n",
       "    <tr>\n",
       "      <th>20708</th>\n",
       "      <td>1197916267975335939</td>\n",
       "      <td>1207011474243309570</td>\n",
       "      <td>bot#12</td>\n",
       "      <td>bot</td>\n",
       "      <td>rnn</td>\n",
       "      <td>1</td>\n",
       "      <td>2</td>\n",
       "    </tr>\n",
       "    <tr>\n",
       "      <th>20709</th>\n",
       "      <td>705113652471439361</td>\n",
       "      <td>715558455285837824</td>\n",
       "      <td>bot#16</td>\n",
       "      <td>bot</td>\n",
       "      <td>rnn</td>\n",
       "      <td>1</td>\n",
       "      <td>2</td>\n",
       "    </tr>\n",
       "    <tr>\n",
       "      <th>20710</th>\n",
       "      <td>262794965</td>\n",
       "      <td>812868913239199745</td>\n",
       "      <td>human#8</td>\n",
       "      <td>human</td>\n",
       "      <td>human</td>\n",
       "      <td>0</td>\n",
       "      <td>0</td>\n",
       "    </tr>\n",
       "    <tr>\n",
       "      <th>20711</th>\n",
       "      <td>979586167405363200</td>\n",
       "      <td>1194703766303338496</td>\n",
       "      <td>bot#11</td>\n",
       "      <td>bot</td>\n",
       "      <td>rnn</td>\n",
       "      <td>1</td>\n",
       "      <td>2</td>\n",
       "    </tr>\n",
       "    <tr>\n",
       "      <th>20712</th>\n",
       "      <td>1110407881030017024</td>\n",
       "      <td>1208265880146046976</td>\n",
       "      <td>bot#9</td>\n",
       "      <td>bot</td>\n",
       "      <td>others</td>\n",
       "      <td>1</td>\n",
       "      <td>2</td>\n",
       "    </tr>\n",
       "  </tbody>\n",
       "</table>\n",
       "<p>20713 rows × 7 columns</p>\n",
       "</div>"
      ],
      "text/plain": [
       "                   user_id            status_id screen_name account.type  \\\n",
       "0      1110407881030017024  1208265880146046976       bot#9          bot   \n",
       "1               3171109449  1091463908118941696    human#17        human   \n",
       "2      1110686081341632512  1199055191028293633      bot#23          bot   \n",
       "3      1110307772783124480  1214698264701722626       bot#1          bot   \n",
       "4       979586167405363200  1209229478934695937      bot#11          bot   \n",
       "...                    ...                  ...         ...          ...   \n",
       "20708  1197916267975335939  1207011474243309570      bot#12          bot   \n",
       "20709   705113652471439361   715558455285837824      bot#16          bot   \n",
       "20710            262794965   812868913239199745     human#8        human   \n",
       "20711   979586167405363200  1194703766303338496      bot#11          bot   \n",
       "20712  1110407881030017024  1208265880146046976       bot#9          bot   \n",
       "\n",
       "      class_type  account_encoded  new_col  \n",
       "0         others                1        2  \n",
       "1          human                0        0  \n",
       "2         others                1        2  \n",
       "3         others                1        2  \n",
       "4            rnn                1        2  \n",
       "...          ...              ...      ...  \n",
       "20708        rnn                1        2  \n",
       "20709        rnn                1        2  \n",
       "20710      human                0        0  \n",
       "20711        rnn                1        2  \n",
       "20712     others                1        2  \n",
       "\n",
       "[20713 rows x 7 columns]"
      ]
     },
     "execution_count": 26,
     "metadata": {},
     "output_type": "execute_result"
    }
   ],
   "source": [
    "df_added_row = pd.concat([df, pd.DataFrame([df.iloc[0]])], ignore_index=True)\n",
    "df_added_row"
   ]
  },
  {
   "cell_type": "code",
   "execution_count": 27,
   "id": "53c5ab19-2565-4b4b-936c-74a8223e5e52",
   "metadata": {},
   "outputs": [
    {
     "data": {
      "text/html": [
       "<div>\n",
       "<style scoped>\n",
       "    .dataframe tbody tr th:only-of-type {\n",
       "        vertical-align: middle;\n",
       "    }\n",
       "\n",
       "    .dataframe tbody tr th {\n",
       "        vertical-align: top;\n",
       "    }\n",
       "\n",
       "    .dataframe thead th {\n",
       "        text-align: right;\n",
       "    }\n",
       "</style>\n",
       "<table border=\"1\" class=\"dataframe\">\n",
       "  <thead>\n",
       "    <tr style=\"text-align: right;\">\n",
       "      <th></th>\n",
       "      <th>user_id</th>\n",
       "      <th>status_id</th>\n",
       "      <th>screen_name</th>\n",
       "      <th>account.type</th>\n",
       "      <th>class_type</th>\n",
       "      <th>account_encoded</th>\n",
       "      <th>new_col</th>\n",
       "    </tr>\n",
       "  </thead>\n",
       "  <tbody>\n",
       "    <tr>\n",
       "      <th>1</th>\n",
       "      <td>3171109449</td>\n",
       "      <td>1091463908118941696</td>\n",
       "      <td>human#17</td>\n",
       "      <td>human</td>\n",
       "      <td>human</td>\n",
       "      <td>0</td>\n",
       "      <td>0</td>\n",
       "    </tr>\n",
       "    <tr>\n",
       "      <th>2</th>\n",
       "      <td>1110686081341632512</td>\n",
       "      <td>1199055191028293633</td>\n",
       "      <td>bot#23</td>\n",
       "      <td>bot</td>\n",
       "      <td>others</td>\n",
       "      <td>1</td>\n",
       "      <td>2</td>\n",
       "    </tr>\n",
       "    <tr>\n",
       "      <th>3</th>\n",
       "      <td>1110307772783124480</td>\n",
       "      <td>1214698264701722626</td>\n",
       "      <td>bot#1</td>\n",
       "      <td>bot</td>\n",
       "      <td>others</td>\n",
       "      <td>1</td>\n",
       "      <td>2</td>\n",
       "    </tr>\n",
       "    <tr>\n",
       "      <th>4</th>\n",
       "      <td>979586167405363200</td>\n",
       "      <td>1209229478934695937</td>\n",
       "      <td>bot#11</td>\n",
       "      <td>bot</td>\n",
       "      <td>rnn</td>\n",
       "      <td>1</td>\n",
       "      <td>2</td>\n",
       "    </tr>\n",
       "    <tr>\n",
       "      <th>5</th>\n",
       "      <td>16298441</td>\n",
       "      <td>843661438711484416</td>\n",
       "      <td>human#4</td>\n",
       "      <td>human</td>\n",
       "      <td>human</td>\n",
       "      <td>0</td>\n",
       "      <td>0</td>\n",
       "    </tr>\n",
       "    <tr>\n",
       "      <th>...</th>\n",
       "      <td>...</td>\n",
       "      <td>...</td>\n",
       "      <td>...</td>\n",
       "      <td>...</td>\n",
       "      <td>...</td>\n",
       "      <td>...</td>\n",
       "      <td>...</td>\n",
       "    </tr>\n",
       "    <tr>\n",
       "      <th>20707</th>\n",
       "      <td>1197916267975335939</td>\n",
       "      <td>1204245032917700608</td>\n",
       "      <td>bot#12</td>\n",
       "      <td>bot</td>\n",
       "      <td>rnn</td>\n",
       "      <td>1</td>\n",
       "      <td>2</td>\n",
       "    </tr>\n",
       "    <tr>\n",
       "      <th>20708</th>\n",
       "      <td>1197916267975335939</td>\n",
       "      <td>1207011474243309570</td>\n",
       "      <td>bot#12</td>\n",
       "      <td>bot</td>\n",
       "      <td>rnn</td>\n",
       "      <td>1</td>\n",
       "      <td>2</td>\n",
       "    </tr>\n",
       "    <tr>\n",
       "      <th>20709</th>\n",
       "      <td>705113652471439361</td>\n",
       "      <td>715558455285837824</td>\n",
       "      <td>bot#16</td>\n",
       "      <td>bot</td>\n",
       "      <td>rnn</td>\n",
       "      <td>1</td>\n",
       "      <td>2</td>\n",
       "    </tr>\n",
       "    <tr>\n",
       "      <th>20710</th>\n",
       "      <td>262794965</td>\n",
       "      <td>812868913239199745</td>\n",
       "      <td>human#8</td>\n",
       "      <td>human</td>\n",
       "      <td>human</td>\n",
       "      <td>0</td>\n",
       "      <td>0</td>\n",
       "    </tr>\n",
       "    <tr>\n",
       "      <th>20711</th>\n",
       "      <td>979586167405363200</td>\n",
       "      <td>1194703766303338496</td>\n",
       "      <td>bot#11</td>\n",
       "      <td>bot</td>\n",
       "      <td>rnn</td>\n",
       "      <td>1</td>\n",
       "      <td>2</td>\n",
       "    </tr>\n",
       "  </tbody>\n",
       "</table>\n",
       "<p>20711 rows × 7 columns</p>\n",
       "</div>"
      ],
      "text/plain": [
       "                   user_id            status_id screen_name account.type  \\\n",
       "1               3171109449  1091463908118941696    human#17        human   \n",
       "2      1110686081341632512  1199055191028293633      bot#23          bot   \n",
       "3      1110307772783124480  1214698264701722626       bot#1          bot   \n",
       "4       979586167405363200  1209229478934695937      bot#11          bot   \n",
       "5                 16298441   843661438711484416     human#4        human   \n",
       "...                    ...                  ...         ...          ...   \n",
       "20707  1197916267975335939  1204245032917700608      bot#12          bot   \n",
       "20708  1197916267975335939  1207011474243309570      bot#12          bot   \n",
       "20709   705113652471439361   715558455285837824      bot#16          bot   \n",
       "20710            262794965   812868913239199745     human#8        human   \n",
       "20711   979586167405363200  1194703766303338496      bot#11          bot   \n",
       "\n",
       "      class_type  account_encoded  new_col  \n",
       "1          human                0        0  \n",
       "2         others                1        2  \n",
       "3         others                1        2  \n",
       "4            rnn                1        2  \n",
       "5          human                0        0  \n",
       "...          ...              ...      ...  \n",
       "20707        rnn                1        2  \n",
       "20708        rnn                1        2  \n",
       "20709        rnn                1        2  \n",
       "20710      human                0        0  \n",
       "20711        rnn                1        2  \n",
       "\n",
       "[20711 rows x 7 columns]"
      ]
     },
     "execution_count": 27,
     "metadata": {},
     "output_type": "execute_result"
    }
   ],
   "source": [
    "df_dropped_row = df.drop(index=0)\n",
    "df_dropped_row"
   ]
  },
  {
   "cell_type": "markdown",
   "id": "5bcb9cab-e887-4ccc-b5bf-3ac2f2a41c34",
   "metadata": {},
   "source": [
    "### Map"
   ]
  },
  {
   "cell_type": "code",
   "execution_count": 28,
   "id": "c77ee3e1-b44d-466a-858e-8e1666b78fb9",
   "metadata": {},
   "outputs": [
    {
     "data": {
      "text/html": [
       "<div>\n",
       "<style scoped>\n",
       "    .dataframe tbody tr th:only-of-type {\n",
       "        vertical-align: middle;\n",
       "    }\n",
       "\n",
       "    .dataframe tbody tr th {\n",
       "        vertical-align: top;\n",
       "    }\n",
       "\n",
       "    .dataframe thead th {\n",
       "        text-align: right;\n",
       "    }\n",
       "</style>\n",
       "<table border=\"1\" class=\"dataframe\">\n",
       "  <thead>\n",
       "    <tr style=\"text-align: right;\">\n",
       "      <th></th>\n",
       "      <th>user_id</th>\n",
       "      <th>status_id</th>\n",
       "      <th>screen_name</th>\n",
       "      <th>account.type</th>\n",
       "      <th>class_type</th>\n",
       "      <th>account_encoded</th>\n",
       "      <th>new_col</th>\n",
       "      <th>mapped_col</th>\n",
       "    </tr>\n",
       "  </thead>\n",
       "  <tbody>\n",
       "    <tr>\n",
       "      <th>0</th>\n",
       "      <td>1110407881030017024</td>\n",
       "      <td>1208265880146046976</td>\n",
       "      <td>bot#9</td>\n",
       "      <td>bot</td>\n",
       "      <td>others</td>\n",
       "      <td>1</td>\n",
       "      <td>2</td>\n",
       "      <td>2</td>\n",
       "    </tr>\n",
       "    <tr>\n",
       "      <th>1</th>\n",
       "      <td>3171109449</td>\n",
       "      <td>1091463908118941696</td>\n",
       "      <td>human#17</td>\n",
       "      <td>human</td>\n",
       "      <td>human</td>\n",
       "      <td>0</td>\n",
       "      <td>0</td>\n",
       "      <td>0</td>\n",
       "    </tr>\n",
       "    <tr>\n",
       "      <th>2</th>\n",
       "      <td>1110686081341632512</td>\n",
       "      <td>1199055191028293633</td>\n",
       "      <td>bot#23</td>\n",
       "      <td>bot</td>\n",
       "      <td>others</td>\n",
       "      <td>1</td>\n",
       "      <td>2</td>\n",
       "      <td>2</td>\n",
       "    </tr>\n",
       "    <tr>\n",
       "      <th>3</th>\n",
       "      <td>1110307772783124480</td>\n",
       "      <td>1214698264701722626</td>\n",
       "      <td>bot#1</td>\n",
       "      <td>bot</td>\n",
       "      <td>others</td>\n",
       "      <td>1</td>\n",
       "      <td>2</td>\n",
       "      <td>2</td>\n",
       "    </tr>\n",
       "    <tr>\n",
       "      <th>4</th>\n",
       "      <td>979586167405363200</td>\n",
       "      <td>1209229478934695937</td>\n",
       "      <td>bot#11</td>\n",
       "      <td>bot</td>\n",
       "      <td>rnn</td>\n",
       "      <td>1</td>\n",
       "      <td>2</td>\n",
       "      <td>2</td>\n",
       "    </tr>\n",
       "    <tr>\n",
       "      <th>...</th>\n",
       "      <td>...</td>\n",
       "      <td>...</td>\n",
       "      <td>...</td>\n",
       "      <td>...</td>\n",
       "      <td>...</td>\n",
       "      <td>...</td>\n",
       "      <td>...</td>\n",
       "      <td>...</td>\n",
       "    </tr>\n",
       "    <tr>\n",
       "      <th>20707</th>\n",
       "      <td>1197916267975335939</td>\n",
       "      <td>1204245032917700608</td>\n",
       "      <td>bot#12</td>\n",
       "      <td>bot</td>\n",
       "      <td>rnn</td>\n",
       "      <td>1</td>\n",
       "      <td>2</td>\n",
       "      <td>2</td>\n",
       "    </tr>\n",
       "    <tr>\n",
       "      <th>20708</th>\n",
       "      <td>1197916267975335939</td>\n",
       "      <td>1207011474243309570</td>\n",
       "      <td>bot#12</td>\n",
       "      <td>bot</td>\n",
       "      <td>rnn</td>\n",
       "      <td>1</td>\n",
       "      <td>2</td>\n",
       "      <td>2</td>\n",
       "    </tr>\n",
       "    <tr>\n",
       "      <th>20709</th>\n",
       "      <td>705113652471439361</td>\n",
       "      <td>715558455285837824</td>\n",
       "      <td>bot#16</td>\n",
       "      <td>bot</td>\n",
       "      <td>rnn</td>\n",
       "      <td>1</td>\n",
       "      <td>2</td>\n",
       "      <td>2</td>\n",
       "    </tr>\n",
       "    <tr>\n",
       "      <th>20710</th>\n",
       "      <td>262794965</td>\n",
       "      <td>812868913239199745</td>\n",
       "      <td>human#8</td>\n",
       "      <td>human</td>\n",
       "      <td>human</td>\n",
       "      <td>0</td>\n",
       "      <td>0</td>\n",
       "      <td>0</td>\n",
       "    </tr>\n",
       "    <tr>\n",
       "      <th>20711</th>\n",
       "      <td>979586167405363200</td>\n",
       "      <td>1194703766303338496</td>\n",
       "      <td>bot#11</td>\n",
       "      <td>bot</td>\n",
       "      <td>rnn</td>\n",
       "      <td>1</td>\n",
       "      <td>2</td>\n",
       "      <td>2</td>\n",
       "    </tr>\n",
       "  </tbody>\n",
       "</table>\n",
       "<p>20712 rows × 8 columns</p>\n",
       "</div>"
      ],
      "text/plain": [
       "                   user_id            status_id screen_name account.type  \\\n",
       "0      1110407881030017024  1208265880146046976       bot#9          bot   \n",
       "1               3171109449  1091463908118941696    human#17        human   \n",
       "2      1110686081341632512  1199055191028293633      bot#23          bot   \n",
       "3      1110307772783124480  1214698264701722626       bot#1          bot   \n",
       "4       979586167405363200  1209229478934695937      bot#11          bot   \n",
       "...                    ...                  ...         ...          ...   \n",
       "20707  1197916267975335939  1204245032917700608      bot#12          bot   \n",
       "20708  1197916267975335939  1207011474243309570      bot#12          bot   \n",
       "20709   705113652471439361   715558455285837824      bot#16          bot   \n",
       "20710            262794965   812868913239199745     human#8        human   \n",
       "20711   979586167405363200  1194703766303338496      bot#11          bot   \n",
       "\n",
       "      class_type  account_encoded  new_col  mapped_col  \n",
       "0         others                1        2           2  \n",
       "1          human                0        0           0  \n",
       "2         others                1        2           2  \n",
       "3         others                1        2           2  \n",
       "4            rnn                1        2           2  \n",
       "...          ...              ...      ...         ...  \n",
       "20707        rnn                1        2           2  \n",
       "20708        rnn                1        2           2  \n",
       "20709        rnn                1        2           2  \n",
       "20710      human                0        0           0  \n",
       "20711        rnn                1        2           2  \n",
       "\n",
       "[20712 rows x 8 columns]"
      ]
     },
     "execution_count": 28,
     "metadata": {},
     "output_type": "execute_result"
    }
   ],
   "source": [
    "df[\"mapped_col\"] = df[\"account_encoded\"].map(lambda x: x * 2)\n",
    "df"
   ]
  },
  {
   "cell_type": "markdown",
   "id": "fd4a3e1b-cf97-4520-8e36-59ad648a8359",
   "metadata": {},
   "source": [
    "### Filter"
   ]
  },
  {
   "cell_type": "code",
   "execution_count": 29,
   "id": "0aa303d3-379a-4223-adac-da21e0c3b4a6",
   "metadata": {},
   "outputs": [
    {
     "data": {
      "text/html": [
       "<div>\n",
       "<style scoped>\n",
       "    .dataframe tbody tr th:only-of-type {\n",
       "        vertical-align: middle;\n",
       "    }\n",
       "\n",
       "    .dataframe tbody tr th {\n",
       "        vertical-align: top;\n",
       "    }\n",
       "\n",
       "    .dataframe thead th {\n",
       "        text-align: right;\n",
       "    }\n",
       "</style>\n",
       "<table border=\"1\" class=\"dataframe\">\n",
       "  <thead>\n",
       "    <tr style=\"text-align: right;\">\n",
       "      <th></th>\n",
       "      <th>user_id</th>\n",
       "      <th>status_id</th>\n",
       "      <th>screen_name</th>\n",
       "      <th>account.type</th>\n",
       "      <th>class_type</th>\n",
       "      <th>account_encoded</th>\n",
       "      <th>new_col</th>\n",
       "      <th>mapped_col</th>\n",
       "    </tr>\n",
       "  </thead>\n",
       "  <tbody>\n",
       "    <tr>\n",
       "      <th>0</th>\n",
       "      <td>1110407881030017024</td>\n",
       "      <td>1208265880146046976</td>\n",
       "      <td>bot#9</td>\n",
       "      <td>bot</td>\n",
       "      <td>others</td>\n",
       "      <td>1</td>\n",
       "      <td>2</td>\n",
       "      <td>2</td>\n",
       "    </tr>\n",
       "    <tr>\n",
       "      <th>2</th>\n",
       "      <td>1110686081341632512</td>\n",
       "      <td>1199055191028293633</td>\n",
       "      <td>bot#23</td>\n",
       "      <td>bot</td>\n",
       "      <td>others</td>\n",
       "      <td>1</td>\n",
       "      <td>2</td>\n",
       "      <td>2</td>\n",
       "    </tr>\n",
       "    <tr>\n",
       "      <th>3</th>\n",
       "      <td>1110307772783124480</td>\n",
       "      <td>1214698264701722626</td>\n",
       "      <td>bot#1</td>\n",
       "      <td>bot</td>\n",
       "      <td>others</td>\n",
       "      <td>1</td>\n",
       "      <td>2</td>\n",
       "      <td>2</td>\n",
       "    </tr>\n",
       "    <tr>\n",
       "      <th>4</th>\n",
       "      <td>979586167405363200</td>\n",
       "      <td>1209229478934695937</td>\n",
       "      <td>bot#11</td>\n",
       "      <td>bot</td>\n",
       "      <td>rnn</td>\n",
       "      <td>1</td>\n",
       "      <td>2</td>\n",
       "      <td>2</td>\n",
       "    </tr>\n",
       "    <tr>\n",
       "      <th>6</th>\n",
       "      <td>1148250906166726656</td>\n",
       "      <td>1199866315504308224</td>\n",
       "      <td>bot#2</td>\n",
       "      <td>bot</td>\n",
       "      <td>gpt2</td>\n",
       "      <td>1</td>\n",
       "      <td>2</td>\n",
       "      <td>2</td>\n",
       "    </tr>\n",
       "    <tr>\n",
       "      <th>...</th>\n",
       "      <td>...</td>\n",
       "      <td>...</td>\n",
       "      <td>...</td>\n",
       "      <td>...</td>\n",
       "      <td>...</td>\n",
       "      <td>...</td>\n",
       "      <td>...</td>\n",
       "      <td>...</td>\n",
       "    </tr>\n",
       "    <tr>\n",
       "      <th>20705</th>\n",
       "      <td>979586167405363200</td>\n",
       "      <td>1218047585362960385</td>\n",
       "      <td>bot#11</td>\n",
       "      <td>bot</td>\n",
       "      <td>rnn</td>\n",
       "      <td>1</td>\n",
       "      <td>2</td>\n",
       "      <td>2</td>\n",
       "    </tr>\n",
       "    <tr>\n",
       "      <th>20707</th>\n",
       "      <td>1197916267975335939</td>\n",
       "      <td>1204245032917700608</td>\n",
       "      <td>bot#12</td>\n",
       "      <td>bot</td>\n",
       "      <td>rnn</td>\n",
       "      <td>1</td>\n",
       "      <td>2</td>\n",
       "      <td>2</td>\n",
       "    </tr>\n",
       "    <tr>\n",
       "      <th>20708</th>\n",
       "      <td>1197916267975335939</td>\n",
       "      <td>1207011474243309570</td>\n",
       "      <td>bot#12</td>\n",
       "      <td>bot</td>\n",
       "      <td>rnn</td>\n",
       "      <td>1</td>\n",
       "      <td>2</td>\n",
       "      <td>2</td>\n",
       "    </tr>\n",
       "    <tr>\n",
       "      <th>20709</th>\n",
       "      <td>705113652471439361</td>\n",
       "      <td>715558455285837824</td>\n",
       "      <td>bot#16</td>\n",
       "      <td>bot</td>\n",
       "      <td>rnn</td>\n",
       "      <td>1</td>\n",
       "      <td>2</td>\n",
       "      <td>2</td>\n",
       "    </tr>\n",
       "    <tr>\n",
       "      <th>20711</th>\n",
       "      <td>979586167405363200</td>\n",
       "      <td>1194703766303338496</td>\n",
       "      <td>bot#11</td>\n",
       "      <td>bot</td>\n",
       "      <td>rnn</td>\n",
       "      <td>1</td>\n",
       "      <td>2</td>\n",
       "      <td>2</td>\n",
       "    </tr>\n",
       "  </tbody>\n",
       "</table>\n",
       "<p>10354 rows × 8 columns</p>\n",
       "</div>"
      ],
      "text/plain": [
       "                   user_id            status_id screen_name account.type  \\\n",
       "0      1110407881030017024  1208265880146046976       bot#9          bot   \n",
       "2      1110686081341632512  1199055191028293633      bot#23          bot   \n",
       "3      1110307772783124480  1214698264701722626       bot#1          bot   \n",
       "4       979586167405363200  1209229478934695937      bot#11          bot   \n",
       "6      1148250906166726656  1199866315504308224       bot#2          bot   \n",
       "...                    ...                  ...         ...          ...   \n",
       "20705   979586167405363200  1218047585362960385      bot#11          bot   \n",
       "20707  1197916267975335939  1204245032917700608      bot#12          bot   \n",
       "20708  1197916267975335939  1207011474243309570      bot#12          bot   \n",
       "20709   705113652471439361   715558455285837824      bot#16          bot   \n",
       "20711   979586167405363200  1194703766303338496      bot#11          bot   \n",
       "\n",
       "      class_type  account_encoded  new_col  mapped_col  \n",
       "0         others                1        2           2  \n",
       "2         others                1        2           2  \n",
       "3         others                1        2           2  \n",
       "4            rnn                1        2           2  \n",
       "6           gpt2                1        2           2  \n",
       "...          ...              ...      ...         ...  \n",
       "20705        rnn                1        2           2  \n",
       "20707        rnn                1        2           2  \n",
       "20708        rnn                1        2           2  \n",
       "20709        rnn                1        2           2  \n",
       "20711        rnn                1        2           2  \n",
       "\n",
       "[10354 rows x 8 columns]"
      ]
     },
     "execution_count": 29,
     "metadata": {},
     "output_type": "execute_result"
    }
   ],
   "source": [
    "df_filtered = df[df[\"account_encoded\"] > np.mean(df[\"account_encoded\"])]\n",
    "df_filtered"
   ]
  },
  {
   "cell_type": "markdown",
   "id": "3e5567b5-7a92-475e-82e7-4f4cacf523af",
   "metadata": {},
   "source": [
    "### Reduce"
   ]
  },
  {
   "cell_type": "code",
   "execution_count": 30,
   "id": "54fd4bb2-ab79-4ba7-8427-72ac8281d0c4",
   "metadata": {},
   "outputs": [
    {
     "data": {
      "text/plain": [
       "np.int64(10354)"
      ]
     },
     "execution_count": 30,
     "metadata": {},
     "output_type": "execute_result"
    }
   ],
   "source": [
    "reduced_col_sum = df[\"account_encoded\"].sum()\n",
    "reduced_col_sum"
   ]
  },
  {
   "cell_type": "markdown",
   "id": "42f20dd5-c54f-4628-89c0-8276d4fc52f7",
   "metadata": {},
   "source": [
    "### Lambda"
   ]
  },
  {
   "cell_type": "code",
   "execution_count": 31,
   "id": "0b42c4e3-519f-4957-ad74-974a648a9551",
   "metadata": {},
   "outputs": [
    {
     "data": {
      "text/html": [
       "<div>\n",
       "<style scoped>\n",
       "    .dataframe tbody tr th:only-of-type {\n",
       "        vertical-align: middle;\n",
       "    }\n",
       "\n",
       "    .dataframe tbody tr th {\n",
       "        vertical-align: top;\n",
       "    }\n",
       "\n",
       "    .dataframe thead th {\n",
       "        text-align: right;\n",
       "    }\n",
       "</style>\n",
       "<table border=\"1\" class=\"dataframe\">\n",
       "  <thead>\n",
       "    <tr style=\"text-align: right;\">\n",
       "      <th></th>\n",
       "      <th>user_id</th>\n",
       "      <th>status_id</th>\n",
       "      <th>screen_name</th>\n",
       "      <th>account.type</th>\n",
       "      <th>class_type</th>\n",
       "      <th>account_encoded</th>\n",
       "      <th>new_col</th>\n",
       "      <th>mapped_col</th>\n",
       "      <th>lambda_col</th>\n",
       "    </tr>\n",
       "  </thead>\n",
       "  <tbody>\n",
       "    <tr>\n",
       "      <th>0</th>\n",
       "      <td>1110407881030017024</td>\n",
       "      <td>1208265880146046976</td>\n",
       "      <td>bot#9</td>\n",
       "      <td>bot</td>\n",
       "      <td>others</td>\n",
       "      <td>1</td>\n",
       "      <td>2</td>\n",
       "      <td>2</td>\n",
       "      <td>3</td>\n",
       "    </tr>\n",
       "    <tr>\n",
       "      <th>1</th>\n",
       "      <td>3171109449</td>\n",
       "      <td>1091463908118941696</td>\n",
       "      <td>human#17</td>\n",
       "      <td>human</td>\n",
       "      <td>human</td>\n",
       "      <td>0</td>\n",
       "      <td>0</td>\n",
       "      <td>0</td>\n",
       "      <td>0</td>\n",
       "    </tr>\n",
       "    <tr>\n",
       "      <th>2</th>\n",
       "      <td>1110686081341632512</td>\n",
       "      <td>1199055191028293633</td>\n",
       "      <td>bot#23</td>\n",
       "      <td>bot</td>\n",
       "      <td>others</td>\n",
       "      <td>1</td>\n",
       "      <td>2</td>\n",
       "      <td>2</td>\n",
       "      <td>3</td>\n",
       "    </tr>\n",
       "    <tr>\n",
       "      <th>3</th>\n",
       "      <td>1110307772783124480</td>\n",
       "      <td>1214698264701722626</td>\n",
       "      <td>bot#1</td>\n",
       "      <td>bot</td>\n",
       "      <td>others</td>\n",
       "      <td>1</td>\n",
       "      <td>2</td>\n",
       "      <td>2</td>\n",
       "      <td>3</td>\n",
       "    </tr>\n",
       "    <tr>\n",
       "      <th>4</th>\n",
       "      <td>979586167405363200</td>\n",
       "      <td>1209229478934695937</td>\n",
       "      <td>bot#11</td>\n",
       "      <td>bot</td>\n",
       "      <td>rnn</td>\n",
       "      <td>1</td>\n",
       "      <td>2</td>\n",
       "      <td>2</td>\n",
       "      <td>3</td>\n",
       "    </tr>\n",
       "    <tr>\n",
       "      <th>...</th>\n",
       "      <td>...</td>\n",
       "      <td>...</td>\n",
       "      <td>...</td>\n",
       "      <td>...</td>\n",
       "      <td>...</td>\n",
       "      <td>...</td>\n",
       "      <td>...</td>\n",
       "      <td>...</td>\n",
       "      <td>...</td>\n",
       "    </tr>\n",
       "    <tr>\n",
       "      <th>20707</th>\n",
       "      <td>1197916267975335939</td>\n",
       "      <td>1204245032917700608</td>\n",
       "      <td>bot#12</td>\n",
       "      <td>bot</td>\n",
       "      <td>rnn</td>\n",
       "      <td>1</td>\n",
       "      <td>2</td>\n",
       "      <td>2</td>\n",
       "      <td>3</td>\n",
       "    </tr>\n",
       "    <tr>\n",
       "      <th>20708</th>\n",
       "      <td>1197916267975335939</td>\n",
       "      <td>1207011474243309570</td>\n",
       "      <td>bot#12</td>\n",
       "      <td>bot</td>\n",
       "      <td>rnn</td>\n",
       "      <td>1</td>\n",
       "      <td>2</td>\n",
       "      <td>2</td>\n",
       "      <td>3</td>\n",
       "    </tr>\n",
       "    <tr>\n",
       "      <th>20709</th>\n",
       "      <td>705113652471439361</td>\n",
       "      <td>715558455285837824</td>\n",
       "      <td>bot#16</td>\n",
       "      <td>bot</td>\n",
       "      <td>rnn</td>\n",
       "      <td>1</td>\n",
       "      <td>2</td>\n",
       "      <td>2</td>\n",
       "      <td>3</td>\n",
       "    </tr>\n",
       "    <tr>\n",
       "      <th>20710</th>\n",
       "      <td>262794965</td>\n",
       "      <td>812868913239199745</td>\n",
       "      <td>human#8</td>\n",
       "      <td>human</td>\n",
       "      <td>human</td>\n",
       "      <td>0</td>\n",
       "      <td>0</td>\n",
       "      <td>0</td>\n",
       "      <td>0</td>\n",
       "    </tr>\n",
       "    <tr>\n",
       "      <th>20711</th>\n",
       "      <td>979586167405363200</td>\n",
       "      <td>1194703766303338496</td>\n",
       "      <td>bot#11</td>\n",
       "      <td>bot</td>\n",
       "      <td>rnn</td>\n",
       "      <td>1</td>\n",
       "      <td>2</td>\n",
       "      <td>2</td>\n",
       "      <td>3</td>\n",
       "    </tr>\n",
       "  </tbody>\n",
       "</table>\n",
       "<p>20712 rows × 9 columns</p>\n",
       "</div>"
      ],
      "text/plain": [
       "                   user_id            status_id screen_name account.type  \\\n",
       "0      1110407881030017024  1208265880146046976       bot#9          bot   \n",
       "1               3171109449  1091463908118941696    human#17        human   \n",
       "2      1110686081341632512  1199055191028293633      bot#23          bot   \n",
       "3      1110307772783124480  1214698264701722626       bot#1          bot   \n",
       "4       979586167405363200  1209229478934695937      bot#11          bot   \n",
       "...                    ...                  ...         ...          ...   \n",
       "20707  1197916267975335939  1204245032917700608      bot#12          bot   \n",
       "20708  1197916267975335939  1207011474243309570      bot#12          bot   \n",
       "20709   705113652471439361   715558455285837824      bot#16          bot   \n",
       "20710            262794965   812868913239199745     human#8        human   \n",
       "20711   979586167405363200  1194703766303338496      bot#11          bot   \n",
       "\n",
       "      class_type  account_encoded  new_col  mapped_col  lambda_col  \n",
       "0         others                1        2           2           3  \n",
       "1          human                0        0           0           0  \n",
       "2         others                1        2           2           3  \n",
       "3         others                1        2           2           3  \n",
       "4            rnn                1        2           2           3  \n",
       "...          ...              ...      ...         ...         ...  \n",
       "20707        rnn                1        2           2           3  \n",
       "20708        rnn                1        2           2           3  \n",
       "20709        rnn                1        2           2           3  \n",
       "20710      human                0        0           0           0  \n",
       "20711        rnn                1        2           2           3  \n",
       "\n",
       "[20712 rows x 9 columns]"
      ]
     },
     "execution_count": 31,
     "metadata": {},
     "output_type": "execute_result"
    }
   ],
   "source": [
    "df[\"lambda_col\"] = df.apply(lambda row: row[\"account_encoded\"] * 3, axis=1)\n",
    "df"
   ]
  },
  {
   "cell_type": "markdown",
   "id": "651bf81c-956b-43cc-8da5-a50c2e726811",
   "metadata": {},
   "source": [
    "### Loc"
   ]
  },
  {
   "cell_type": "code",
   "execution_count": 32,
   "id": "a444dfc1-6037-4537-b10c-f8188a6115f1",
   "metadata": {},
   "outputs": [
    {
     "data": {
      "text/html": [
       "<div>\n",
       "<style scoped>\n",
       "    .dataframe tbody tr th:only-of-type {\n",
       "        vertical-align: middle;\n",
       "    }\n",
       "\n",
       "    .dataframe tbody tr th {\n",
       "        vertical-align: top;\n",
       "    }\n",
       "\n",
       "    .dataframe thead th {\n",
       "        text-align: right;\n",
       "    }\n",
       "</style>\n",
       "<table border=\"1\" class=\"dataframe\">\n",
       "  <thead>\n",
       "    <tr style=\"text-align: right;\">\n",
       "      <th></th>\n",
       "      <th>account.type</th>\n",
       "      <th>account_encoded</th>\n",
       "    </tr>\n",
       "  </thead>\n",
       "  <tbody>\n",
       "    <tr>\n",
       "      <th>0</th>\n",
       "      <td>bot</td>\n",
       "      <td>1</td>\n",
       "    </tr>\n",
       "    <tr>\n",
       "      <th>1</th>\n",
       "      <td>human</td>\n",
       "      <td>0</td>\n",
       "    </tr>\n",
       "    <tr>\n",
       "      <th>2</th>\n",
       "      <td>bot</td>\n",
       "      <td>1</td>\n",
       "    </tr>\n",
       "    <tr>\n",
       "      <th>3</th>\n",
       "      <td>bot</td>\n",
       "      <td>1</td>\n",
       "    </tr>\n",
       "    <tr>\n",
       "      <th>4</th>\n",
       "      <td>bot</td>\n",
       "      <td>1</td>\n",
       "    </tr>\n",
       "    <tr>\n",
       "      <th>5</th>\n",
       "      <td>human</td>\n",
       "      <td>0</td>\n",
       "    </tr>\n",
       "  </tbody>\n",
       "</table>\n",
       "</div>"
      ],
      "text/plain": [
       "  account.type  account_encoded\n",
       "0          bot                1\n",
       "1        human                0\n",
       "2          bot                1\n",
       "3          bot                1\n",
       "4          bot                1\n",
       "5        human                0"
      ]
     },
     "execution_count": 32,
     "metadata": {},
     "output_type": "execute_result"
    }
   ],
   "source": [
    "loc_df = df.loc[0:5, [ \"account.type\", \"account_encoded\"]]\n",
    "loc_df"
   ]
  },
  {
   "cell_type": "markdown",
   "id": "1f8016b4-9370-45c3-8d93-6820cf959a81",
   "metadata": {},
   "source": [
    "### Delete null rows"
   ]
  },
  {
   "cell_type": "code",
   "execution_count": 33,
   "id": "6358d68c-ec01-4379-9213-97cb5be37a00",
   "metadata": {},
   "outputs": [
    {
     "data": {
      "text/html": [
       "<div>\n",
       "<style scoped>\n",
       "    .dataframe tbody tr th:only-of-type {\n",
       "        vertical-align: middle;\n",
       "    }\n",
       "\n",
       "    .dataframe tbody tr th {\n",
       "        vertical-align: top;\n",
       "    }\n",
       "\n",
       "    .dataframe thead th {\n",
       "        text-align: right;\n",
       "    }\n",
       "</style>\n",
       "<table border=\"1\" class=\"dataframe\">\n",
       "  <thead>\n",
       "    <tr style=\"text-align: right;\">\n",
       "      <th></th>\n",
       "      <th>user_id</th>\n",
       "      <th>status_id</th>\n",
       "      <th>screen_name</th>\n",
       "      <th>account.type</th>\n",
       "      <th>class_type</th>\n",
       "      <th>account_encoded</th>\n",
       "      <th>new_col</th>\n",
       "      <th>mapped_col</th>\n",
       "      <th>lambda_col</th>\n",
       "    </tr>\n",
       "  </thead>\n",
       "  <tbody>\n",
       "    <tr>\n",
       "      <th>0</th>\n",
       "      <td>1110407881030017024</td>\n",
       "      <td>1208265880146046976</td>\n",
       "      <td>bot#9</td>\n",
       "      <td>bot</td>\n",
       "      <td>others</td>\n",
       "      <td>1</td>\n",
       "      <td>2</td>\n",
       "      <td>2</td>\n",
       "      <td>3</td>\n",
       "    </tr>\n",
       "    <tr>\n",
       "      <th>1</th>\n",
       "      <td>3171109449</td>\n",
       "      <td>1091463908118941696</td>\n",
       "      <td>human#17</td>\n",
       "      <td>human</td>\n",
       "      <td>human</td>\n",
       "      <td>0</td>\n",
       "      <td>0</td>\n",
       "      <td>0</td>\n",
       "      <td>0</td>\n",
       "    </tr>\n",
       "    <tr>\n",
       "      <th>2</th>\n",
       "      <td>1110686081341632512</td>\n",
       "      <td>1199055191028293633</td>\n",
       "      <td>bot#23</td>\n",
       "      <td>bot</td>\n",
       "      <td>others</td>\n",
       "      <td>1</td>\n",
       "      <td>2</td>\n",
       "      <td>2</td>\n",
       "      <td>3</td>\n",
       "    </tr>\n",
       "    <tr>\n",
       "      <th>3</th>\n",
       "      <td>1110307772783124480</td>\n",
       "      <td>1214698264701722626</td>\n",
       "      <td>bot#1</td>\n",
       "      <td>bot</td>\n",
       "      <td>others</td>\n",
       "      <td>1</td>\n",
       "      <td>2</td>\n",
       "      <td>2</td>\n",
       "      <td>3</td>\n",
       "    </tr>\n",
       "    <tr>\n",
       "      <th>4</th>\n",
       "      <td>979586167405363200</td>\n",
       "      <td>1209229478934695937</td>\n",
       "      <td>bot#11</td>\n",
       "      <td>bot</td>\n",
       "      <td>rnn</td>\n",
       "      <td>1</td>\n",
       "      <td>2</td>\n",
       "      <td>2</td>\n",
       "      <td>3</td>\n",
       "    </tr>\n",
       "    <tr>\n",
       "      <th>...</th>\n",
       "      <td>...</td>\n",
       "      <td>...</td>\n",
       "      <td>...</td>\n",
       "      <td>...</td>\n",
       "      <td>...</td>\n",
       "      <td>...</td>\n",
       "      <td>...</td>\n",
       "      <td>...</td>\n",
       "      <td>...</td>\n",
       "    </tr>\n",
       "    <tr>\n",
       "      <th>20707</th>\n",
       "      <td>1197916267975335939</td>\n",
       "      <td>1204245032917700608</td>\n",
       "      <td>bot#12</td>\n",
       "      <td>bot</td>\n",
       "      <td>rnn</td>\n",
       "      <td>1</td>\n",
       "      <td>2</td>\n",
       "      <td>2</td>\n",
       "      <td>3</td>\n",
       "    </tr>\n",
       "    <tr>\n",
       "      <th>20708</th>\n",
       "      <td>1197916267975335939</td>\n",
       "      <td>1207011474243309570</td>\n",
       "      <td>bot#12</td>\n",
       "      <td>bot</td>\n",
       "      <td>rnn</td>\n",
       "      <td>1</td>\n",
       "      <td>2</td>\n",
       "      <td>2</td>\n",
       "      <td>3</td>\n",
       "    </tr>\n",
       "    <tr>\n",
       "      <th>20709</th>\n",
       "      <td>705113652471439361</td>\n",
       "      <td>715558455285837824</td>\n",
       "      <td>bot#16</td>\n",
       "      <td>bot</td>\n",
       "      <td>rnn</td>\n",
       "      <td>1</td>\n",
       "      <td>2</td>\n",
       "      <td>2</td>\n",
       "      <td>3</td>\n",
       "    </tr>\n",
       "    <tr>\n",
       "      <th>20710</th>\n",
       "      <td>262794965</td>\n",
       "      <td>812868913239199745</td>\n",
       "      <td>human#8</td>\n",
       "      <td>human</td>\n",
       "      <td>human</td>\n",
       "      <td>0</td>\n",
       "      <td>0</td>\n",
       "      <td>0</td>\n",
       "      <td>0</td>\n",
       "    </tr>\n",
       "    <tr>\n",
       "      <th>20711</th>\n",
       "      <td>979586167405363200</td>\n",
       "      <td>1194703766303338496</td>\n",
       "      <td>bot#11</td>\n",
       "      <td>bot</td>\n",
       "      <td>rnn</td>\n",
       "      <td>1</td>\n",
       "      <td>2</td>\n",
       "      <td>2</td>\n",
       "      <td>3</td>\n",
       "    </tr>\n",
       "  </tbody>\n",
       "</table>\n",
       "<p>20712 rows × 9 columns</p>\n",
       "</div>"
      ],
      "text/plain": [
       "                   user_id            status_id screen_name account.type  \\\n",
       "0      1110407881030017024  1208265880146046976       bot#9          bot   \n",
       "1               3171109449  1091463908118941696    human#17        human   \n",
       "2      1110686081341632512  1199055191028293633      bot#23          bot   \n",
       "3      1110307772783124480  1214698264701722626       bot#1          bot   \n",
       "4       979586167405363200  1209229478934695937      bot#11          bot   \n",
       "...                    ...                  ...         ...          ...   \n",
       "20707  1197916267975335939  1204245032917700608      bot#12          bot   \n",
       "20708  1197916267975335939  1207011474243309570      bot#12          bot   \n",
       "20709   705113652471439361   715558455285837824      bot#16          bot   \n",
       "20710            262794965   812868913239199745     human#8        human   \n",
       "20711   979586167405363200  1194703766303338496      bot#11          bot   \n",
       "\n",
       "      class_type  account_encoded  new_col  mapped_col  lambda_col  \n",
       "0         others                1        2           2           3  \n",
       "1          human                0        0           0           0  \n",
       "2         others                1        2           2           3  \n",
       "3         others                1        2           2           3  \n",
       "4            rnn                1        2           2           3  \n",
       "...          ...              ...      ...         ...         ...  \n",
       "20707        rnn                1        2           2           3  \n",
       "20708        rnn                1        2           2           3  \n",
       "20709        rnn                1        2           2           3  \n",
       "20710      human                0        0           0           0  \n",
       "20711        rnn                1        2           2           3  \n",
       "\n",
       "[20712 rows x 9 columns]"
      ]
     },
     "execution_count": 33,
     "metadata": {},
     "output_type": "execute_result"
    }
   ],
   "source": [
    "df_no_nulls = df.dropna()\n",
    "df_no_nulls"
   ]
  },
  {
   "cell_type": "markdown",
   "id": "8dd65041-b367-4667-b503-563103fcd480",
   "metadata": {},
   "source": [
    "### Head / Tail"
   ]
  },
  {
   "cell_type": "code",
   "execution_count": 34,
   "id": "2b35f80c-932e-40f0-a757-4a58db2bfde8",
   "metadata": {},
   "outputs": [
    {
     "data": {
      "text/html": [
       "<div>\n",
       "<style scoped>\n",
       "    .dataframe tbody tr th:only-of-type {\n",
       "        vertical-align: middle;\n",
       "    }\n",
       "\n",
       "    .dataframe tbody tr th {\n",
       "        vertical-align: top;\n",
       "    }\n",
       "\n",
       "    .dataframe thead th {\n",
       "        text-align: right;\n",
       "    }\n",
       "</style>\n",
       "<table border=\"1\" class=\"dataframe\">\n",
       "  <thead>\n",
       "    <tr style=\"text-align: right;\">\n",
       "      <th></th>\n",
       "      <th>user_id</th>\n",
       "      <th>status_id</th>\n",
       "      <th>screen_name</th>\n",
       "      <th>account.type</th>\n",
       "      <th>class_type</th>\n",
       "      <th>account_encoded</th>\n",
       "      <th>new_col</th>\n",
       "      <th>mapped_col</th>\n",
       "      <th>lambda_col</th>\n",
       "    </tr>\n",
       "  </thead>\n",
       "  <tbody>\n",
       "    <tr>\n",
       "      <th>0</th>\n",
       "      <td>1110407881030017024</td>\n",
       "      <td>1208265880146046976</td>\n",
       "      <td>bot#9</td>\n",
       "      <td>bot</td>\n",
       "      <td>others</td>\n",
       "      <td>1</td>\n",
       "      <td>2</td>\n",
       "      <td>2</td>\n",
       "      <td>3</td>\n",
       "    </tr>\n",
       "    <tr>\n",
       "      <th>1</th>\n",
       "      <td>3171109449</td>\n",
       "      <td>1091463908118941696</td>\n",
       "      <td>human#17</td>\n",
       "      <td>human</td>\n",
       "      <td>human</td>\n",
       "      <td>0</td>\n",
       "      <td>0</td>\n",
       "      <td>0</td>\n",
       "      <td>0</td>\n",
       "    </tr>\n",
       "    <tr>\n",
       "      <th>2</th>\n",
       "      <td>1110686081341632512</td>\n",
       "      <td>1199055191028293633</td>\n",
       "      <td>bot#23</td>\n",
       "      <td>bot</td>\n",
       "      <td>others</td>\n",
       "      <td>1</td>\n",
       "      <td>2</td>\n",
       "      <td>2</td>\n",
       "      <td>3</td>\n",
       "    </tr>\n",
       "    <tr>\n",
       "      <th>3</th>\n",
       "      <td>1110307772783124480</td>\n",
       "      <td>1214698264701722626</td>\n",
       "      <td>bot#1</td>\n",
       "      <td>bot</td>\n",
       "      <td>others</td>\n",
       "      <td>1</td>\n",
       "      <td>2</td>\n",
       "      <td>2</td>\n",
       "      <td>3</td>\n",
       "    </tr>\n",
       "    <tr>\n",
       "      <th>4</th>\n",
       "      <td>979586167405363200</td>\n",
       "      <td>1209229478934695937</td>\n",
       "      <td>bot#11</td>\n",
       "      <td>bot</td>\n",
       "      <td>rnn</td>\n",
       "      <td>1</td>\n",
       "      <td>2</td>\n",
       "      <td>2</td>\n",
       "      <td>3</td>\n",
       "    </tr>\n",
       "  </tbody>\n",
       "</table>\n",
       "</div>"
      ],
      "text/plain": [
       "               user_id            status_id screen_name account.type  \\\n",
       "0  1110407881030017024  1208265880146046976       bot#9          bot   \n",
       "1           3171109449  1091463908118941696    human#17        human   \n",
       "2  1110686081341632512  1199055191028293633      bot#23          bot   \n",
       "3  1110307772783124480  1214698264701722626       bot#1          bot   \n",
       "4   979586167405363200  1209229478934695937      bot#11          bot   \n",
       "\n",
       "  class_type  account_encoded  new_col  mapped_col  lambda_col  \n",
       "0     others                1        2           2           3  \n",
       "1      human                0        0           0           0  \n",
       "2     others                1        2           2           3  \n",
       "3     others                1        2           2           3  \n",
       "4        rnn                1        2           2           3  "
      ]
     },
     "execution_count": 34,
     "metadata": {},
     "output_type": "execute_result"
    }
   ],
   "source": [
    "head_df = df.head()\n",
    "head_df"
   ]
  },
  {
   "cell_type": "code",
   "execution_count": 35,
   "id": "57f92463-6fc8-4b62-8aa1-d1e580c87461",
   "metadata": {},
   "outputs": [
    {
     "data": {
      "text/html": [
       "<div>\n",
       "<style scoped>\n",
       "    .dataframe tbody tr th:only-of-type {\n",
       "        vertical-align: middle;\n",
       "    }\n",
       "\n",
       "    .dataframe tbody tr th {\n",
       "        vertical-align: top;\n",
       "    }\n",
       "\n",
       "    .dataframe thead th {\n",
       "        text-align: right;\n",
       "    }\n",
       "</style>\n",
       "<table border=\"1\" class=\"dataframe\">\n",
       "  <thead>\n",
       "    <tr style=\"text-align: right;\">\n",
       "      <th></th>\n",
       "      <th>user_id</th>\n",
       "      <th>status_id</th>\n",
       "      <th>screen_name</th>\n",
       "      <th>account.type</th>\n",
       "      <th>class_type</th>\n",
       "      <th>account_encoded</th>\n",
       "      <th>new_col</th>\n",
       "      <th>mapped_col</th>\n",
       "      <th>lambda_col</th>\n",
       "    </tr>\n",
       "  </thead>\n",
       "  <tbody>\n",
       "    <tr>\n",
       "      <th>20707</th>\n",
       "      <td>1197916267975335939</td>\n",
       "      <td>1204245032917700608</td>\n",
       "      <td>bot#12</td>\n",
       "      <td>bot</td>\n",
       "      <td>rnn</td>\n",
       "      <td>1</td>\n",
       "      <td>2</td>\n",
       "      <td>2</td>\n",
       "      <td>3</td>\n",
       "    </tr>\n",
       "    <tr>\n",
       "      <th>20708</th>\n",
       "      <td>1197916267975335939</td>\n",
       "      <td>1207011474243309570</td>\n",
       "      <td>bot#12</td>\n",
       "      <td>bot</td>\n",
       "      <td>rnn</td>\n",
       "      <td>1</td>\n",
       "      <td>2</td>\n",
       "      <td>2</td>\n",
       "      <td>3</td>\n",
       "    </tr>\n",
       "    <tr>\n",
       "      <th>20709</th>\n",
       "      <td>705113652471439361</td>\n",
       "      <td>715558455285837824</td>\n",
       "      <td>bot#16</td>\n",
       "      <td>bot</td>\n",
       "      <td>rnn</td>\n",
       "      <td>1</td>\n",
       "      <td>2</td>\n",
       "      <td>2</td>\n",
       "      <td>3</td>\n",
       "    </tr>\n",
       "    <tr>\n",
       "      <th>20710</th>\n",
       "      <td>262794965</td>\n",
       "      <td>812868913239199745</td>\n",
       "      <td>human#8</td>\n",
       "      <td>human</td>\n",
       "      <td>human</td>\n",
       "      <td>0</td>\n",
       "      <td>0</td>\n",
       "      <td>0</td>\n",
       "      <td>0</td>\n",
       "    </tr>\n",
       "    <tr>\n",
       "      <th>20711</th>\n",
       "      <td>979586167405363200</td>\n",
       "      <td>1194703766303338496</td>\n",
       "      <td>bot#11</td>\n",
       "      <td>bot</td>\n",
       "      <td>rnn</td>\n",
       "      <td>1</td>\n",
       "      <td>2</td>\n",
       "      <td>2</td>\n",
       "      <td>3</td>\n",
       "    </tr>\n",
       "  </tbody>\n",
       "</table>\n",
       "</div>"
      ],
      "text/plain": [
       "                   user_id            status_id screen_name account.type  \\\n",
       "20707  1197916267975335939  1204245032917700608      bot#12          bot   \n",
       "20708  1197916267975335939  1207011474243309570      bot#12          bot   \n",
       "20709   705113652471439361   715558455285837824      bot#16          bot   \n",
       "20710            262794965   812868913239199745     human#8        human   \n",
       "20711   979586167405363200  1194703766303338496      bot#11          bot   \n",
       "\n",
       "      class_type  account_encoded  new_col  mapped_col  lambda_col  \n",
       "20707        rnn                1        2           2           3  \n",
       "20708        rnn                1        2           2           3  \n",
       "20709        rnn                1        2           2           3  \n",
       "20710      human                0        0           0           0  \n",
       "20711        rnn                1        2           2           3  "
      ]
     },
     "execution_count": 35,
     "metadata": {},
     "output_type": "execute_result"
    }
   ],
   "source": [
    "tail_df = df.tail()\n",
    "tail_df"
   ]
  },
  {
   "cell_type": "markdown",
   "id": "8fcb7a56-39ff-46ee-b389-92d4c8c6a239",
   "metadata": {},
   "source": [
    "### Min, Max, Mode, Median, Mean"
   ]
  },
  {
   "cell_type": "code",
   "execution_count": 36,
   "id": "880fafec-cc89-4809-bea0-520e20c87123",
   "metadata": {},
   "outputs": [
    {
     "data": {
      "text/plain": [
       "np.int64(0)"
      ]
     },
     "execution_count": 36,
     "metadata": {},
     "output_type": "execute_result"
    }
   ],
   "source": [
    "min_val_pd = df[\"account_encoded\"].min()\n",
    "min_val_pd"
   ]
  },
  {
   "cell_type": "code",
   "execution_count": 37,
   "id": "177b6158-b493-4a1a-8d8d-bff426aa260a",
   "metadata": {},
   "outputs": [
    {
     "data": {
      "text/plain": [
       "np.int64(1)"
      ]
     },
     "execution_count": 37,
     "metadata": {},
     "output_type": "execute_result"
    }
   ],
   "source": [
    "max_val_pd = df[\"account_encoded\"].max()\n",
    "max_val_pd"
   ]
  },
  {
   "cell_type": "code",
   "execution_count": 38,
   "id": "7d75c560-864d-4eb5-9d42-719e4c6e88cf",
   "metadata": {},
   "outputs": [
    {
     "data": {
      "text/plain": [
       "np.int64(0)"
      ]
     },
     "execution_count": 38,
     "metadata": {},
     "output_type": "execute_result"
    }
   ],
   "source": [
    "mode_val_pd = df[\"account_encoded\"].mode().iloc[0]\n",
    "mode_val_pd"
   ]
  },
  {
   "cell_type": "code",
   "execution_count": 39,
   "id": "34d37f02-776d-499f-96f3-c9ee3314386d",
   "metadata": {},
   "outputs": [
    {
     "data": {
      "text/plain": [
       "np.float64(0.0)"
      ]
     },
     "execution_count": 39,
     "metadata": {},
     "output_type": "execute_result"
    }
   ],
   "source": [
    "median_val_pd = df[\"account_encoded\"].median()\n",
    "median_val_pd"
   ]
  },
  {
   "cell_type": "code",
   "execution_count": 40,
   "id": "afec71e2-de48-4de2-a4a3-924f0bab3ee2",
   "metadata": {},
   "outputs": [
    {
     "data": {
      "text/plain": [
       "np.float64(0.499903437620703)"
      ]
     },
     "execution_count": 40,
     "metadata": {},
     "output_type": "execute_result"
    }
   ],
   "source": [
    "mean_val_pd = df[\"account_encoded\"].mean()\n",
    "mean_val_pd"
   ]
  },
  {
   "cell_type": "markdown",
   "id": "5cdce113-ecd8-4e55-9fb8-b4df34c92e02",
   "metadata": {},
   "source": [
    "### Groupby"
   ]
  },
  {
   "cell_type": "code",
   "execution_count": 41,
   "id": "8c108b28-90fe-48af-a610-a11233c46e01",
   "metadata": {},
   "outputs": [
    {
     "data": {
      "text/plain": [
       "account.type\n",
       "bot      1.0\n",
       "human    0.0\n",
       "Name: account_encoded, dtype: float64"
      ]
     },
     "execution_count": 41,
     "metadata": {},
     "output_type": "execute_result"
    }
   ],
   "source": [
    "grouped_df = df.groupby(\"account.type\")[\"account_encoded\"].mean()\n",
    "grouped_df"
   ]
  },
  {
   "cell_type": "markdown",
   "id": "36012629-1262-4fc5-97b2-6578db152231",
   "metadata": {},
   "source": [
    "### Value counts"
   ]
  },
  {
   "cell_type": "code",
   "execution_count": 42,
   "id": "f5cb7eb4-e64a-49b8-ad12-88eb232af113",
   "metadata": {},
   "outputs": [
    {
     "data": {
      "text/plain": [
       "account.type\n",
       "human    10358\n",
       "bot      10354\n",
       "Name: count, dtype: int64"
      ]
     },
     "execution_count": 42,
     "metadata": {},
     "output_type": "execute_result"
    }
   ],
   "source": [
    "value_counts_df = df[\"account.type\"].value_counts()\n",
    "value_counts_df"
   ]
  },
  {
   "cell_type": "code",
   "execution_count": 43,
   "id": "a02ecba9-0c34-4c8c-b2d1-75e492bc5f5b",
   "metadata": {},
   "outputs": [
    {
     "data": {
      "text/plain": [
       "class_type\n",
       "human     10358\n",
       "others     3920\n",
       "rnn        3325\n",
       "gpt2       3109\n",
       "Name: count, dtype: int64"
      ]
     },
     "execution_count": 43,
     "metadata": {},
     "output_type": "execute_result"
    }
   ],
   "source": [
    "value_counts_df1 = df['class_type'].value_counts()\n",
    "value_counts_df1"
   ]
  },
  {
   "cell_type": "markdown",
   "id": "f6bbd6a5-2ab5-4372-a707-0f0efb3bab52",
   "metadata": {},
   "source": [
    "## ===== MISSING VALUES / OUTLIERS ====="
   ]
  },
  {
   "cell_type": "markdown",
   "id": "0e97c649-6090-450f-9840-16765fbe5434",
   "metadata": {},
   "source": [
    "## Missing values"
   ]
  },
  {
   "cell_type": "code",
   "execution_count": 44,
   "id": "4f3b3527-ed0f-4077-8c71-092255951542",
   "metadata": {},
   "outputs": [
    {
     "data": {
      "text/plain": [
       "user_id            0\n",
       "status_id          0\n",
       "screen_name        0\n",
       "account.type       0\n",
       "class_type         0\n",
       "account_encoded    0\n",
       "new_col            0\n",
       "mapped_col         0\n",
       "lambda_col         0\n",
       "dtype: int64"
      ]
     },
     "execution_count": 44,
     "metadata": {},
     "output_type": "execute_result"
    }
   ],
   "source": [
    "missing_values = df.isnull().sum()\n",
    "missing_values"
   ]
  },
  {
   "cell_type": "markdown",
   "id": "3fe855c6-e36f-4876-8721-87e9c96ef5db",
   "metadata": {},
   "source": [
    "## Fill missing values with mean"
   ]
  },
  {
   "cell_type": "code",
   "execution_count": 45,
   "id": "1b626445-1320-4483-a670-ac8dfd49f8ef",
   "metadata": {},
   "outputs": [
    {
     "data": {
      "text/html": [
       "<div>\n",
       "<style scoped>\n",
       "    .dataframe tbody tr th:only-of-type {\n",
       "        vertical-align: middle;\n",
       "    }\n",
       "\n",
       "    .dataframe tbody tr th {\n",
       "        vertical-align: top;\n",
       "    }\n",
       "\n",
       "    .dataframe thead th {\n",
       "        text-align: right;\n",
       "    }\n",
       "</style>\n",
       "<table border=\"1\" class=\"dataframe\">\n",
       "  <thead>\n",
       "    <tr style=\"text-align: right;\">\n",
       "      <th></th>\n",
       "      <th>user_id</th>\n",
       "      <th>status_id</th>\n",
       "      <th>screen_name</th>\n",
       "      <th>account.type</th>\n",
       "      <th>class_type</th>\n",
       "      <th>account_encoded</th>\n",
       "      <th>new_col</th>\n",
       "      <th>mapped_col</th>\n",
       "      <th>lambda_col</th>\n",
       "    </tr>\n",
       "  </thead>\n",
       "  <tbody>\n",
       "    <tr>\n",
       "      <th>0</th>\n",
       "      <td>1110407881030017024</td>\n",
       "      <td>1208265880146046976</td>\n",
       "      <td>bot#9</td>\n",
       "      <td>bot</td>\n",
       "      <td>others</td>\n",
       "      <td>1</td>\n",
       "      <td>2</td>\n",
       "      <td>2</td>\n",
       "      <td>3</td>\n",
       "    </tr>\n",
       "    <tr>\n",
       "      <th>1</th>\n",
       "      <td>3171109449</td>\n",
       "      <td>1091463908118941696</td>\n",
       "      <td>human#17</td>\n",
       "      <td>human</td>\n",
       "      <td>human</td>\n",
       "      <td>0</td>\n",
       "      <td>0</td>\n",
       "      <td>0</td>\n",
       "      <td>0</td>\n",
       "    </tr>\n",
       "    <tr>\n",
       "      <th>2</th>\n",
       "      <td>1110686081341632512</td>\n",
       "      <td>1199055191028293633</td>\n",
       "      <td>bot#23</td>\n",
       "      <td>bot</td>\n",
       "      <td>others</td>\n",
       "      <td>1</td>\n",
       "      <td>2</td>\n",
       "      <td>2</td>\n",
       "      <td>3</td>\n",
       "    </tr>\n",
       "    <tr>\n",
       "      <th>3</th>\n",
       "      <td>1110307772783124480</td>\n",
       "      <td>1214698264701722626</td>\n",
       "      <td>bot#1</td>\n",
       "      <td>bot</td>\n",
       "      <td>others</td>\n",
       "      <td>1</td>\n",
       "      <td>2</td>\n",
       "      <td>2</td>\n",
       "      <td>3</td>\n",
       "    </tr>\n",
       "    <tr>\n",
       "      <th>4</th>\n",
       "      <td>979586167405363200</td>\n",
       "      <td>1209229478934695937</td>\n",
       "      <td>bot#11</td>\n",
       "      <td>bot</td>\n",
       "      <td>rnn</td>\n",
       "      <td>1</td>\n",
       "      <td>2</td>\n",
       "      <td>2</td>\n",
       "      <td>3</td>\n",
       "    </tr>\n",
       "    <tr>\n",
       "      <th>...</th>\n",
       "      <td>...</td>\n",
       "      <td>...</td>\n",
       "      <td>...</td>\n",
       "      <td>...</td>\n",
       "      <td>...</td>\n",
       "      <td>...</td>\n",
       "      <td>...</td>\n",
       "      <td>...</td>\n",
       "      <td>...</td>\n",
       "    </tr>\n",
       "    <tr>\n",
       "      <th>20707</th>\n",
       "      <td>1197916267975335939</td>\n",
       "      <td>1204245032917700608</td>\n",
       "      <td>bot#12</td>\n",
       "      <td>bot</td>\n",
       "      <td>rnn</td>\n",
       "      <td>1</td>\n",
       "      <td>2</td>\n",
       "      <td>2</td>\n",
       "      <td>3</td>\n",
       "    </tr>\n",
       "    <tr>\n",
       "      <th>20708</th>\n",
       "      <td>1197916267975335939</td>\n",
       "      <td>1207011474243309570</td>\n",
       "      <td>bot#12</td>\n",
       "      <td>bot</td>\n",
       "      <td>rnn</td>\n",
       "      <td>1</td>\n",
       "      <td>2</td>\n",
       "      <td>2</td>\n",
       "      <td>3</td>\n",
       "    </tr>\n",
       "    <tr>\n",
       "      <th>20709</th>\n",
       "      <td>705113652471439361</td>\n",
       "      <td>715558455285837824</td>\n",
       "      <td>bot#16</td>\n",
       "      <td>bot</td>\n",
       "      <td>rnn</td>\n",
       "      <td>1</td>\n",
       "      <td>2</td>\n",
       "      <td>2</td>\n",
       "      <td>3</td>\n",
       "    </tr>\n",
       "    <tr>\n",
       "      <th>20710</th>\n",
       "      <td>262794965</td>\n",
       "      <td>812868913239199745</td>\n",
       "      <td>human#8</td>\n",
       "      <td>human</td>\n",
       "      <td>human</td>\n",
       "      <td>0</td>\n",
       "      <td>0</td>\n",
       "      <td>0</td>\n",
       "      <td>0</td>\n",
       "    </tr>\n",
       "    <tr>\n",
       "      <th>20711</th>\n",
       "      <td>979586167405363200</td>\n",
       "      <td>1194703766303338496</td>\n",
       "      <td>bot#11</td>\n",
       "      <td>bot</td>\n",
       "      <td>rnn</td>\n",
       "      <td>1</td>\n",
       "      <td>2</td>\n",
       "      <td>2</td>\n",
       "      <td>3</td>\n",
       "    </tr>\n",
       "  </tbody>\n",
       "</table>\n",
       "<p>20712 rows × 9 columns</p>\n",
       "</div>"
      ],
      "text/plain": [
       "                   user_id            status_id screen_name account.type  \\\n",
       "0      1110407881030017024  1208265880146046976       bot#9          bot   \n",
       "1               3171109449  1091463908118941696    human#17        human   \n",
       "2      1110686081341632512  1199055191028293633      bot#23          bot   \n",
       "3      1110307772783124480  1214698264701722626       bot#1          bot   \n",
       "4       979586167405363200  1209229478934695937      bot#11          bot   \n",
       "...                    ...                  ...         ...          ...   \n",
       "20707  1197916267975335939  1204245032917700608      bot#12          bot   \n",
       "20708  1197916267975335939  1207011474243309570      bot#12          bot   \n",
       "20709   705113652471439361   715558455285837824      bot#16          bot   \n",
       "20710            262794965   812868913239199745     human#8        human   \n",
       "20711   979586167405363200  1194703766303338496      bot#11          bot   \n",
       "\n",
       "      class_type  account_encoded  new_col  mapped_col  lambda_col  \n",
       "0         others                1        2           2           3  \n",
       "1          human                0        0           0           0  \n",
       "2         others                1        2           2           3  \n",
       "3         others                1        2           2           3  \n",
       "4            rnn                1        2           2           3  \n",
       "...          ...              ...      ...         ...         ...  \n",
       "20707        rnn                1        2           2           3  \n",
       "20708        rnn                1        2           2           3  \n",
       "20709        rnn                1        2           2           3  \n",
       "20710      human                0        0           0           0  \n",
       "20711        rnn                1        2           2           3  \n",
       "\n",
       "[20712 rows x 9 columns]"
      ]
     },
     "execution_count": 45,
     "metadata": {},
     "output_type": "execute_result"
    }
   ],
   "source": [
    "df_filled = df.fillna(df.mean(numeric_only=True))\n",
    "df_filled"
   ]
  },
  {
   "cell_type": "markdown",
   "id": "24266ccd-82ed-4d28-bc7d-09487335182d",
   "metadata": {},
   "source": [
    "## Handling outliers using IQR"
   ]
  },
  {
   "cell_type": "code",
   "execution_count": 46,
   "id": "cddbd298-3b9e-46a8-b9e1-88883061e252",
   "metadata": {},
   "outputs": [
    {
     "data": {
      "text/html": [
       "<div>\n",
       "<style scoped>\n",
       "    .dataframe tbody tr th:only-of-type {\n",
       "        vertical-align: middle;\n",
       "    }\n",
       "\n",
       "    .dataframe tbody tr th {\n",
       "        vertical-align: top;\n",
       "    }\n",
       "\n",
       "    .dataframe thead th {\n",
       "        text-align: right;\n",
       "    }\n",
       "</style>\n",
       "<table border=\"1\" class=\"dataframe\">\n",
       "  <thead>\n",
       "    <tr style=\"text-align: right;\">\n",
       "      <th></th>\n",
       "      <th>user_id</th>\n",
       "      <th>status_id</th>\n",
       "      <th>screen_name</th>\n",
       "      <th>account.type</th>\n",
       "      <th>class_type</th>\n",
       "      <th>account_encoded</th>\n",
       "      <th>new_col</th>\n",
       "      <th>mapped_col</th>\n",
       "      <th>lambda_col</th>\n",
       "    </tr>\n",
       "  </thead>\n",
       "  <tbody>\n",
       "    <tr>\n",
       "      <th>0</th>\n",
       "      <td>1110407881030017024</td>\n",
       "      <td>1208265880146046976</td>\n",
       "      <td>bot#9</td>\n",
       "      <td>bot</td>\n",
       "      <td>others</td>\n",
       "      <td>1</td>\n",
       "      <td>2</td>\n",
       "      <td>2</td>\n",
       "      <td>3</td>\n",
       "    </tr>\n",
       "    <tr>\n",
       "      <th>1</th>\n",
       "      <td>3171109449</td>\n",
       "      <td>1091463908118941696</td>\n",
       "      <td>human#17</td>\n",
       "      <td>human</td>\n",
       "      <td>human</td>\n",
       "      <td>0</td>\n",
       "      <td>0</td>\n",
       "      <td>0</td>\n",
       "      <td>0</td>\n",
       "    </tr>\n",
       "    <tr>\n",
       "      <th>2</th>\n",
       "      <td>1110686081341632512</td>\n",
       "      <td>1199055191028293633</td>\n",
       "      <td>bot#23</td>\n",
       "      <td>bot</td>\n",
       "      <td>others</td>\n",
       "      <td>1</td>\n",
       "      <td>2</td>\n",
       "      <td>2</td>\n",
       "      <td>3</td>\n",
       "    </tr>\n",
       "    <tr>\n",
       "      <th>3</th>\n",
       "      <td>1110307772783124480</td>\n",
       "      <td>1214698264701722626</td>\n",
       "      <td>bot#1</td>\n",
       "      <td>bot</td>\n",
       "      <td>others</td>\n",
       "      <td>1</td>\n",
       "      <td>2</td>\n",
       "      <td>2</td>\n",
       "      <td>3</td>\n",
       "    </tr>\n",
       "    <tr>\n",
       "      <th>4</th>\n",
       "      <td>979586167405363200</td>\n",
       "      <td>1209229478934695937</td>\n",
       "      <td>bot#11</td>\n",
       "      <td>bot</td>\n",
       "      <td>rnn</td>\n",
       "      <td>1</td>\n",
       "      <td>2</td>\n",
       "      <td>2</td>\n",
       "      <td>3</td>\n",
       "    </tr>\n",
       "    <tr>\n",
       "      <th>...</th>\n",
       "      <td>...</td>\n",
       "      <td>...</td>\n",
       "      <td>...</td>\n",
       "      <td>...</td>\n",
       "      <td>...</td>\n",
       "      <td>...</td>\n",
       "      <td>...</td>\n",
       "      <td>...</td>\n",
       "      <td>...</td>\n",
       "    </tr>\n",
       "    <tr>\n",
       "      <th>20707</th>\n",
       "      <td>1197916267975335939</td>\n",
       "      <td>1204245032917700608</td>\n",
       "      <td>bot#12</td>\n",
       "      <td>bot</td>\n",
       "      <td>rnn</td>\n",
       "      <td>1</td>\n",
       "      <td>2</td>\n",
       "      <td>2</td>\n",
       "      <td>3</td>\n",
       "    </tr>\n",
       "    <tr>\n",
       "      <th>20708</th>\n",
       "      <td>1197916267975335939</td>\n",
       "      <td>1207011474243309570</td>\n",
       "      <td>bot#12</td>\n",
       "      <td>bot</td>\n",
       "      <td>rnn</td>\n",
       "      <td>1</td>\n",
       "      <td>2</td>\n",
       "      <td>2</td>\n",
       "      <td>3</td>\n",
       "    </tr>\n",
       "    <tr>\n",
       "      <th>20709</th>\n",
       "      <td>705113652471439361</td>\n",
       "      <td>715558455285837824</td>\n",
       "      <td>bot#16</td>\n",
       "      <td>bot</td>\n",
       "      <td>rnn</td>\n",
       "      <td>1</td>\n",
       "      <td>2</td>\n",
       "      <td>2</td>\n",
       "      <td>3</td>\n",
       "    </tr>\n",
       "    <tr>\n",
       "      <th>20710</th>\n",
       "      <td>262794965</td>\n",
       "      <td>812868913239199745</td>\n",
       "      <td>human#8</td>\n",
       "      <td>human</td>\n",
       "      <td>human</td>\n",
       "      <td>0</td>\n",
       "      <td>0</td>\n",
       "      <td>0</td>\n",
       "      <td>0</td>\n",
       "    </tr>\n",
       "    <tr>\n",
       "      <th>20711</th>\n",
       "      <td>979586167405363200</td>\n",
       "      <td>1194703766303338496</td>\n",
       "      <td>bot#11</td>\n",
       "      <td>bot</td>\n",
       "      <td>rnn</td>\n",
       "      <td>1</td>\n",
       "      <td>2</td>\n",
       "      <td>2</td>\n",
       "      <td>3</td>\n",
       "    </tr>\n",
       "  </tbody>\n",
       "</table>\n",
       "<p>20712 rows × 9 columns</p>\n",
       "</div>"
      ],
      "text/plain": [
       "                   user_id            status_id screen_name account.type  \\\n",
       "0      1110407881030017024  1208265880146046976       bot#9          bot   \n",
       "1               3171109449  1091463908118941696    human#17        human   \n",
       "2      1110686081341632512  1199055191028293633      bot#23          bot   \n",
       "3      1110307772783124480  1214698264701722626       bot#1          bot   \n",
       "4       979586167405363200  1209229478934695937      bot#11          bot   \n",
       "...                    ...                  ...         ...          ...   \n",
       "20707  1197916267975335939  1204245032917700608      bot#12          bot   \n",
       "20708  1197916267975335939  1207011474243309570      bot#12          bot   \n",
       "20709   705113652471439361   715558455285837824      bot#16          bot   \n",
       "20710            262794965   812868913239199745     human#8        human   \n",
       "20711   979586167405363200  1194703766303338496      bot#11          bot   \n",
       "\n",
       "      class_type  account_encoded  new_col  mapped_col  lambda_col  \n",
       "0         others                1        2           2           3  \n",
       "1          human                0        0           0           0  \n",
       "2         others                1        2           2           3  \n",
       "3         others                1        2           2           3  \n",
       "4            rnn                1        2           2           3  \n",
       "...          ...              ...      ...         ...         ...  \n",
       "20707        rnn                1        2           2           3  \n",
       "20708        rnn                1        2           2           3  \n",
       "20709        rnn                1        2           2           3  \n",
       "20710      human                0        0           0           0  \n",
       "20711        rnn                1        2           2           3  \n",
       "\n",
       "[20712 rows x 9 columns]"
      ]
     },
     "execution_count": 46,
     "metadata": {},
     "output_type": "execute_result"
    }
   ],
   "source": [
    "Q1 = df[\"account_encoded\"].quantile(0.25)\n",
    "Q3 = df[\"account_encoded\"].quantile(0.75)\n",
    "IQR = Q3 - Q1\n",
    "df_no_outliers = df[~((df[\"account_encoded\"] < (Q1 - 1.5 * IQR)) |  (df[\"account_encoded\"] > (Q3 + 1.5 * IQR)))]\n",
    "df_no_outliers"
   ]
  },
  {
   "cell_type": "markdown",
   "id": "fecf3861-48db-4ef2-bf13-2dbf41ef57af",
   "metadata": {},
   "source": [
    "## ===== PANDAS PLOTS ====="
   ]
  },
  {
   "cell_type": "markdown",
   "id": "81f2a857-e5a1-4465-b045-8bb4f4abdd2a",
   "metadata": {},
   "source": [
    "## ===== UNIVARIATE ANALYSIS ====="
   ]
  },
  {
   "cell_type": "markdown",
   "id": "6ae4c31f-0db0-465b-a2b1-12f636153a78",
   "metadata": {},
   "source": [
    "### Line Plot"
   ]
  },
  {
   "cell_type": "code",
   "execution_count": 47,
   "id": "feee7b4c-9e06-4636-9584-14a06aee6bae",
   "metadata": {},
   "outputs": [
    {
     "data": {
      "image/png": "[encoded data removed]",
      "text/plain": [
       "<Figure size 640x480 with 1 Axes>"
      ]
     },
     "metadata": {},
     "output_type": "display_data"
    }
   ],
   "source": [
    "value_counts_df1.plot(kind=\"line\", title=\"Line Plot - Account Encoded\")\n",
    "plt.xlabel(\"Account Type\")\n",
    "plt.ylabel(\"Count\")\n",
    "plt.show()\n"
   ]
  },
  {
   "cell_type": "markdown",
   "id": "c31b474f-f600-4e86-9770-863ba946397e",
   "metadata": {},
   "source": [
    "### Box Plot"
   ]
  },
  {
   "cell_type": "code",
   "execution_count": 48,
   "id": "cb682b2b-e9da-41b6-a4c6-357174a70dd1",
   "metadata": {},
   "outputs": [
    {
     "data": {
      "image/png": "[encoded data removed]",
      "text/plain": [
       "<Figure size 640x480 with 1 Axes>"
      ]
     },
     "metadata": {},
     "output_type": "display_data"
    }
   ],
   "source": [
    "value_counts_df.plot(kind=\"box\", title=\"Box Plot - Account Encoded\")\n",
    "plt.show()"
   ]
  },
  {
   "cell_type": "markdown",
   "id": "1346e3b5-a309-4c57-80d4-a0bf8593713a",
   "metadata": {},
   "source": [
    "### Histogram"
   ]
  },
  {
   "cell_type": "code",
   "execution_count": 49,
   "id": "6766cb09-61c4-4a90-b457-8315294d575b",
   "metadata": {},
   "outputs": [
    {
     "data": {
      "image/png": "[encoded data removed]",
      "text/plain": [
       "<Figure size 640x480 with 1 Axes>"
      ]
     },
     "metadata": {},
     "output_type": "display_data"
    }
   ],
   "source": [
    "value_counts_df1.plot(kind='hist', title=\"Histogram - Account Encoded\", edgecolor='black')\n",
    "plt.show()"
   ]
  },
  {
   "cell_type": "markdown",
   "id": "d3ffe16f-6a26-435c-8a0d-dbb720a07a30",
   "metadata": {},
   "source": [
    "### Pie Chart"
   ]
  },
  {
   "cell_type": "code",
   "execution_count": 50,
   "id": "536ef834-82aa-4ea8-b8b7-1fc57f755315",
   "metadata": {},
   "outputs": [
    {
     "data": {
      "image/png": "[encoded data removed]",
      "text/plain": [
       "<Figure size 640x480 with 1 Axes>"
      ]
     },
     "metadata": {},
     "output_type": "display_data"
    }
   ],
   "source": [
    "value_counts_df1.plot.pie(title=\"Pie Chart - Account Encoded\", autopct='%1.1f%%')\n",
    "plt.legend(value_counts_df1.index,)\n",
    "plt.show()"
   ]
  },
  {
   "cell_type": "markdown",
   "id": "a160baec-8224-40ef-9bda-f62c10f6653c",
   "metadata": {},
   "source": [
    "### Bar Plot"
   ]
  },
  {
   "cell_type": "code",
   "execution_count": 51,
   "id": "071726d8-a771-4c70-a94b-e9b030631a46",
   "metadata": {},
   "outputs": [
    {
     "data": {
      "image/png": "[encoded data removed]",
      "text/plain": [
       "<Figure size 640x480 with 1 Axes>"
      ]
     },
     "metadata": {},
     "output_type": "display_data"
    }
   ],
   "source": [
    "value_counts_df1.plot(kind='bar', title=\"Bar Plot - Account Encoded\")\n",
    "plt.show()"
   ]
  },
  {
   "cell_type": "markdown",
   "id": "1409a6fb-3ddf-4ad7-9dc6-579a100a6b12",
   "metadata": {},
   "source": [
    "### Seaborn Countplot"
   ]
  },
  {
   "cell_type": "code",
   "execution_count": 52,
   "id": "57f94e88-2490-4daf-8811-17731870f2cc",
   "metadata": {},
   "outputs": [
    {
     "data": {
      "image/png": "[encoded data removed]",
      "text/plain": [
       "<Figure size 640x480 with 1 Axes>"
      ]
     },
     "metadata": {},
     "output_type": "display_data"
    }
   ],
   "source": [
    "sns.countplot(x='account.type', data=df)\n",
    "plt.title(\"Countplot - Account Type\")\n",
    "plt.show()"
   ]
  },
  {
   "cell_type": "markdown",
   "id": "8ef70083-2af9-4232-b7ed-1a449f010fa9",
   "metadata": {},
   "source": [
    "## ===== BIVARIATE ANALYSIS ====="
   ]
  },
  {
   "cell_type": "markdown",
   "id": "6e4746f9-1ba5-49a3-a957-803ab2adac92",
   "metadata": {},
   "source": [
    "### Scatter Plot"
   ]
  },
  {
   "cell_type": "code",
   "execution_count": 53,
   "id": "d7dc2842-9e2b-4e69-9a21-b55f67c91a4e",
   "metadata": {},
   "outputs": [
    {
     "data": {
      "image/png": "[encoded data removed]",
      "text/plain": [
       "<Figure size 640x480 with 1 Axes>"
      ]
     },
     "metadata": {},
     "output_type": "display_data"
    }
   ],
   "source": [
    "plt.scatter(value_counts_df1.index, value_counts_df1.values)\n",
    "plt.title(\"Bivariate Scatter Plot\")\n",
    "plt.xlabel(\"Account Type\")\n",
    "plt.ylabel(\"Count\")\n",
    "plt.show()\n"
   ]
  },
  {
   "cell_type": "markdown",
   "id": "cb618349-ce51-41d7-932b-af8ebd904e60",
   "metadata": {},
   "source": [
    "### Seaborn Barplot \n"
   ]
  },
  {
   "cell_type": "code",
   "execution_count": 54,
   "id": "556afdd2-64d0-4394-b087-d3a1e77a7dd9",
   "metadata": {},
   "outputs": [
    {
     "data": {
      "image/png": "[encoded data removed]",
      "text/plain": [
       "<Figure size 640x480 with 1 Axes>"
      ]
     },
     "metadata": {},
     "output_type": "display_data"
    }
   ],
   "source": [
    "sns.barplot( data=value_counts_df1)\n",
    "plt.title(\"Barplot - Mean Encoded Value\")\n",
    "plt.show()\n"
   ]
  },
  {
   "cell_type": "markdown",
   "id": "2d4ebb69-4aa4-4bc5-8060-a55450f49367",
   "metadata": {},
   "source": [
    "### Boxplot\n"
   ]
  },
  {
   "cell_type": "code",
   "execution_count": 55,
   "id": "9a18784c-f142-4208-a4fd-bb11e3a22bf3",
   "metadata": {},
   "outputs": [
    {
     "data": {
      "image/png": "[encoded data removed]",
      "text/plain": [
       "<Figure size 640x480 with 1 Axes>"
      ]
     },
     "metadata": {},
     "output_type": "display_data"
    }
   ],
   "source": [
    "sns.boxplot( data=value_counts_df1)\n",
    "plt.title(\"Boxplot - Encoded Value by Class Type\")\n",
    "# plt.xticks(rotation=45)\n",
    "plt.show()"
   ]
  },
  {
   "cell_type": "code",
   "execution_count": null,
   "id": "baf64531-a295-4787-bf85-a0b97cbbcb1e",
   "metadata": {},
   "outputs": [],
   "source": []
  }
 ],
 "metadata": {
  "kernelspec": {
   "display_name": "Python 3 (ipykernel)",
   "language": "python",
   "name": "python3"
  },
  "language_info": {
   "codemirror_mode": {
    "name": "ipython",
    "version": 3
   },
   "file_extension": ".py",
   "mimetype": "text/x-python",
   "name": "python",
   "nbconvert_exporter": "python",
   "pygments_lexer": "ipython3",
   "version": "3.13.6"
  }
 },
 "nbformat": 4,
 "nbformat_minor": 5
}
